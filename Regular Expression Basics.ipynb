{
 "cells": [
  {
   "cell_type": "code",
   "execution_count": 1,
   "metadata": {},
   "outputs": [],
   "source": [
    "import pandas as pd\n",
    "import numpy as np"
   ]
  },
  {
   "cell_type": "code",
   "execution_count": 2,
   "metadata": {},
   "outputs": [
    {
     "name": "stdout",
     "output_type": "stream",
     "text": [
      "hn added successfully\n"
     ]
    }
   ],
   "source": [
    "hn = pd.read_csv(\"C:/Users/obalana prosper/Videos/New folder (3)/hacker_news.csv\")\n",
    "print(\"hn added successfully\")"
   ]
  },
  {
   "cell_type": "code",
   "execution_count": 3,
   "metadata": {},
   "outputs": [
    {
     "data": {
      "text/html": [
       "<div>\n",
       "<style scoped>\n",
       "    .dataframe tbody tr th:only-of-type {\n",
       "        vertical-align: middle;\n",
       "    }\n",
       "\n",
       "    .dataframe tbody tr th {\n",
       "        vertical-align: top;\n",
       "    }\n",
       "\n",
       "    .dataframe thead th {\n",
       "        text-align: right;\n",
       "    }\n",
       "</style>\n",
       "<table border=\"1\" class=\"dataframe\">\n",
       "  <thead>\n",
       "    <tr style=\"text-align: right;\">\n",
       "      <th></th>\n",
       "      <th>id</th>\n",
       "      <th>title</th>\n",
       "      <th>url</th>\n",
       "      <th>num_points</th>\n",
       "      <th>num_comments</th>\n",
       "      <th>author</th>\n",
       "      <th>created_at</th>\n",
       "    </tr>\n",
       "  </thead>\n",
       "  <tbody>\n",
       "    <tr>\n",
       "      <th>0</th>\n",
       "      <td>12224879</td>\n",
       "      <td>Interactive Dynamic Video</td>\n",
       "      <td>http://www.interactivedynamicvideo.com/</td>\n",
       "      <td>386</td>\n",
       "      <td>52</td>\n",
       "      <td>ne0phyte</td>\n",
       "      <td>8/4/2016 11:52</td>\n",
       "    </tr>\n",
       "    <tr>\n",
       "      <th>1</th>\n",
       "      <td>10975351</td>\n",
       "      <td>How to Use Open Source and Shut the Fuck Up at...</td>\n",
       "      <td>http://hueniverse.com/2016/01/26/how-to-use-op...</td>\n",
       "      <td>39</td>\n",
       "      <td>10</td>\n",
       "      <td>josep2</td>\n",
       "      <td>1/26/2016 19:30</td>\n",
       "    </tr>\n",
       "    <tr>\n",
       "      <th>2</th>\n",
       "      <td>11964716</td>\n",
       "      <td>Florida DJs May Face Felony for April Fools' W...</td>\n",
       "      <td>http://www.thewire.com/entertainment/2013/04/f...</td>\n",
       "      <td>2</td>\n",
       "      <td>1</td>\n",
       "      <td>vezycash</td>\n",
       "      <td>6/23/2016 22:20</td>\n",
       "    </tr>\n",
       "    <tr>\n",
       "      <th>3</th>\n",
       "      <td>11919867</td>\n",
       "      <td>Technology ventures: From Idea to Enterprise</td>\n",
       "      <td>https://www.amazon.com/Technology-Ventures-Ent...</td>\n",
       "      <td>3</td>\n",
       "      <td>1</td>\n",
       "      <td>hswarna</td>\n",
       "      <td>6/17/2016 0:01</td>\n",
       "    </tr>\n",
       "    <tr>\n",
       "      <th>4</th>\n",
       "      <td>10301696</td>\n",
       "      <td>Note by Note: The Making of Steinway L1037 (2007)</td>\n",
       "      <td>http://www.nytimes.com/2007/11/07/movies/07ste...</td>\n",
       "      <td>8</td>\n",
       "      <td>2</td>\n",
       "      <td>walterbell</td>\n",
       "      <td>9/30/2015 4:12</td>\n",
       "    </tr>\n",
       "  </tbody>\n",
       "</table>\n",
       "</div>"
      ],
      "text/plain": [
       "         id                                              title  \\\n",
       "0  12224879                          Interactive Dynamic Video   \n",
       "1  10975351  How to Use Open Source and Shut the Fuck Up at...   \n",
       "2  11964716  Florida DJs May Face Felony for April Fools' W...   \n",
       "3  11919867       Technology ventures: From Idea to Enterprise   \n",
       "4  10301696  Note by Note: The Making of Steinway L1037 (2007)   \n",
       "\n",
       "                                                 url  num_points  \\\n",
       "0            http://www.interactivedynamicvideo.com/         386   \n",
       "1  http://hueniverse.com/2016/01/26/how-to-use-op...          39   \n",
       "2  http://www.thewire.com/entertainment/2013/04/f...           2   \n",
       "3  https://www.amazon.com/Technology-Ventures-Ent...           3   \n",
       "4  http://www.nytimes.com/2007/11/07/movies/07ste...           8   \n",
       "\n",
       "   num_comments      author       created_at  \n",
       "0            52    ne0phyte   8/4/2016 11:52  \n",
       "1            10      josep2  1/26/2016 19:30  \n",
       "2             1    vezycash  6/23/2016 22:20  \n",
       "3             1     hswarna   6/17/2016 0:01  \n",
       "4             2  walterbell   9/30/2015 4:12  "
      ]
     },
     "execution_count": 3,
     "metadata": {},
     "output_type": "execute_result"
    }
   ],
   "source": [
    "hn.head()"
   ]
  },
  {
   "cell_type": "code",
   "execution_count": 4,
   "metadata": {},
   "outputs": [
    {
     "data": {
      "text/plain": [
       "Index(['id', 'title', 'url', 'num_points', 'num_comments', 'author',\n",
       "       'created_at'],\n",
       "      dtype='object')"
      ]
     },
     "execution_count": 4,
     "metadata": {},
     "output_type": "execute_result"
    }
   ],
   "source": [
    "hn.columns"
   ]
  },
  {
   "cell_type": "markdown",
   "metadata": {},
   "source": [
    "### The Regular Expression Module"
   ]
  },
  {
   "cell_type": "code",
   "execution_count": 5,
   "metadata": {},
   "outputs": [],
   "source": [
    "import re"
   ]
  },
  {
   "cell_type": "code",
   "execution_count": 6,
   "metadata": {},
   "outputs": [
    {
     "name": "stdout",
     "output_type": "stream",
     "text": [
      "<_sre.SRE_Match object; span=(1, 4), match='and'>\n"
     ]
    }
   ],
   "source": [
    "m = re.search('and','hand')\n",
    "print(m)"
   ]
  },
  {
   "cell_type": "code",
   "execution_count": 7,
   "metadata": {},
   "outputs": [
    {
     "name": "stdout",
     "output_type": "stream",
     "text": [
      "None\n"
     ]
    }
   ],
   "source": [
    "m = re.search('and','antidote')\n",
    "print(m)"
   ]
  },
  {
   "cell_type": "code",
   "execution_count": 9,
   "metadata": {},
   "outputs": [
    {
     "name": "stdout",
     "output_type": "stream",
     "text": [
      "Match\n",
      "No Match\n",
      "No Match\n"
     ]
    }
   ],
   "source": [
    "string_list = [\"Julie's favorite color is Blue.\",\n",
    "              \"Keli's favorite color is Green\",\n",
    "              \"Craig favorite colors are blue and red\"]\n",
    "pattern = 'Blue'\n",
    "\n",
    "for s in string_list:\n",
    "    if re.search(pattern, s):\n",
    "        print('Match')\n",
    "    else: \n",
    "        print('No Match')"
   ]
  },
  {
   "cell_type": "markdown",
   "metadata": {},
   "source": [
    "[msb]end\n",
    "\n",
    "msb - one of m,s and b\n",
    "end - the substring end\n",
    "\n",
    "[Aa]nd - hand,android,Andrew\n",
    "\n",
    "an[dt] - hand,android,antidote"
   ]
  },
  {
   "cell_type": "code",
   "execution_count": 12,
   "metadata": {},
   "outputs": [
    {
     "name": "stdout",
     "output_type": "stream",
     "text": [
      "Match\n",
      "No Match\n",
      "Match\n",
      "2\n"
     ]
    }
   ],
   "source": [
    "string_list = [\"Julie's favorite color is Blue.\",\n",
    "              \"Keli's favorite color is Green\",\n",
    "              \"Craig favorite colors are blue and red\"]\n",
    "blue_mentions = 0\n",
    "pattern = '[Bb]lue'\n",
    "\n",
    "for s in string_list:\n",
    "    if re.search(pattern, s):\n",
    "        blue_mentions += 1\n",
    "        print('Match')\n",
    "    else: \n",
    "        print('No Match')\n",
    "print(blue_mentions)"
   ]
  },
  {
   "cell_type": "code",
   "execution_count": 13,
   "metadata": {},
   "outputs": [
    {
     "name": "stdout",
     "output_type": "stream",
     "text": [
      "160\n"
     ]
    }
   ],
   "source": [
    "titles = hn['title'].tolist()\n",
    "python_mentions = 0\n",
    "pattern = '[pP]ython'\n",
    "\n",
    "for s in titles:\n",
    "    if re.search(pattern, s):\n",
    "        python_mentions += 1\n",
    "print(python_mentions)"
   ]
  },
  {
   "cell_type": "markdown",
   "metadata": {},
   "source": [
    "### Counting Matches with pandas Methods"
   ]
  },
  {
   "cell_type": "markdown",
   "metadata": {},
   "source": [
    "Series.str.contains() method can also be used to tesst whether a series of strings match a particular regex pattern"
   ]
  },
  {
   "cell_type": "code",
   "execution_count": 14,
   "metadata": {},
   "outputs": [
    {
     "name": "stdout",
     "output_type": "stream",
     "text": [
      "0          Julie's favorite color is green.\n",
      "1             Keli's favorite color is Blue\n",
      "2    Craig favorite colors are blue and red\n",
      "dtype: object\n"
     ]
    }
   ],
   "source": [
    "eg_list = [\"Julie's favorite color is green.\",\n",
    "              \"Keli's favorite color is Blue\",\n",
    "              \"Craig favorite colors are blue and red\"]\n",
    "eg_series = pd.Series(eg_list)\n",
    "print(eg_series)"
   ]
  },
  {
   "cell_type": "code",
   "execution_count": 15,
   "metadata": {},
   "outputs": [
    {
     "name": "stdout",
     "output_type": "stream",
     "text": [
      "0    False\n",
      "1     True\n",
      "2     True\n",
      "dtype: bool\n"
     ]
    }
   ],
   "source": [
    "pattern ='[Bb]lue'\n",
    "pattern_contained = eg_series.str.contains(pattern)\n",
    "print(pattern_contained)"
   ]
  },
  {
   "cell_type": "code",
   "execution_count": 16,
   "metadata": {},
   "outputs": [
    {
     "data": {
      "text/plain": [
       "2"
      ]
     },
     "execution_count": 16,
     "metadata": {},
     "output_type": "execute_result"
    }
   ],
   "source": [
    "pattern_contained.sum()"
   ]
  },
  {
   "cell_type": "code",
   "execution_count": 224,
   "metadata": {},
   "outputs": [],
   "source": [
    "titles = hn['title']\n",
    "pattern = '[pP]ython'\n",
    "python_mentions = titles.str.contains(pattern).sum()"
   ]
  },
  {
   "cell_type": "code",
   "execution_count": 225,
   "metadata": {},
   "outputs": [
    {
     "data": {
      "text/plain": [
       "160"
      ]
     },
     "execution_count": 225,
     "metadata": {},
     "output_type": "execute_result"
    }
   ],
   "source": [
    "python_mentions"
   ]
  },
  {
   "cell_type": "markdown",
   "metadata": {},
   "source": [
    "### Using Regular Expressions to Select Data"
   ]
  },
  {
   "cell_type": "code",
   "execution_count": 30,
   "metadata": {},
   "outputs": [
    {
     "name": "stdout",
     "output_type": "stream",
     "text": [
      "0    False\n",
      "1    False\n",
      "2    False\n",
      "3    False\n",
      "4    False\n",
      "Name: title, dtype: bool\n"
     ]
    }
   ],
   "source": [
    "py_titles_bool = titles.str.contains(pattern)\n",
    "print(py_titles_bool.head())"
   ]
  },
  {
   "cell_type": "code",
   "execution_count": 33,
   "metadata": {},
   "outputs": [
    {
     "name": "stdout",
     "output_type": "stream",
     "text": [
      "103                  From Python to Lua: Why We Switched\n",
      "104            Ubuntu 16.04 LTS to Ship Without Python 2\n",
      "145    Create a GUI Application Using Qt and Python i...\n",
      "197    How I Solved GCHQ's Xmas Card with Python and ...\n",
      "437    Unikernel Power Comes to Java, Node.js, Go, an...\n",
      "Name: title, dtype: object\n"
     ]
    }
   ],
   "source": [
    "py_titles = titles[py_titles_bool]\n",
    "print(py_titles.head())"
   ]
  },
  {
   "cell_type": "code",
   "execution_count": 34,
   "metadata": {},
   "outputs": [
    {
     "name": "stdout",
     "output_type": "stream",
     "text": [
      "103                  From Python to Lua: Why We Switched\n",
      "104            Ubuntu 16.04 LTS to Ship Without Python 2\n",
      "145    Create a GUI Application Using Qt and Python i...\n",
      "197    How I Solved GCHQ's Xmas Card with Python and ...\n",
      "437    Unikernel Power Comes to Java, Node.js, Go, an...\n",
      "Name: title, dtype: object\n"
     ]
    }
   ],
   "source": [
    "py_titles = titles[titles.str.contains(\"[Pp]ython\")]\n",
    "print(py_titles.head())"
   ]
  },
  {
   "cell_type": "code",
   "execution_count": 36,
   "metadata": {},
   "outputs": [],
   "source": [
    "ruby_titles = titles[titles.str.contains('[rR]uby')]"
   ]
  },
  {
   "cell_type": "code",
   "execution_count": 37,
   "metadata": {},
   "outputs": [
    {
     "name": "stdout",
     "output_type": "stream",
     "text": [
      "191                    Ruby on Google AppEngine Goes Beta\n",
      "485          Related: Pure Ruby Relational Algebra Engine\n",
      "1389    Show HN: HTTPalooza  Ruby's greatest HTTP clie...\n",
      "1950    Rewriting a Ruby C Extension in Rust: How a Na...\n",
      "2023    Show HN: CrashBreak  Reproduce exceptions as f...\n",
      "Name: title, dtype: object\n"
     ]
    }
   ],
   "source": [
    "print(ruby_titles.head())"
   ]
  },
  {
   "cell_type": "markdown",
   "metadata": {},
   "source": [
    "### Quantifiers"
   ]
  },
  {
   "cell_type": "markdown",
   "metadata": {},
   "source": [
    "[1-2][0-9]{3}\n",
    "\n",
    "[1-2] - Any digit between 1 and 2\n",
    "\n",
    "[0-9] - Any digit between 0 and 9\n",
    "\n",
    "{3} - Repeat the previous range 3 times\n",
    "\n",
    "a{3,5} - a three,four or five times\n",
    "\n",
    "a{,3} - The character a zero, one ,two or three times\n",
    "\n",
    "a{8,} - a eight or more times\n",
    "\n",
    "a* - a{0,}\n",
    "\n",
    "a+ - a{1,}\n",
    "\n",
    "a? - a{0,1} zero or one more times"
   ]
  },
  {
   "cell_type": "code",
   "execution_count": 110,
   "metadata": {},
   "outputs": [
    {
     "name": "stderr",
     "output_type": "stream",
     "text": [
      "C:\\Users\\obalana prosper\\Videos\\New folder\\New folder\\lib\\site-packages\\ipykernel_launcher.py:1: UserWarning: This pattern has match groups. To actually get the groups, use str.extract.\n",
      "  \"\"\"Entry point for launching an IPython kernel.\n"
     ]
    }
   ],
   "source": [
    "email_bool = titles.str.contains('e(-)?mail')"
   ]
  },
  {
   "cell_type": "code",
   "execution_count": 111,
   "metadata": {},
   "outputs": [
    {
     "data": {
      "text/plain": [
       "86"
      ]
     },
     "execution_count": 111,
     "metadata": {},
     "output_type": "execute_result"
    }
   ],
   "source": [
    "email_count = email_bool.sum()\n",
    "email_count"
   ]
  },
  {
   "cell_type": "code",
   "execution_count": 106,
   "metadata": {},
   "outputs": [],
   "source": [
    "email_titles = titles[email_bool]"
   ]
  },
  {
   "cell_type": "code",
   "execution_count": 112,
   "metadata": {},
   "outputs": [
    {
     "data": {
      "text/plain": [
       "120     Show HN: Send an email from your shell to your...\n",
       "314         Disposable emails for safe spam free shopping\n",
       "1362    Ask HN: Doing cold emails? helps us prove this...\n",
       "1751    Protect yourself from spam, bots and phishing ...\n",
       "2422                   Ashley Madison hack treating email\n",
       "Name: title, dtype: object"
      ]
     },
     "execution_count": 112,
     "metadata": {},
     "output_type": "execute_result"
    }
   ],
   "source": [
    "email_titles.head()"
   ]
  },
  {
   "cell_type": "markdown",
   "metadata": {},
   "source": [
    "### Character Class"
   ]
  },
  {
   "cell_type": "markdown",
   "metadata": {},
   "source": [
    "1. [pdf]\n",
    "   one of p,d or f\n",
    "   to match brackets\n",
    "  \\[pdf\\]\n",
    "\n",
    "2. [a-e] = a,b,c,d or e\n",
    "   0-3 = 0,1,2,3\n",
    "   A-Z = UpperCase Letters\n",
    "   A-Za-z = any uppercase and lowercase\n",
    "\n",
    "3. \\d - any digit character(equivalent to [0-9])\n",
    "4. \\w - [A-Za-z0-9_ ]\n",
    "5. \\s - Any space tab or linebreak character\n",
    "6. Dot - (.) Any character except new line"
   ]
  },
  {
   "cell_type": "code",
   "execution_count": null,
   "metadata": {},
   "outputs": [],
   "source": []
  },
  {
   "cell_type": "markdown",
   "metadata": {},
   "source": [
    "Write a regular expression assigning it as a string to the variable pattern. The regular\n",
    "expression should match in order\n",
    "1. A single open bracket character\n",
    "2. One or more characters.\n",
    "3. A single close bracket character"
   ]
  },
  {
   "cell_type": "code",
   "execution_count": 206,
   "metadata": {},
   "outputs": [
    {
     "name": "stdout",
     "output_type": "stream",
     "text": [
      "444\n"
     ]
    },
    {
     "name": "stderr",
     "output_type": "stream",
     "text": [
      "C:\\Users\\obalana prosper\\Videos\\New folder\\New folder\\lib\\site-packages\\ipykernel_launcher.py:2: UserWarning: This pattern has match groups. To actually get the groups, use str.extract.\n",
      "  \n"
     ]
    }
   ],
   "source": [
    "pattern = '(\\[\\w+\\])'\n",
    "tag_titles = titles.str.contains(pattern)\n",
    "tag_count = tag_titles.sum()\n",
    "print(tag_count)"
   ]
  },
  {
   "cell_type": "markdown",
   "metadata": {},
   "source": [
    "### Acessing the Matching Text with Capture Group"
   ]
  },
  {
   "cell_type": "markdown",
   "metadata": {},
   "source": [
    "\\b represent a backspace"
   ]
  },
  {
   "cell_type": "code",
   "execution_count": 142,
   "metadata": {
    "scrolled": true
   },
   "outputs": [
    {
     "name": "stdout",
     "output_type": "stream",
     "text": [
      "hello\b world\n"
     ]
    }
   ],
   "source": [
    "print('hello\\b world')"
   ]
  },
  {
   "cell_type": "code",
   "execution_count": 143,
   "metadata": {
    "scrolled": true
   },
   "outputs": [
    {
     "name": "stdout",
     "output_type": "stream",
     "text": [
      "hello\\b world\n"
     ]
    }
   ],
   "source": [
    "print('hello\\\\b world')"
   ]
  },
  {
   "cell_type": "code",
   "execution_count": 149,
   "metadata": {},
   "outputs": [
    {
     "name": "stdout",
     "output_type": "stream",
     "text": [
      "hello\\b world\n"
     ]
    }
   ],
   "source": [
    "print(r'hello\\b world')"
   ]
  },
  {
   "cell_type": "markdown",
   "metadata": {},
   "source": [
    "([\\w+\\])"
   ]
  },
  {
   "cell_type": "code",
   "execution_count": 207,
   "metadata": {},
   "outputs": [],
   "source": [
    "tag_5 = titles[tag_titles].head()"
   ]
  },
  {
   "cell_type": "code",
   "execution_count": 208,
   "metadata": {},
   "outputs": [
    {
     "name": "stdout",
     "output_type": "stream",
     "text": [
      "67     Analysis of 114 propaganda sources from ISIS, ...\n",
      "101    Munich Gunman Got Weapon from the Darknet [Ger...\n",
      "160         File indexing and searching for Plan 9 [pdf]\n",
      "163    Attack on Kunduz Trauma Centre, Afghanistan  I...\n",
      "196               [Beta] Speedtest.net  HTML5 Speed Test\n",
      "Name: title, dtype: object\n"
     ]
    }
   ],
   "source": [
    "print(tag_5)"
   ]
  },
  {
   "cell_type": "code",
   "execution_count": 235,
   "metadata": {},
   "outputs": [
    {
     "name": "stdout",
     "output_type": "stream",
     "text": [
      "67        [pdf]\n",
      "101    [German]\n",
      "160       [pdf]\n",
      "163       [pdf]\n",
      "196      [Beta]\n",
      "Name: title, dtype: object\n"
     ]
    }
   ],
   "source": [
    "pattern = r\"(\\[\\w+\\])\"\n",
    "tag_5_matches = tag_5.str.extract(pattern,expand = False)\n",
    "print(tag_5_matches)"
   ]
  },
  {
   "cell_type": "code",
   "execution_count": null,
   "metadata": {},
   "outputs": [],
   "source": []
  },
  {
   "cell_type": "code",
   "execution_count": 241,
   "metadata": {
    "scrolled": true
   },
   "outputs": [
    {
     "name": "stdout",
     "output_type": "stream",
     "text": [
      "67        pdf\n",
      "101    German\n",
      "160       pdf\n",
      "163       pdf\n",
      "196      Beta\n",
      "Name: title, dtype: object\n"
     ]
    }
   ],
   "source": [
    "pattern = r\"\\[(\\w+)\\]\"\n",
    "tag_5_matches = tag_5.str.extract(pattern,expand = False)\n",
    "print(tag_5_matches)"
   ]
  },
  {
   "cell_type": "code",
   "execution_count": 242,
   "metadata": {},
   "outputs": [
    {
     "data": {
      "text/plain": [
       "pdf       3\n",
       "Beta      1\n",
       "German    1\n",
       "Name: title, dtype: int64"
      ]
     },
     "execution_count": 242,
     "metadata": {},
     "output_type": "execute_result"
    }
   ],
   "source": [
    "tag_5_matches.value_counts()"
   ]
  },
  {
   "cell_type": "code",
   "execution_count": 233,
   "metadata": {},
   "outputs": [],
   "source": [
    "titles = hn['title']\n",
    "pattern = r\"\\[(\\w+)\\]\"\n",
    "tag_freq = titles.str.extract(pattern,expand = False).value_counts()"
   ]
  },
  {
   "cell_type": "code",
   "execution_count": null,
   "metadata": {},
   "outputs": [],
   "source": []
  },
  {
   "cell_type": "markdown",
   "metadata": {},
   "source": [
    "### Negative Character Class "
   ]
  },
  {
   "cell_type": "code",
   "execution_count": 247,
   "metadata": {},
   "outputs": [],
   "source": [
    "def first_ten_matches(pattern):\n",
    "    all_matches = titles[titles.str.contains(pattern)]\n",
    "    first_10 = all_matches.head(10)\n",
    "    return first_10"
   ]
  },
  {
   "cell_type": "code",
   "execution_count": 248,
   "metadata": {},
   "outputs": [
    {
     "data": {
      "text/plain": [
       "268      Show HN: Hire JavaScript - Top JavaScript Talent\n",
       "437     Unikernel Power Comes to Java, Node.js, Go, an...\n",
       "581     Python integration for the Duktape Javascript ...\n",
       "812     Ask HN: Are there any projects or compilers wh...\n",
       "1024                         Pippo  Web framework in Java\n",
       "1047    If you write JavaScript tools or libraries, bu...\n",
       "1094    Rollup.js: A next-generation JavaScript module...\n",
       "1163                 V8 JavaScript Engine: V8 Release 5.4\n",
       "1196                   Proposed JavaScript Standard Style\n",
       "1315           Show HN: Design by Contract for JavaScript\n",
       "Name: title, dtype: object"
      ]
     },
     "execution_count": 248,
     "metadata": {},
     "output_type": "execute_result"
    }
   ],
   "source": [
    "first_ten_matches(r'[Jj]ava')"
   ]
  },
  {
   "cell_type": "markdown",
   "metadata": {},
   "source": [
    "1. [^fud] any character except f,u or d\n",
    "2. [^1-3Z\\s] except 1,2,3,Z or whitespace characters\n",
    "3. \\D except digit Characters\n",
    "4. \\W Any character except word characters\n",
    "5. \\S any character except white space characters"
   ]
  },
  {
   "cell_type": "code",
   "execution_count": 252,
   "metadata": {},
   "outputs": [],
   "source": [
    "def first_ten_matches(pattern):\n",
    "    all_matches = titles[titles.str.contains(pattern)]\n",
    "    first_10 = all_matches.head(10)\n",
    "    return all_matches\n",
    "    \n"
   ]
  },
  {
   "cell_type": "code",
   "execution_count": 253,
   "metadata": {},
   "outputs": [
    {
     "data": {
      "text/plain": [
       "437      Unikernel Power Comes to Java, Node.js, Go, an...\n",
       "812      Ask HN: Are there any projects or compilers wh...\n",
       "1841                     Adopting RxJava on the Airbnb App\n",
       "1973           Node.js vs. Java: Which Is Faster for APIs?\n",
       "2094                     Java EE and Microservices in 2016\n",
       "2368     Code that is valid in both PHP and Java, and p...\n",
       "2494     Ask HN: I've been a java dev for a couple of y...\n",
       "2752                 Eventsourcing for Java 0.4.0 released\n",
       "2911                 2016 JavaOne Intel Keynote  32mn Talk\n",
       "3453     What are the Differences Between Java Platform...\n",
       "4274      Ask HN: Is Bloch's Effective Java Still Current?\n",
       "4625     Oracle Discloses Critical Java Vulnerability i...\n",
       "5462                        Lambdas (in Java 8) Screencast\n",
       "5848     IntelliJ IDEA and the whole IntelliJ platform ...\n",
       "5948                                        JavaFX is dead\n",
       "6269             Oracle deprecating Java applets in Java 9\n",
       "7437     Forget Guava: 5 Google Libraries Java Develope...\n",
       "7482     Ask HN: Beside Java what languages have a stro...\n",
       "8101        Advantages of Functional Programming in Java 8\n",
       "8136     Show HN: Rogue AI Dungeon, javacript bot scrip...\n",
       "8448                  Show HN: Java multicore intelligence\n",
       "8488     Why IntelliJ IDEA is hailed as the most friend...\n",
       "8985     Ask HN: Should Learn/switch to JavaScript Prog...\n",
       "8988     Last-khajiit/vkb: Java bot for vk.com competit...\n",
       "10530             Angular 2 coming to Java, Python and PHP\n",
       "11455    Ask HN: Java or .NET for a new big enterprise ...\n",
       "11903                         The Java Deserialization Bug\n",
       "12383          Ask HN: Why does Java continue to dominate?\n",
       "12583    Java Memory Model Examples: Good, Bad and Ugly...\n",
       "12712    Oracle seeks $9.3B for Googles use of Java in ...\n",
       "13049        A high performance caching library for Java 8\n",
       "13106    Show HN: Backblaze-b2 is a simple java library...\n",
       "13151             Java Tops TIOBE's Popular-Languages List\n",
       "13171    Show HN: Tablesaw: A Java data-frame for 500M-...\n",
       "13273      Java StringBuffer and StringBuilder performance\n",
       "13621    1M Java questions have now been asked on Stack...\n",
       "13840        Ask HN: Hosting a Java Spring web application\n",
       "13844                                 Var and val in Java?\n",
       "13845               Answerz.com  Java and J2ee Programming\n",
       "13931     Java 8s new Optional type doesn't solve anything\n",
       "13935    Java 6 vs. Java 7 vs. Java 8 between 2013  201...\n",
       "15258                       Oracle and the fall of Java EE\n",
       "15869                 Java generics never cease to impress\n",
       "16024    Will you use ReactJS with a REST service inste...\n",
       "16933       Swift versus Java: the bitset performance test\n",
       "16949          Show HN: Bt  0-hassle BitTorrent for Java 8\n",
       "17580                Java Lazy Streamed Zip Implementation\n",
       "18408    Show HN: Scala idioms in Java: cases, patterns...\n",
       "19482    Show HN: Adding List Comprehension in Java - E...\n",
       "19736          Java Named Top Programming Language of 2015\n",
       "Name: title, dtype: object"
      ]
     },
     "execution_count": 253,
     "metadata": {},
     "output_type": "execute_result"
    }
   ],
   "source": [
    "first_ten_matches(r'[Jj]ava[^Ss]')"
   ]
  },
  {
   "cell_type": "code",
   "execution_count": null,
   "metadata": {},
   "outputs": [],
   "source": []
  },
  {
   "cell_type": "markdown",
   "metadata": {},
   "source": [
    "### Word Boundaries"
   ]
  },
  {
   "cell_type": "code",
   "execution_count": 254,
   "metadata": {},
   "outputs": [
    {
     "name": "stdout",
     "output_type": "stream",
     "text": [
      "None\n"
     ]
    }
   ],
   "source": [
    "string = 'Sometimes people confuse JavaScript with Java'\n",
    "pattern_1 = r'Java[^S]'\n",
    "m1 = re.search(pattern_1,string)\n",
    "print(m1)"
   ]
  },
  {
   "cell_type": "code",
   "execution_count": 255,
   "metadata": {},
   "outputs": [
    {
     "name": "stdout",
     "output_type": "stream",
     "text": [
      "<_sre.SRE_Match object; span=(41, 45), match='Java'>\n"
     ]
    }
   ],
   "source": [
    "string = 'Sometimes people confuse JavaScript with Java'\n",
    "pattern_1 = r'\\bJava\\b'\n",
    "m1 = re.search(pattern_1,string)\n",
    "print(m1)"
   ]
  },
  {
   "cell_type": "code",
   "execution_count": 256,
   "metadata": {},
   "outputs": [
    {
     "data": {
      "text/plain": [
       "437      Unikernel Power Comes to Java, Node.js, Go, an...\n",
       "812      Ask HN: Are there any projects or compilers wh...\n",
       "1024                          Pippo  Web framework in Java\n",
       "1973           Node.js vs. Java: Which Is Faster for APIs?\n",
       "2094                     Java EE and Microservices in 2016\n",
       "2368     Code that is valid in both PHP and Java, and p...\n",
       "2494     Ask HN: I've been a java dev for a couple of y...\n",
       "2752                 Eventsourcing for Java 0.4.0 released\n",
       "3229                               Comparing Rust and Java\n",
       "3453     What are the Differences Between Java Platform...\n",
       "3628                     Friends don't let friends do Java\n",
       "4274      Ask HN: Is Bloch's Effective Java Still Current?\n",
       "4625     Oracle Discloses Critical Java Vulnerability i...\n",
       "5462                        Lambdas (in Java 8) Screencast\n",
       "5848     IntelliJ IDEA and the whole IntelliJ platform ...\n",
       "6269             Oracle deprecating Java applets in Java 9\n",
       "7437     Forget Guava: 5 Google Libraries Java Develope...\n",
       "7482     Ask HN: Beside Java what languages have a stro...\n",
       "7687             Insider: Oracle has lost interest in Java\n",
       "8101        Advantages of Functional Programming in Java 8\n",
       "8448                  Show HN: Java multicore intelligence\n",
       "8488     Why IntelliJ IDEA is hailed as the most friend...\n",
       "8985     Ask HN: Should Learn/switch to JavaScript Prog...\n",
       "8988     Last-khajiit/vkb: Java bot for vk.com competit...\n",
       "10530             Angular 2 coming to Java, Python and PHP\n",
       "11455    Ask HN: Java or .NET for a new big enterprise ...\n",
       "11903                         The Java Deserialization Bug\n",
       "12383          Ask HN: Why does Java continue to dominate?\n",
       "12583    Java Memory Model Examples: Good, Bad and Ugly...\n",
       "12712    Oracle seeks $9.3B for Googles use of Java in ...\n",
       "12731                              Show HN: Shazam in Java\n",
       "13049        A high performance caching library for Java 8\n",
       "13106    Show HN: Backblaze-b2 is a simple java library...\n",
       "13151             Java Tops TIOBE's Popular-Languages List\n",
       "13171    Show HN: Tablesaw: A Java data-frame for 500M-...\n",
       "13273      Java StringBuffer and StringBuilder performance\n",
       "13621    1M Java questions have now been asked on Stack...\n",
       "13840        Ask HN: Hosting a Java Spring web application\n",
       "13844                                 Var and val in Java?\n",
       "13845               Answerz.com  Java and J2ee Programming\n",
       "13931     Java 8s new Optional type doesn't solve anything\n",
       "13935    Java 6 vs. Java 7 vs. Java 8 between 2013  201...\n",
       "14394              JavaScript is immature compared to Java\n",
       "14848    Show HN: TurboRLE: Bringing Turbo Run Length E...\n",
       "15258                       Oracle and the fall of Java EE\n",
       "15869                 Java generics never cease to impress\n",
       "16024    Will you use ReactJS with a REST service inste...\n",
       "16933       Swift versus Java: the bitset performance test\n",
       "16949          Show HN: Bt  0-hassle BitTorrent for Java 8\n",
       "17459                            Super Mario clone in Java\n",
       "17580                Java Lazy Streamed Zip Implementation\n",
       "18408    Show HN: Scala idioms in Java: cases, patterns...\n",
       "19482    Show HN: Adding List Comprehension in Java - E...\n",
       "19736          Java Named Top Programming Language of 2015\n",
       "Name: title, dtype: object"
      ]
     },
     "execution_count": 256,
     "metadata": {},
     "output_type": "execute_result"
    }
   ],
   "source": [
    "first_ten_matches(r'\\b[Jj]ava\\b')"
   ]
  },
  {
   "cell_type": "markdown",
   "metadata": {},
   "source": [
    "### Matching the start and end of a string"
   ]
  },
  {
   "cell_type": "markdown",
   "metadata": {},
   "source": [
    "^abc - matches abc only at the start of the string\n",
    "\n",
    "abc$ - matches abc only at the end of the string"
   ]
  },
  {
   "cell_type": "code",
   "execution_count": 263,
   "metadata": {},
   "outputs": [
    {
     "name": "stdout",
     "output_type": "stream",
     "text": [
      "0    Red Nose Day is a well-known fundraising event\n",
      "1                          My favorite color is Red\n",
      "2          My Red Car was purchased three years ago\n",
      "dtype: object\n"
     ]
    }
   ],
   "source": [
    "test_cases = pd.Series([\n",
    "    \"Red Nose Day is a well-known fundraising event\",\n",
    "    \"My favorite color is Red\",\n",
    "    \"My Red Car was purchased three years ago\"])\n",
    "\n",
    "print(test_cases)"
   ]
  },
  {
   "cell_type": "code",
   "execution_count": 264,
   "metadata": {},
   "outputs": [
    {
     "data": {
      "text/plain": [
       "0     True\n",
       "1    False\n",
       "2    False\n",
       "dtype: bool"
      ]
     },
     "execution_count": 264,
     "metadata": {},
     "output_type": "execute_result"
    }
   ],
   "source": [
    "test_cases.str.contains(r'^Red')"
   ]
  },
  {
   "cell_type": "code",
   "execution_count": 265,
   "metadata": {},
   "outputs": [
    {
     "data": {
      "text/plain": [
       "0    False\n",
       "1     True\n",
       "2    False\n",
       "dtype: bool"
      ]
     },
     "execution_count": 265,
     "metadata": {},
     "output_type": "execute_result"
    }
   ],
   "source": [
    "test_cases.str.contains(r'Red$')"
   ]
  },
  {
   "cell_type": "code",
   "execution_count": 266,
   "metadata": {},
   "outputs": [
    {
     "name": "stderr",
     "output_type": "stream",
     "text": [
      "C:\\Users\\obalana prosper\\Videos\\New folder\\New folder\\lib\\site-packages\\ipykernel_launcher.py:1: UserWarning: This pattern has match groups. To actually get the groups, use str.extract.\n",
      "  \"\"\"Entry point for launching an IPython kernel.\n"
     ]
    }
   ],
   "source": [
    "beginning_count = titles.str.contains(r'(^\\[\\w+\\])').sum()"
   ]
  },
  {
   "cell_type": "code",
   "execution_count": 267,
   "metadata": {},
   "outputs": [
    {
     "name": "stdout",
     "output_type": "stream",
     "text": [
      "15\n"
     ]
    }
   ],
   "source": [
    "print(beginning_count)"
   ]
  },
  {
   "cell_type": "code",
   "execution_count": 268,
   "metadata": {},
   "outputs": [
    {
     "name": "stdout",
     "output_type": "stream",
     "text": [
      "417\n"
     ]
    },
    {
     "name": "stderr",
     "output_type": "stream",
     "text": [
      "C:\\Users\\obalana prosper\\Videos\\New folder\\New folder\\lib\\site-packages\\ipykernel_launcher.py:1: UserWarning: This pattern has match groups. To actually get the groups, use str.extract.\n",
      "  \"\"\"Entry point for launching an IPython kernel.\n"
     ]
    }
   ],
   "source": [
    "ending_count = titles.str.contains(r'(\\[\\w+\\])$').sum()\n",
    "print(ending_count)"
   ]
  },
  {
   "cell_type": "markdown",
   "metadata": {},
   "source": [
    "### Using Flags to modify regex pattern"
   ]
  },
  {
   "cell_type": "code",
   "execution_count": 289,
   "metadata": {},
   "outputs": [
    {
     "data": {
      "text/plain": [
       "0     True\n",
       "1    False\n",
       "2    False\n",
       "3    False\n",
       "4    False\n",
       "dtype: bool"
      ]
     },
     "execution_count": 289,
     "metadata": {},
     "output_type": "execute_result"
    }
   ],
   "source": [
    "email_tests = pd.Series(['email','Email','eMail','EMAIL','EMail'])\n",
    "email_tests.str.contains(r'email')"
   ]
  },
  {
   "cell_type": "markdown",
   "metadata": {},
   "source": [
    "re.IGNORECASE = re.I"
   ]
  },
  {
   "cell_type": "code",
   "execution_count": 290,
   "metadata": {},
   "outputs": [
    {
     "data": {
      "text/plain": [
       "0    True\n",
       "1    True\n",
       "2    True\n",
       "3    True\n",
       "4    True\n",
       "dtype: bool"
      ]
     },
     "execution_count": 290,
     "metadata": {},
     "output_type": "execute_result"
    }
   ],
   "source": [
    "email_tests.str.contains(r'email', flags = re.I)"
   ]
  },
  {
   "cell_type": "code",
   "execution_count": 324,
   "metadata": {},
   "outputs": [],
   "source": [
    "email_tests = pd.Series(['email','Email','eMail','EMAIL','e mail','E-mail','e-mail','E-Mail','emails','Emails','E-Mails'])"
   ]
  },
  {
   "cell_type": "code",
   "execution_count": 376,
   "metadata": {},
   "outputs": [
    {
     "name": "stderr",
     "output_type": "stream",
     "text": [
      "C:\\Users\\obalana prosper\\Videos\\New folder\\New folder\\lib\\site-packages\\ipykernel_launcher.py:1: UserWarning: This pattern has match groups. To actually get the groups, use str.extract.\n",
      "  \"\"\"Entry point for launching an IPython kernel.\n"
     ]
    },
    {
     "data": {
      "text/plain": [
       "0     True\n",
       "1     True\n",
       "2     True\n",
       "3     True\n",
       "4     True\n",
       "5     True\n",
       "6     True\n",
       "7     True\n",
       "8     True\n",
       "9     True\n",
       "10    True\n",
       "dtype: bool"
      ]
     },
     "execution_count": 376,
     "metadata": {},
     "output_type": "execute_result"
    }
   ],
   "source": [
    "email_tests.str.contains(r'e( )?(-)?[mail]', flags = re.I)"
   ]
  },
  {
   "cell_type": "code",
   "execution_count": 380,
   "metadata": {},
   "outputs": [
    {
     "name": "stderr",
     "output_type": "stream",
     "text": [
      "C:\\Users\\obalana prosper\\Videos\\New folder\\New folder\\lib\\site-packages\\ipykernel_launcher.py:1: UserWarning: This pattern has match groups. To actually get the groups, use str.extract.\n",
      "  \"\"\"Entry point for launching an IPython kernel.\n"
     ]
    }
   ],
   "source": [
    "email_count = email_tests.str.contains(r'\\be( )?(-)?mail(s)\\b', flags = re.I).value_counts()"
   ]
  },
  {
   "cell_type": "code",
   "execution_count": 383,
   "metadata": {},
   "outputs": [
    {
     "name": "stderr",
     "output_type": "stream",
     "text": [
      "C:\\Users\\obalana prosper\\Videos\\New folder\\New folder\\lib\\site-packages\\ipykernel_launcher.py:1: UserWarning: This pattern has match groups. To actually get the groups, use str.extract.\n",
      "  \"\"\"Entry point for launching an IPython kernel.\n"
     ]
    }
   ],
   "source": [
    "email_count = titles.str.contains(r'\\be( )?(-)?mail(s)?\\b', flags = re.I).sum()"
   ]
  },
  {
   "cell_type": "code",
   "execution_count": 384,
   "metadata": {},
   "outputs": [
    {
     "name": "stdout",
     "output_type": "stream",
     "text": [
      "141\n"
     ]
    }
   ],
   "source": [
    "print(email_count)"
   ]
  },
  {
   "cell_type": "code",
   "execution_count": null,
   "metadata": {},
   "outputs": [],
   "source": []
  }
 ],
 "metadata": {
  "kernelspec": {
   "display_name": "Python 3",
   "language": "python",
   "name": "python3"
  },
  "language_info": {
   "codemirror_mode": {
    "name": "ipython",
    "version": 3
   },
   "file_extension": ".py",
   "mimetype": "text/x-python",
   "name": "python",
   "nbconvert_exporter": "python",
   "pygments_lexer": "ipython3",
   "version": "3.6.5"
  }
 },
 "nbformat": 4,
 "nbformat_minor": 2
}
