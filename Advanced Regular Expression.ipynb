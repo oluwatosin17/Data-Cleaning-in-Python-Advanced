{
 "cells": [
  {
   "cell_type": "code",
   "execution_count": 62,
   "metadata": {},
   "outputs": [],
   "source": [
    "import pandas as pd\n",
    "import numpy as np\n",
    "import re"
   ]
  },
  {
   "cell_type": "code",
   "execution_count": 63,
   "metadata": {},
   "outputs": [
    {
     "name": "stdout",
     "output_type": "stream",
     "text": [
      "hn added successfully\n"
     ]
    }
   ],
   "source": [
    "hn = pd.read_csv(\"C:/Users/obalana prosper/Videos/New folder (3)/hacker_news.csv\")\n",
    "print(\"hn added successfully\")"
   ]
  },
  {
   "cell_type": "code",
   "execution_count": 64,
   "metadata": {},
   "outputs": [],
   "source": [
    "titles = hn['title']"
   ]
  },
  {
   "cell_type": "code",
   "execution_count": 65,
   "metadata": {},
   "outputs": [
    {
     "name": "stdout",
     "output_type": "stream",
     "text": [
      "160\n"
     ]
    }
   ],
   "source": [
    "pattern = r'[Pp]ython'\n",
    "python_counts = titles.str.contains(pattern).sum()\n",
    "print(python_counts)"
   ]
  },
  {
   "cell_type": "markdown",
   "metadata": {},
   "source": [
    "re.I the ignore case flag to make it case insensitive"
   ]
  },
  {
   "cell_type": "code",
   "execution_count": 66,
   "metadata": {},
   "outputs": [
    {
     "name": "stdout",
     "output_type": "stream",
     "text": [
      "160\n"
     ]
    }
   ],
   "source": [
    "pattern = r'python'\n",
    "python_counts = titles.str.contains(pattern, flags = re.I).sum()\n",
    "print(python_counts)"
   ]
  },
  {
   "cell_type": "code",
   "execution_count": 67,
   "metadata": {},
   "outputs": [
    {
     "name": "stdout",
     "output_type": "stream",
     "text": [
      "108\n"
     ]
    }
   ],
   "source": [
    "pattern = r'[Ss][Qq][Ll]'\n",
    "sql_counts = titles.str.contains(pattern).sum()\n",
    "print(sql_counts)"
   ]
  },
  {
   "cell_type": "code",
   "execution_count": 68,
   "metadata": {},
   "outputs": [
    {
     "name": "stdout",
     "output_type": "stream",
     "text": [
      "108\n"
     ]
    }
   ],
   "source": [
    "pattern = r'sql'\n",
    "sql_counts = titles.str.contains(pattern, flags = re.I).sum()\n",
    "print(sql_counts)"
   ]
  },
  {
   "cell_type": "markdown",
   "metadata": {},
   "source": [
    "### Capture Groups"
   ]
  },
  {
   "cell_type": "markdown",
   "metadata": {},
   "source": [
    "#### Create a frequency"
   ]
  },
  {
   "cell_type": "code",
   "execution_count": 69,
   "metadata": {},
   "outputs": [
    {
     "name": "stdout",
     "output_type": "stream",
     "text": [
      "SQL    101\n",
      "Sql      4\n",
      "sql      3\n",
      "Name: title, dtype: int64\n"
     ]
    }
   ],
   "source": [
    "pattern = r'(SQL)'\n",
    "sql_capitalizations = titles.str.extract(pattern,flags = re.I,expand = False)\n",
    "sql_capitalizations_freq = sql_capitalizations.value_counts()\n",
    "print(sql_capitalizations_freq)"
   ]
  },
  {
   "cell_type": "code",
   "execution_count": 70,
   "metadata": {},
   "outputs": [
    {
     "name": "stdout",
     "output_type": "stream",
     "text": [
      "PostgreSQL    27\n",
      "NoSQL         16\n",
      "MySQL         12\n",
      "SparkSQL       1\n",
      "nosql          1\n",
      "CloudSQL       1\n",
      "MemSQL         1\n",
      "mySql          1\n",
      "Name: title, dtype: int64\n"
     ]
    }
   ],
   "source": [
    "pattern = r'(\\w+SQL)'\n",
    "sql_flavors = titles.str.extract(pattern, flags = re.I, expand = False)\n",
    "sql_flavors_freq = sql_flavors.value_counts() \n",
    "print(sql_flavors_freq)"
   ]
  },
  {
   "cell_type": "code",
   "execution_count": 89,
   "metadata": {},
   "outputs": [],
   "source": [
    "hn_sql = hn[hn['title'].str.contains(r'\\w+SQL', flags = re.I)].copy()"
   ]
  },
  {
   "cell_type": "code",
   "execution_count": 93,
   "metadata": {},
   "outputs": [],
   "source": [
    "hn_sql['flavor'] = titles.str.extract(pattern, flags = re.I)"
   ]
  },
  {
   "cell_type": "code",
   "execution_count": 94,
   "metadata": {},
   "outputs": [],
   "source": [
    "hn_sql['flavor'] = hn_sql['flavor'].str.lower()"
   ]
  },
  {
   "cell_type": "code",
   "execution_count": 95,
   "metadata": {},
   "outputs": [],
   "source": [
    "sql_pivot = hn_sql.pivot_table(index = 'flavor',values = 'num_comments')"
   ]
  },
  {
   "cell_type": "code",
   "execution_count": 96,
   "metadata": {},
   "outputs": [
    {
     "data": {
      "text/html": [
       "<div>\n",
       "<style scoped>\n",
       "    .dataframe tbody tr th:only-of-type {\n",
       "        vertical-align: middle;\n",
       "    }\n",
       "\n",
       "    .dataframe tbody tr th {\n",
       "        vertical-align: top;\n",
       "    }\n",
       "\n",
       "    .dataframe thead th {\n",
       "        text-align: right;\n",
       "    }\n",
       "</style>\n",
       "<table border=\"1\" class=\"dataframe\">\n",
       "  <thead>\n",
       "    <tr style=\"text-align: right;\">\n",
       "      <th></th>\n",
       "      <th>num_comments</th>\n",
       "    </tr>\n",
       "    <tr>\n",
       "      <th>flavor</th>\n",
       "      <th></th>\n",
       "    </tr>\n",
       "  </thead>\n",
       "  <tbody>\n",
       "    <tr>\n",
       "      <th>cloudsql</th>\n",
       "      <td>5.000000</td>\n",
       "    </tr>\n",
       "    <tr>\n",
       "      <th>memsql</th>\n",
       "      <td>14.000000</td>\n",
       "    </tr>\n",
       "    <tr>\n",
       "      <th>mysql</th>\n",
       "      <td>12.230769</td>\n",
       "    </tr>\n",
       "    <tr>\n",
       "      <th>nosql</th>\n",
       "      <td>14.529412</td>\n",
       "    </tr>\n",
       "    <tr>\n",
       "      <th>postgresql</th>\n",
       "      <td>25.962963</td>\n",
       "    </tr>\n",
       "    <tr>\n",
       "      <th>sparksql</th>\n",
       "      <td>1.000000</td>\n",
       "    </tr>\n",
       "  </tbody>\n",
       "</table>\n",
       "</div>"
      ],
      "text/plain": [
       "            num_comments\n",
       "flavor                  \n",
       "cloudsql        5.000000\n",
       "memsql         14.000000\n",
       "mysql          12.230769\n",
       "nosql          14.529412\n",
       "postgresql     25.962963\n",
       "sparksql        1.000000"
      ]
     },
     "execution_count": 96,
     "metadata": {},
     "output_type": "execute_result"
    }
   ],
   "source": [
    "sql_pivot"
   ]
  },
  {
   "cell_type": "code",
   "execution_count": null,
   "metadata": {},
   "outputs": [],
   "source": []
  },
  {
   "cell_type": "markdown",
   "metadata": {},
   "source": [
    "### Using a capture group to extract data"
   ]
  },
  {
   "cell_type": "markdown",
   "metadata": {},
   "source": [
    "[\\d\\.]+ - one or more digit or . characters"
   ]
  },
  {
   "cell_type": "code",
   "execution_count": 129,
   "metadata": {},
   "outputs": [],
   "source": [
    "pattern = r'python ([\\d\\.]+)'"
   ]
  },
  {
   "cell_type": "code",
   "execution_count": 130,
   "metadata": {},
   "outputs": [
    {
     "name": "stdout",
     "output_type": "stream",
     "text": [
      "3        10\n",
      "2         3\n",
      "3.5       3\n",
      "3.6       2\n",
      "3.5.0     1\n",
      "4         1\n",
      "8         1\n",
      "2.7       1\n",
      "1.5       1\n",
      "Name: title, dtype: int64\n"
     ]
    }
   ],
   "source": [
    "python_extract = titles.str.extract(pattern, flags = re.I, expand = False)\n",
    "python_counts = python_extract.value_counts()\n",
    "print(python_counts)"
   ]
  },
  {
   "cell_type": "code",
   "execution_count": 131,
   "metadata": {},
   "outputs": [],
   "source": [
    "python_dict = dict(python_counts)"
   ]
  },
  {
   "cell_type": "code",
   "execution_count": 132,
   "metadata": {},
   "outputs": [
    {
     "name": "stdout",
     "output_type": "stream",
     "text": [
      "{'3': 10, '2': 3, '3.5': 3, '3.6': 2, '3.5.0': 1, '4': 1, '8': 1, '2.7': 1, '1.5': 1}\n"
     ]
    }
   ],
   "source": [
    "print(python_dict)"
   ]
  },
  {
   "cell_type": "markdown",
   "metadata": {},
   "source": [
    "### Counting Mentions of the 'C' language"
   ]
  },
  {
   "cell_type": "code",
   "execution_count": 133,
   "metadata": {},
   "outputs": [],
   "source": [
    "def first_10_matches(pattern):\n",
    "    all_matches = titles[titles.str.contains(pattern)]\n",
    "    first_10 = all_matches.head(10)\n",
    "    return first_10"
   ]
  },
  {
   "cell_type": "code",
   "execution_count": 134,
   "metadata": {},
   "outputs": [
    {
     "data": {
      "text/plain": [
       "14                 Custom Deleters for C++ Smart Pointers\n",
       "221                        Lisp, C++: Sadness in my heart\n",
       "222                  MemSQL (YC W11) Raises $36M Series C\n",
       "354     VW C.E.O. Personally Apologized to President O...\n",
       "366                      The new C standards are worth it\n",
       "445           Moz raises $10m Series C from Foundry Group\n",
       "509     BDE 3.0 (Bloomberg's core C++ library): Open S...\n",
       "522          Fuchsia: Micro kernel written in C by Google\n",
       "550     How to Become a C.E.O.? The Quickest Path Is a...\n",
       "1283    A lightweight C++ signals and slots implementa...\n",
       "Name: title, dtype: object"
      ]
     },
     "execution_count": 134,
     "metadata": {},
     "output_type": "execute_result"
    }
   ],
   "source": [
    "first_10_matches(r'\\b[Cc]\\b')"
   ]
  },
  {
   "cell_type": "code",
   "execution_count": 148,
   "metadata": {},
   "outputs": [
    {
     "data": {
      "text/plain": [
       "366                      The new C standards are worth it\n",
       "445           Moz raises $10m Series C from Foundry Group\n",
       "522          Fuchsia: Micro kernel written in C by Google\n",
       "1308            Show HN: Yupp, yet another C preprocessor\n",
       "1327                     The C standard formalized in Coq\n",
       "1366                          GNU C Library 2.23 released\n",
       "1430    Cysignals: signal handling (SIGINT, SIGSEGV, )...\n",
       "1621                        SDCC  Small Device C Compiler\n",
       "1950    Rewriting a Ruby C Extension in Rust: How a Na...\n",
       "2196    MyHTML  HTML Parser on Pure C with POSIX Threa...\n",
       "Name: title, dtype: object"
      ]
     },
     "execution_count": 148,
     "metadata": {},
     "output_type": "execute_result"
    }
   ],
   "source": [
    "first_10_matches(r'\\b[Cc]\\b[^.+]')"
   ]
  },
  {
   "cell_type": "markdown",
   "metadata": {},
   "source": [
    "### Using Lookarounds to Control Matches Based on Surrounding Text"
   ]
  },
  {
   "cell_type": "markdown",
   "metadata": {},
   "source": [
    "1. Positive lookaround = zzz(?=abc) : Matches zzz only when it is followed by abc\n",
    "2. Negative Lookaround = zzz(?!abc) : Matches zzz only when it is not followed by abc\n",
    "3. Positive Lookbehind = (?<=abc)zzz : Matches zzz only when it's preceeded by abc\n",
    "4. Negative Lookbehind = (?<!abc)zzz : Matches zzz only when it's not preceeded by abc"
   ]
  },
  {
   "cell_type": "code",
   "execution_count": 149,
   "metadata": {},
   "outputs": [],
   "source": [
    "test_cases = ['Red_Green_Blue','Yellow_Green_Red','Red_Green_Red','Yellow_Green_Blue','Green']"
   ]
  },
  {
   "cell_type": "code",
   "execution_count": 150,
   "metadata": {},
   "outputs": [],
   "source": [
    "def run_test_cases(pattern):\n",
    "    for tc in test_cases:\n",
    "        result = re.search(pattern, tc)\n",
    "        print(result or 'NO MATCH')"
   ]
  },
  {
   "cell_type": "code",
   "execution_count": 152,
   "metadata": {},
   "outputs": [
    {
     "name": "stdout",
     "output_type": "stream",
     "text": [
      "<_sre.SRE_Match object; span=(4, 9), match='Green'>\n",
      "NO MATCH\n",
      "NO MATCH\n",
      "<_sre.SRE_Match object; span=(7, 12), match='Green'>\n",
      "NO MATCH\n"
     ]
    }
   ],
   "source": [
    "run_test_cases(r'Green(?=_Blue)')"
   ]
  },
  {
   "cell_type": "code",
   "execution_count": 155,
   "metadata": {},
   "outputs": [
    {
     "name": "stdout",
     "output_type": "stream",
     "text": [
      "<_sre.SRE_Match object; span=(4, 9), match='Green'>\n",
      "NO MATCH\n",
      "<_sre.SRE_Match object; span=(4, 9), match='Green'>\n",
      "NO MATCH\n",
      "NO MATCH\n"
     ]
    }
   ],
   "source": [
    "run_test_cases(r'(?<=Red_)Green')"
   ]
  },
  {
   "cell_type": "code",
   "execution_count": 157,
   "metadata": {},
   "outputs": [
    {
     "name": "stdout",
     "output_type": "stream",
     "text": [
      "<_sre.SRE_Match object; span=(4, 9), match='Green'>\n",
      "NO MATCH\n",
      "<_sre.SRE_Match object; span=(4, 9), match='Green'>\n",
      "NO MATCH\n",
      "<_sre.SRE_Match object; span=(0, 5), match='Green'>\n"
     ]
    }
   ],
   "source": [
    "run_test_cases(r'(?<!Yellow_)Green')"
   ]
  },
  {
   "cell_type": "code",
   "execution_count": 161,
   "metadata": {},
   "outputs": [
    {
     "name": "stdout",
     "output_type": "stream",
     "text": [
      "<_sre.SRE_Match object; span=(4, 9), match='Green'>\n",
      "NO MATCH\n",
      "NO MATCH\n",
      "<_sre.SRE_Match object; span=(7, 12), match='Green'>\n",
      "NO MATCH\n"
     ]
    }
   ],
   "source": [
    "run_test_cases(r'Green(?=.{5})')"
   ]
  },
  {
   "cell_type": "code",
   "execution_count": 169,
   "metadata": {},
   "outputs": [
    {
     "data": {
      "text/plain": [
       "366                      The new C standards are worth it\n",
       "445           Moz raises $10m Series C from Foundry Group\n",
       "522          Fuchsia: Micro kernel written in C by Google\n",
       "1308            Show HN: Yupp, yet another C preprocessor\n",
       "1327                     The C standard formalized in Coq\n",
       "1366                          GNU C Library 2.23 released\n",
       "1430    Cysignals: signal handling (SIGINT, SIGSEGV, )...\n",
       "1621                        SDCC  Small Device C Compiler\n",
       "1950    Rewriting a Ruby C Extension in Rust: How a Na...\n",
       "2196    MyHTML  HTML Parser on Pure C with POSIX Threa...\n",
       "Name: title, dtype: object"
      ]
     },
     "execution_count": 169,
     "metadata": {},
     "output_type": "execute_result"
    }
   ],
   "source": [
    "first_10_matches(r'(?<!Series)\\b[Cc](?=\\W)\\b[^.+]')"
   ]
  },
  {
   "cell_type": "code",
   "execution_count": 178,
   "metadata": {},
   "outputs": [
    {
     "name": "stdout",
     "output_type": "stream",
     "text": [
      "C    81\n",
      "c     3\n",
      "Name: title, dtype: int64\n"
     ]
    }
   ],
   "source": [
    "pattern = (r'(?<!Series)\\b([Cc])(?=\\W)\\b[^.+]')\n",
    "c_pattern = titles.str.extract(pattern, expand = False)\n",
    "c_mentions = c_pattern.value_counts()\n",
    "print(c_mentions)"
   ]
  },
  {
   "cell_type": "code",
   "execution_count": 229,
   "metadata": {},
   "outputs": [
    {
     "name": "stdout",
     "output_type": "stream",
     "text": [
      "102\n"
     ]
    },
    {
     "name": "stderr",
     "output_type": "stream",
     "text": [
      "C:\\Users\\obalana prosper\\Videos\\New folder\\New folder\\lib\\site-packages\\ipykernel_launcher.py:2: UserWarning: This pattern has match groups. To actually get the groups, use str.extract.\n",
      "  \n"
     ]
    }
   ],
   "source": [
    "pattern = (r'(?<!Series\\s)\\b([Cc])\\b(?!w+)(?![\\.\\+])')\n",
    "c_pattern = titles.str.contains(pattern)\n",
    "c_mentions = c_pattern.sum()\n",
    "print(c_mentions)"
   ]
  },
  {
   "cell_type": "code",
   "execution_count": 226,
   "metadata": {},
   "outputs": [
    {
     "name": "stdout",
     "output_type": "stream",
     "text": [
      "102\n"
     ]
    },
    {
     "name": "stderr",
     "output_type": "stream",
     "text": [
      "C:\\Users\\obalana prosper\\Videos\\New folder\\New folder\\lib\\site-packages\\ipykernel_launcher.py:2: UserWarning: This pattern has match groups. To actually get the groups, use str.extract.\n",
      "  \n"
     ]
    }
   ],
   "source": [
    "pattern = (r'(?<!Series\\s)\\b([Cc])\\b(?![\\.\\+])')\n",
    "c_pattern = titles.str.contains(pattern)\n",
    "c_mentions = c_pattern.sum()\n",
    "print(c_mentions)"
   ]
  },
  {
   "cell_type": "markdown",
   "metadata": {},
   "source": [
    "### BackReference: Using Capture Groups in a RegEx Pattern"
   ]
  },
  {
   "cell_type": "code",
   "execution_count": 233,
   "metadata": {},
   "outputs": [
    {
     "name": "stdout",
     "output_type": "stream",
     "text": [
      "<_sre.SRE_Match object; span=(21, 23), match='oo'>\n",
      "<_sre.SRE_Match object; span=(2, 4), match='ee'>\n",
      "<_sre.SRE_Match object; span=(8, 10), match='oo'>\n",
      "None\n",
      "None\n"
     ]
    }
   ],
   "source": [
    "test_cases = [\"I'm going to read a book.\",\n",
    "             \"Green is my favourite color\",\n",
    "             \"I love football\",\n",
    "             \"No doubles here\",\n",
    "             \"My name is Aaron\"]\n",
    "\n",
    "for tc in test_cases:\n",
    "    print(re.search(r'(\\w)\\1',tc))\n"
   ]
  },
  {
   "cell_type": "code",
   "execution_count": 236,
   "metadata": {},
   "outputs": [
    {
     "name": "stdout",
     "output_type": "stream",
     "text": [
      "0     True\n",
      "1     True\n",
      "2     True\n",
      "3    False\n",
      "4    False\n",
      "dtype: bool\n"
     ]
    },
    {
     "name": "stderr",
     "output_type": "stream",
     "text": [
      "C:\\Users\\obalana prosper\\Videos\\New folder\\New folder\\lib\\site-packages\\ipykernel_launcher.py:2: UserWarning: This pattern has match groups. To actually get the groups, use str.extract.\n",
      "  \n"
     ]
    }
   ],
   "source": [
    "test_cases = pd.Series(test_cases)\n",
    "print(test_cases.str.contains(r'(\\w)\\1'))"
   ]
  },
  {
   "cell_type": "code",
   "execution_count": 279,
   "metadata": {},
   "outputs": [
    {
     "name": "stderr",
     "output_type": "stream",
     "text": [
      "C:\\Users\\obalana prosper\\Videos\\New folder\\New folder\\lib\\site-packages\\ipykernel_launcher.py:2: UserWarning: This pattern has match groups. To actually get the groups, use str.extract.\n",
      "  \n"
     ]
    }
   ],
   "source": [
    "pattern = (r'\\b(\\w+)\\s\\1\\b')\n",
    "repeated_words = titles.str.contains(pattern)"
   ]
  },
  {
   "cell_type": "code",
   "execution_count": 280,
   "metadata": {},
   "outputs": [
    {
     "data": {
      "text/plain": [
       "3103                  Silicon Valley Has a Problem Problem\n",
       "3177                Wire Wire: A West African Cyber Threat\n",
       "3179                         Flexbox Cheatsheet Cheatsheet\n",
       "4798                            The Mindset Mindset (2015)\n",
       "7277     Valentine's Day Special: Bye Bye Tinder, Flirt...\n",
       "10372    Mcdonalds copying cyriak  cows cows cows in th...\n",
       "11576                                    Bang Bang Control\n",
       "11902          Cordless Telephones: Bye Bye Privacy (1991)\n",
       "12698          Solving the the Monty-Hall-Problem in Swift\n",
       "15050    Bye Bye Webrtc2SIP: WebRTC with Asterisk and A...\n",
       "15840          Intellij-Rust Rust Plugin for IntelliJ IDEA\n",
       "Name: title, dtype: object"
      ]
     },
     "execution_count": 280,
     "metadata": {},
     "output_type": "execute_result"
    }
   ],
   "source": [
    "titles[repeated_words]"
   ]
  },
  {
   "cell_type": "code",
   "execution_count": null,
   "metadata": {},
   "outputs": [],
   "source": []
  },
  {
   "cell_type": "markdown",
   "metadata": {},
   "source": [
    "### Substituting Regular Expression Matches"
   ]
  },
  {
   "cell_type": "markdown",
   "metadata": {},
   "source": [
    " re.sub(pattern, repl, string, flags = 0)"
   ]
  },
  {
   "cell_type": "code",
   "execution_count": 286,
   "metadata": {},
   "outputs": [
    {
     "name": "stdout",
     "output_type": "stream",
     "text": [
      "a-c--f---j\n"
     ]
    }
   ],
   "source": [
    "string = 'aBcDEfGHIj'\n",
    "print(re.sub(r'[A-Z]','-',string))"
   ]
  },
  {
   "cell_type": "code",
   "execution_count": 287,
   "metadata": {},
   "outputs": [
    {
     "name": "stdout",
     "output_type": "stream",
     "text": [
      "0    SQL\n",
      "1    SQL\n",
      "2    SQL\n",
      "dtype: object\n"
     ]
    }
   ],
   "source": [
    "sql_variations = pd.Series(['SQL','Sql','sql'])\n",
    "sql_uniform = sql_variations.str.replace(r'sql','SQL',flags = re.I)\n",
    "print(sql_uniform)"
   ]
  },
  {
   "cell_type": "code",
   "execution_count": 288,
   "metadata": {},
   "outputs": [],
   "source": [
    "email_variations = pd.Series(['email','Email','eMail','EMAIL','e mail','E-mail','e-mail','E-Mail','emails','Emails','E-Mails'])"
   ]
  },
  {
   "cell_type": "code",
   "execution_count": 301,
   "metadata": {},
   "outputs": [],
   "source": [
    "email_uniform = email_variations.str.replace(r'email','email',flags = re.I)\n",
    "email_too = email_uniform.str.replace(r'e mail','email',flags = re.I)\n",
    "email_var = email_too.str.replace(r'e-mail','email',flags = re.I)"
   ]
  },
  {
   "cell_type": "code",
   "execution_count": 302,
   "metadata": {},
   "outputs": [
    {
     "data": {
      "text/plain": [
       "0      email\n",
       "1      email\n",
       "2      email\n",
       "3      email\n",
       "4      email\n",
       "5      email\n",
       "6      email\n",
       "7      email\n",
       "8     emails\n",
       "9     emails\n",
       "10    emails\n",
       "dtype: object"
      ]
     },
     "execution_count": 302,
     "metadata": {},
     "output_type": "execute_result"
    }
   ],
   "source": [
    "email_var"
   ]
  },
  {
   "cell_type": "code",
   "execution_count": 303,
   "metadata": {},
   "outputs": [],
   "source": [
    "email_uniform = titles.str.replace(r'email','email',flags = re.I)\n",
    "email_too = email_uniform.str.replace(r'e mail','email',flags = re.I)\n",
    "titles_clean = email_too.str.replace(r'e-mail','email',flags = re.I)"
   ]
  },
  {
   "cell_type": "code",
   "execution_count": 304,
   "metadata": {},
   "outputs": [
    {
     "data": {
      "text/plain": [
       "0                                Interactive Dynamic Video\n",
       "1        How to Use Open Source and Shut the Fuck Up at...\n",
       "2        Florida DJs May Face Felony for April Fools' W...\n",
       "3             Technology ventures: From Idea to Enterprise\n",
       "4        Note by Note: The Making of Steinway L1037 (2007)\n",
       "5        Title II kills investment? Comcast and other I...\n",
       "6                           Nuts and Bolts Business Advice\n",
       "7              Ask HN: How to improve my personal website?\n",
       "8        Shims, Jigs and Other Woodworking Concepts to ...\n",
       "9                                   That self-appendectomy\n",
       "10       Crate raises $4M seed round for its next-gen S...\n",
       "11       Advertising Cannot Maintain the Internet. Here...\n",
       "12                                          Coding Is Over\n",
       "13       Show HN: Wio Link  ESP8266 Based Web of Things...\n",
       "14                  Custom Deleters for C++ Smart Pointers\n",
       "15              How often to update third party libraries?\n",
       "16                        Review my AI based marketing bot\n",
       "17       Ask HN: Am I the only one outraged by Twitter ...\n",
       "18          Ten years later, did Boston's Big Dig deliver?\n",
       "19               Valid.ly  Never send another OOPS message\n",
       "20                     APOD: LIGO detects gravity waves...\n",
       "21       Typeplate: a typographic starter kit encouragi...\n",
       "22       Ask HN: Aby recent changes to CSS that broke m...\n",
       "23       Streamroot makes video streaming cheaper thank...\n",
       "24       VMware Confirms Layoffs as It Prepares for Del...\n",
       "25       Firmware exploit can defeat new Windows securi...\n",
       "26                The Sad State of Personal Knowledgebases\n",
       "27                                US Robotics Network Taps\n",
       "28                     Fundraising Advice for YC Companies\n",
       "29       PSA: Intel WICS broken for years with official...\n",
       "                               ...                        \n",
       "20070    Show HN: Parse recipe ingredients using JavaSc...\n",
       "20071    Engineering PhD student who died last year wil...\n",
       "20072    Apples Amazing New Music App Hits All the Righ...\n",
       "20073    Airbnb acquires team of Bitcoin and blockchain...\n",
       "20074                                     Is Tesla Doomed?\n",
       "20075    An Experiment with GitHub Pages, Jekyll and Tr...\n",
       "20076    Tips from a Pro: An Introduction to Microscopi...\n",
       "20077    Comcast CEO to angry customers: Its not me, it...\n",
       "20078    The Renewed Case for the Reduced Instruction S...\n",
       "20079    U.S. Judge Rejects Ubers Proposed $100M Settle...\n",
       "20080                          English Syntax Highlighting\n",
       "20081                   The Geek Behind Google's Map Quest\n",
       "20082                 Usenet, what have you become? (2012)\n",
       "20083    Colma, Calif., Is a Town of 2.2 Square Miles, ...\n",
       "20084    The bizarre world of Bitcoin mining finds a ne...\n",
       "20085    Microservice on-top of distributed filesystem ...\n",
       "20086    Satoshi Nakamoto officially nominated for the ...\n",
       "20087      Debian XScreenSaver package maintainer responds\n",
       "20088          TSA Sued Over New Policy to Refuse Opt-Outs\n",
       "20089    I have $10,000 dollars in my bank account. Am ...\n",
       "20090    Users Really Do Plug in USB Drives They Find [...\n",
       "20091    Visual Studio now available in cloud subscript...\n",
       "20092    Thought leader gives talk that will inspire yo...\n",
       "20093              On Botnets and Streaming Music Services\n",
       "20094               Two new steps toward quantum computing\n",
       "20095    How Purism Avoids Intels Active Management Tec...\n",
       "20096            YC Application Translated and Broken Down\n",
       "20097    Microkernels are slow and Elvis didn't do no d...\n",
       "20098                        How Product Hunt really works\n",
       "20099    RoboBrowser: Your friendly neighborhood web sc...\n",
       "Name: title, Length: 20100, dtype: object"
      ]
     },
     "execution_count": 304,
     "metadata": {},
     "output_type": "execute_result"
    }
   ],
   "source": [
    "titles_clean"
   ]
  },
  {
   "cell_type": "code",
   "execution_count": 324,
   "metadata": {},
   "outputs": [],
   "source": [
    "pattern = r'e( )?(-)?mail'"
   ]
  },
  {
   "cell_type": "code",
   "execution_count": 332,
   "metadata": {},
   "outputs": [
    {
     "data": {
      "text/plain": [
       "0      email\n",
       "1      email\n",
       "2      email\n",
       "3      email\n",
       "4      email\n",
       "5      email\n",
       "6      email\n",
       "7      email\n",
       "8     emails\n",
       "9     emails\n",
       "10    emails\n",
       "dtype: object"
      ]
     },
     "execution_count": 332,
     "metadata": {},
     "output_type": "execute_result"
    }
   ],
   "source": [
    "email_uniform = email_variations.str.replace(pattern,'email',flags = re.I)\n",
    "email_uniform"
   ]
  },
  {
   "cell_type": "code",
   "execution_count": 330,
   "metadata": {},
   "outputs": [],
   "source": [
    "pattern = r'e[\\-\\s]?mail'"
   ]
  },
  {
   "cell_type": "code",
   "execution_count": 331,
   "metadata": {},
   "outputs": [
    {
     "data": {
      "text/plain": [
       "0      email\n",
       "1      email\n",
       "2      email\n",
       "3      email\n",
       "4      email\n",
       "5      email\n",
       "6      email\n",
       "7      email\n",
       "8     emails\n",
       "9     emails\n",
       "10    emails\n",
       "dtype: object"
      ]
     },
     "execution_count": 331,
     "metadata": {},
     "output_type": "execute_result"
    }
   ],
   "source": [
    "email_uniform = email_variations.str.replace(pattern,'email',flags = re.I)\n",
    "email_uniform"
   ]
  },
  {
   "cell_type": "code",
   "execution_count": 328,
   "metadata": {},
   "outputs": [],
   "source": [
    "titles_clean = titles.str.replace(pattern,'email',flags = re.I)"
   ]
  },
  {
   "cell_type": "code",
   "execution_count": 329,
   "metadata": {},
   "outputs": [
    {
     "data": {
      "text/plain": [
       "0                                Interactive Dynamic Video\n",
       "1        How to Use Open Source and Shut the Fuck Up at...\n",
       "2        Florida DJs May Face Felony for April Fools' W...\n",
       "3             Technology ventures: From Idea to Enterprise\n",
       "4        Note by Note: The Making of Steinway L1037 (2007)\n",
       "5        Title II kills investment? Comcast and other I...\n",
       "6                           Nuts and Bolts Business Advice\n",
       "7              Ask HN: How to improve my personal website?\n",
       "8        Shims, Jigs and Other Woodworking Concepts to ...\n",
       "9                                   That self-appendectomy\n",
       "10       Crate raises $4M seed round for its next-gen S...\n",
       "11       Advertising Cannot Maintain the Internet. Here...\n",
       "12                                          Coding Is Over\n",
       "13       Show HN: Wio Link  ESP8266 Based Web of Things...\n",
       "14                  Custom Deleters for C++ Smart Pointers\n",
       "15              How often to update third party libraries?\n",
       "16                        Review my AI based marketing bot\n",
       "17       Ask HN: Am I the only one outraged by Twitter ...\n",
       "18          Ten years later, did Boston's Big Dig deliver?\n",
       "19               Valid.ly  Never send another OOPS message\n",
       "20                     APOD: LIGO detects gravity waves...\n",
       "21       Typeplate: a typographic starter kit encouragi...\n",
       "22       Ask HN: Aby recent changes to CSS that broke m...\n",
       "23       Streamroot makes video streaming cheaper thank...\n",
       "24       VMware Confirms Layoffs as It Prepares for Del...\n",
       "25       Firmware exploit can defeat new Windows securi...\n",
       "26                The Sad State of Personal Knowledgebases\n",
       "27                                US Robotics Network Taps\n",
       "28                     Fundraising Advice for YC Companies\n",
       "29       PSA: Intel WICS broken for years with official...\n",
       "                               ...                        \n",
       "20070    Show HN: Parse recipe ingredients using JavaSc...\n",
       "20071    Engineering PhD student who died last year wil...\n",
       "20072    Apples Amazing New Music App Hits All the Righ...\n",
       "20073    Airbnb acquires team of Bitcoin and blockchain...\n",
       "20074                                     Is Tesla Doomed?\n",
       "20075    An Experiment with GitHub Pages, Jekyll and Tr...\n",
       "20076    Tips from a Pro: An Introduction to Microscopi...\n",
       "20077    Comcast CEO to angry customers: Its not me, it...\n",
       "20078    The Renewed Case for the Reduced Instruction S...\n",
       "20079    U.S. Judge Rejects Ubers Proposed $100M Settle...\n",
       "20080                          English Syntax Highlighting\n",
       "20081                   The Geek Behind Google's Map Quest\n",
       "20082                 Usenet, what have you become? (2012)\n",
       "20083    Colma, Calif., Is a Town of 2.2 Square Miles, ...\n",
       "20084    The bizarre world of Bitcoin mining finds a ne...\n",
       "20085    Microservice on-top of distributed filesystem ...\n",
       "20086    Satoshi Nakamoto officially nominated for the ...\n",
       "20087      Debian XScreenSaver package maintainer responds\n",
       "20088          TSA Sued Over New Policy to Refuse Opt-Outs\n",
       "20089    I have $10,000 dollars in my bank account. Am ...\n",
       "20090    Users Really Do Plug in USB Drives They Find [...\n",
       "20091    Visual Studio now available in cloud subscript...\n",
       "20092    Thought leader gives talk that will inspire yo...\n",
       "20093              On Botnets and Streaming Music Services\n",
       "20094               Two new steps toward quantum computing\n",
       "20095    How Purism Avoids Intels Active Management Tec...\n",
       "20096            YC Application Translated and Broken Down\n",
       "20097    Microkernels are slow and Elvis didn't do no d...\n",
       "20098                        How Product Hunt really works\n",
       "20099    RoboBrowser: Your friendly neighborhood web sc...\n",
       "Name: title, Length: 20100, dtype: object"
      ]
     },
     "execution_count": 329,
     "metadata": {},
     "output_type": "execute_result"
    }
   ],
   "source": [
    "titles_clean"
   ]
  },
  {
   "cell_type": "markdown",
   "metadata": {},
   "source": [
    "### Extracting Domains from URL"
   ]
  },
  {
   "cell_type": "code",
   "execution_count": 376,
   "metadata": {},
   "outputs": [],
   "source": [
    "test_urls = pd.Series([\n",
    " 'https://www.amazon.com/Technology-Ventures-Enterprise-Thomas-Byers/dp/0073523429',\n",
    " 'http://www.interactivedynamicvideo.com/',\n",
    " 'http://www.nytimes.com/2007/11/07/movies/07stein.html?_r=0',\n",
    " 'http://evonomics.com/advertising-cannot-maintain-internet-heres-solution/',\n",
    " 'HTTPS://github.com/keppel/pinn',\n",
    " 'Http://phys.org/news/2015-09-scale-solar-youve.html',\n",
    " 'https://iot.seeed.cc',\n",
    " 'http://www.bfilipek.com/2016/04/custom-deleters-for-c-smart-pointers.html',\n",
    " 'http://beta.crowdfireapp.com/?beta=agnipath',\n",
    " 'https://www.valid.ly?param',\n",
    " 'http://css-cursor.techstream.org'\n",
    "])\n"
   ]
  },
  {
   "cell_type": "code",
   "execution_count": 382,
   "metadata": {},
   "outputs": [
    {
     "data": {
      "text/html": [
       "<div>\n",
       "<style scoped>\n",
       "    .dataframe tbody tr th:only-of-type {\n",
       "        vertical-align: middle;\n",
       "    }\n",
       "\n",
       "    .dataframe tbody tr th {\n",
       "        vertical-align: top;\n",
       "    }\n",
       "\n",
       "    .dataframe thead th {\n",
       "        text-align: right;\n",
       "    }\n",
       "</style>\n",
       "<table border=\"1\" class=\"dataframe\">\n",
       "  <thead>\n",
       "    <tr style=\"text-align: right;\">\n",
       "      <th></th>\n",
       "      <th>0</th>\n",
       "    </tr>\n",
       "  </thead>\n",
       "  <tbody>\n",
       "    <tr>\n",
       "      <th>0</th>\n",
       "      <td>www.amazon.com</td>\n",
       "    </tr>\n",
       "    <tr>\n",
       "      <th>1</th>\n",
       "      <td>www.interactivedynamicvideo.com</td>\n",
       "    </tr>\n",
       "    <tr>\n",
       "      <th>2</th>\n",
       "      <td>www.nytimes.com</td>\n",
       "    </tr>\n",
       "    <tr>\n",
       "      <th>3</th>\n",
       "      <td>evonomics.com</td>\n",
       "    </tr>\n",
       "    <tr>\n",
       "      <th>4</th>\n",
       "      <td>github.com</td>\n",
       "    </tr>\n",
       "    <tr>\n",
       "      <th>5</th>\n",
       "      <td>phys.org</td>\n",
       "    </tr>\n",
       "    <tr>\n",
       "      <th>6</th>\n",
       "      <td>iot.seeed.cc</td>\n",
       "    </tr>\n",
       "    <tr>\n",
       "      <th>7</th>\n",
       "      <td>www.bfilipek.com</td>\n",
       "    </tr>\n",
       "    <tr>\n",
       "      <th>8</th>\n",
       "      <td>beta.crowdfireapp.com</td>\n",
       "    </tr>\n",
       "    <tr>\n",
       "      <th>9</th>\n",
       "      <td>www.valid.ly</td>\n",
       "    </tr>\n",
       "    <tr>\n",
       "      <th>10</th>\n",
       "      <td>css-cursor.techstream.org</td>\n",
       "    </tr>\n",
       "  </tbody>\n",
       "</table>\n",
       "</div>"
      ],
      "text/plain": [
       "                                  0\n",
       "0                    www.amazon.com\n",
       "1   www.interactivedynamicvideo.com\n",
       "2                   www.nytimes.com\n",
       "3                     evonomics.com\n",
       "4                        github.com\n",
       "5                          phys.org\n",
       "6                      iot.seeed.cc\n",
       "7                  www.bfilipek.com\n",
       "8             beta.crowdfireapp.com\n",
       "9                      www.valid.ly\n",
       "10        css-cursor.techstream.org"
      ]
     },
     "execution_count": 382,
     "metadata": {},
     "output_type": "execute_result"
    }
   ],
   "source": [
    "v = 'http://css-cursor.techstream.org'\n",
    "pattern = r'https?://([\\w\\-\\.]+)'\n",
    "test_urls.str.extract(pattern, flags = re.I)"
   ]
  },
  {
   "cell_type": "code",
   "execution_count": 384,
   "metadata": {},
   "outputs": [],
   "source": [
    "domains = hn['url'].str.extract(pattern, flags = re.I, expand = False)"
   ]
  },
  {
   "cell_type": "code",
   "execution_count": 385,
   "metadata": {},
   "outputs": [],
   "source": [
    "top_domains = domains.value_counts()"
   ]
  },
  {
   "cell_type": "code",
   "execution_count": 386,
   "metadata": {},
   "outputs": [
    {
     "data": {
      "text/plain": [
       "github.com                       1008\n",
       "medium.com                        825\n",
       "www.nytimes.com                   525\n",
       "www.theguardian.com               248\n",
       "techcrunch.com                    245\n",
       "www.youtube.com                   213\n",
       "www.bloomberg.com                 193\n",
       "arstechnica.com                   191\n",
       "www.washingtonpost.com            190\n",
       "www.wsj.com                       138\n",
       "www.theatlantic.com               137\n",
       "www.bbc.com                       134\n",
       "www.wired.com                     114\n",
       "www.theverge.com                  112\n",
       "www.bbc.co.uk                     108\n",
       "en.wikipedia.org                  100\n",
       "twitter.com                        93\n",
       "qz.com                             85\n",
       "motherboard.vice.com               82\n",
       "www.newyorker.com                  81\n",
       "www.forbes.com                     78\n",
       "nautil.us                          77\n",
       "www.businessinsider.com            73\n",
       "www.nature.com                     72\n",
       "www.reuters.com                    71\n",
       "www.economist.com                  66\n",
       "arxiv.org                          62\n",
       "www.eff.org                        56\n",
       "venturebeat.com                    53\n",
       "www.vox.com                        51\n",
       "                                 ... \n",
       "gazetor.com                         1\n",
       "noisycode.com                       1\n",
       "jhollands.co.uk                     1\n",
       "dronegarageblog.wordpress.com       1\n",
       "blog.plataformatec.com.br           1\n",
       "tclfiber.sourceforge.net            1\n",
       "varvy.com                           1\n",
       "www.nasaspaceflight.com             1\n",
       "yhatt.github.io                     1\n",
       "read.reddy.today                    1\n",
       "www.pranav-venkat.com               1\n",
       "www.stockunlimited.com              1\n",
       "photojournal.jpl.nasa.gov           1\n",
       "www.skillsilo.com                   1\n",
       "www.netlify.com                     1\n",
       "blog.durandal.io                    1\n",
       "google.com                          1\n",
       "www.getdeckchair.com                1\n",
       "tech.stylight.com                   1\n",
       "ryanbigg.com                        1\n",
       "www.lysator.liu.se                  1\n",
       "zidbits.com                         1\n",
       "www.livecoding.tv                   1\n",
       "www.codeproject.com                 1\n",
       "pulse.michalspacek.cz               1\n",
       "www.avast.com                       1\n",
       "inspiratron.org                     1\n",
       "www.goodui.org                      1\n",
       "bobbelderbos.com                    1\n",
       "galliumos.org                       1\n",
       "Name: url, Length: 7251, dtype: int64"
      ]
     },
     "execution_count": 386,
     "metadata": {},
     "output_type": "execute_result"
    }
   ],
   "source": [
    "top_domains"
   ]
  },
  {
   "cell_type": "markdown",
   "metadata": {},
   "source": [
    "### Extracting URL Parts Using Multiple Capture Groups"
   ]
  },
  {
   "cell_type": "code",
   "execution_count": 387,
   "metadata": {},
   "outputs": [
    {
     "name": "stdout",
     "output_type": "stream",
     "text": [
      "0     8/4/2016 11:52\n",
      "1    1/26/2016 19:30\n",
      "2    6/23/2016 22:20\n",
      "3     6/17/2016 0:01\n",
      "4     9/30/2015 4:12\n",
      "Name: created_at, dtype: object\n"
     ]
    }
   ],
   "source": [
    "created_at = hn['created_at'].head()\n",
    "print(created_at)"
   ]
  },
  {
   "cell_type": "markdown",
   "metadata": {},
   "source": [
    "(.+)\\s(.+) start group(\n",
    "1. .+ one or more characters"
   ]
  },
  {
   "cell_type": "code",
   "execution_count": 389,
   "metadata": {},
   "outputs": [
    {
     "data": {
      "text/html": [
       "<div>\n",
       "<style scoped>\n",
       "    .dataframe tbody tr th:only-of-type {\n",
       "        vertical-align: middle;\n",
       "    }\n",
       "\n",
       "    .dataframe tbody tr th {\n",
       "        vertical-align: top;\n",
       "    }\n",
       "\n",
       "    .dataframe thead th {\n",
       "        text-align: right;\n",
       "    }\n",
       "</style>\n",
       "<table border=\"1\" class=\"dataframe\">\n",
       "  <thead>\n",
       "    <tr style=\"text-align: right;\">\n",
       "      <th></th>\n",
       "      <th>0</th>\n",
       "      <th>1</th>\n",
       "    </tr>\n",
       "  </thead>\n",
       "  <tbody>\n",
       "    <tr>\n",
       "      <th>0</th>\n",
       "      <td>8/4/2016</td>\n",
       "      <td>11:52</td>\n",
       "    </tr>\n",
       "    <tr>\n",
       "      <th>1</th>\n",
       "      <td>1/26/2016</td>\n",
       "      <td>19:30</td>\n",
       "    </tr>\n",
       "    <tr>\n",
       "      <th>2</th>\n",
       "      <td>6/23/2016</td>\n",
       "      <td>22:20</td>\n",
       "    </tr>\n",
       "    <tr>\n",
       "      <th>3</th>\n",
       "      <td>6/17/2016</td>\n",
       "      <td>0:01</td>\n",
       "    </tr>\n",
       "    <tr>\n",
       "      <th>4</th>\n",
       "      <td>9/30/2015</td>\n",
       "      <td>4:12</td>\n",
       "    </tr>\n",
       "  </tbody>\n",
       "</table>\n",
       "</div>"
      ],
      "text/plain": [
       "           0      1\n",
       "0   8/4/2016  11:52\n",
       "1  1/26/2016  19:30\n",
       "2  6/23/2016  22:20\n",
       "3  6/17/2016   0:01\n",
       "4  9/30/2015   4:12"
      ]
     },
     "execution_count": 389,
     "metadata": {},
     "output_type": "execute_result"
    }
   ],
   "source": [
    "pattern = r'(.+)\\s(.+)'\n",
    "created_at.str.extract(pattern)"
   ]
  },
  {
   "cell_type": "code",
   "execution_count": 394,
   "metadata": {},
   "outputs": [],
   "source": [
    "test_urls = pd.Series([\n",
    " 'https://www.amazon.com/Technology-Ventures-Enterprise-Thomas-Byers/dp/0073523429',\n",
    " 'http://www.interactivedynamicvideo.com/',\n",
    " 'http://www.nytimes.com/2007/11/07/movies/07stein.html?_r=0',\n",
    " 'http://evonomics.com/advertising-cannot-maintain-internet-heres-solution/',\n",
    " 'HTTPS://github.com/keppel/pinn',\n",
    " 'Http://phys.org/news/2015-09-scale-solar-youve.html',\n",
    " 'https://iot.seeed.cc',\n",
    " 'http://www.bfilipek.com/2016/04/custom-deleters-for-c-smart-pointers.html',\n",
    " 'http://beta.crowdfireapp.com/?beta=agnipath',\n",
    " 'https://www.valid.ly?param',\n",
    " 'http://css-cursor.techstream.org'\n",
    "])"
   ]
  },
  {
   "cell_type": "code",
   "execution_count": 601,
   "metadata": {},
   "outputs": [],
   "source": [
    "pattern = r'(https?)://([\\w\\-\\.]+)/?(.*)'"
   ]
  },
  {
   "cell_type": "code",
   "execution_count": 603,
   "metadata": {
    "scrolled": false
   },
   "outputs": [
    {
     "data": {
      "text/html": [
       "<div>\n",
       "<style scoped>\n",
       "    .dataframe tbody tr th:only-of-type {\n",
       "        vertical-align: middle;\n",
       "    }\n",
       "\n",
       "    .dataframe tbody tr th {\n",
       "        vertical-align: top;\n",
       "    }\n",
       "\n",
       "    .dataframe thead th {\n",
       "        text-align: right;\n",
       "    }\n",
       "</style>\n",
       "<table border=\"1\" class=\"dataframe\">\n",
       "  <thead>\n",
       "    <tr style=\"text-align: right;\">\n",
       "      <th></th>\n",
       "      <th>0</th>\n",
       "      <th>1</th>\n",
       "      <th>2</th>\n",
       "    </tr>\n",
       "  </thead>\n",
       "  <tbody>\n",
       "    <tr>\n",
       "      <th>0</th>\n",
       "      <td>https</td>\n",
       "      <td>www.amazon.com</td>\n",
       "      <td>Technology-Ventures-Enterprise-Thomas-Byers/dp...</td>\n",
       "    </tr>\n",
       "    <tr>\n",
       "      <th>1</th>\n",
       "      <td>http</td>\n",
       "      <td>www.interactivedynamicvideo.com</td>\n",
       "      <td></td>\n",
       "    </tr>\n",
       "    <tr>\n",
       "      <th>2</th>\n",
       "      <td>http</td>\n",
       "      <td>www.nytimes.com</td>\n",
       "      <td>2007/11/07/movies/07stein.html?_r=0</td>\n",
       "    </tr>\n",
       "    <tr>\n",
       "      <th>3</th>\n",
       "      <td>http</td>\n",
       "      <td>evonomics.com</td>\n",
       "      <td>advertising-cannot-maintain-internet-heres-sol...</td>\n",
       "    </tr>\n",
       "    <tr>\n",
       "      <th>4</th>\n",
       "      <td>HTTPS</td>\n",
       "      <td>github.com</td>\n",
       "      <td>keppel/pinn</td>\n",
       "    </tr>\n",
       "    <tr>\n",
       "      <th>5</th>\n",
       "      <td>Http</td>\n",
       "      <td>phys.org</td>\n",
       "      <td>news/2015-09-scale-solar-youve.html</td>\n",
       "    </tr>\n",
       "    <tr>\n",
       "      <th>6</th>\n",
       "      <td>https</td>\n",
       "      <td>iot.seeed.cc</td>\n",
       "      <td></td>\n",
       "    </tr>\n",
       "    <tr>\n",
       "      <th>7</th>\n",
       "      <td>http</td>\n",
       "      <td>www.bfilipek.com</td>\n",
       "      <td>2016/04/custom-deleters-for-c-smart-pointers.html</td>\n",
       "    </tr>\n",
       "    <tr>\n",
       "      <th>8</th>\n",
       "      <td>http</td>\n",
       "      <td>beta.crowdfireapp.com</td>\n",
       "      <td>?beta=agnipath</td>\n",
       "    </tr>\n",
       "    <tr>\n",
       "      <th>9</th>\n",
       "      <td>https</td>\n",
       "      <td>www.valid.ly</td>\n",
       "      <td>?param</td>\n",
       "    </tr>\n",
       "    <tr>\n",
       "      <th>10</th>\n",
       "      <td>http</td>\n",
       "      <td>css-cursor.techstream.org</td>\n",
       "      <td></td>\n",
       "    </tr>\n",
       "  </tbody>\n",
       "</table>\n",
       "</div>"
      ],
      "text/plain": [
       "        0                                1  \\\n",
       "0   https                   www.amazon.com   \n",
       "1    http  www.interactivedynamicvideo.com   \n",
       "2    http                  www.nytimes.com   \n",
       "3    http                    evonomics.com   \n",
       "4   HTTPS                       github.com   \n",
       "5    Http                         phys.org   \n",
       "6   https                     iot.seeed.cc   \n",
       "7    http                 www.bfilipek.com   \n",
       "8    http            beta.crowdfireapp.com   \n",
       "9   https                     www.valid.ly   \n",
       "10   http        css-cursor.techstream.org   \n",
       "\n",
       "                                                    2  \n",
       "0   Technology-Ventures-Enterprise-Thomas-Byers/dp...  \n",
       "1                                                      \n",
       "2                 2007/11/07/movies/07stein.html?_r=0  \n",
       "3   advertising-cannot-maintain-internet-heres-sol...  \n",
       "4                                         keppel/pinn  \n",
       "5                 news/2015-09-scale-solar-youve.html  \n",
       "6                                                      \n",
       "7   2016/04/custom-deleters-for-c-smart-pointers.html  \n",
       "8                                      ?beta=agnipath  \n",
       "9                                              ?param  \n",
       "10                                                     "
      ]
     },
     "execution_count": 603,
     "metadata": {},
     "output_type": "execute_result"
    }
   ],
   "source": [
    "test_urls.str.extract(pattern, flags = re.I)"
   ]
  },
  {
   "cell_type": "code",
   "execution_count": 604,
   "metadata": {},
   "outputs": [],
   "source": [
    "do = hn['url'].str.extract(pattern, expand = False, flags = re.I)"
   ]
  },
  {
   "cell_type": "code",
   "execution_count": 605,
   "metadata": {},
   "outputs": [
    {
     "data": {
      "text/html": [
       "<div>\n",
       "<style scoped>\n",
       "    .dataframe tbody tr th:only-of-type {\n",
       "        vertical-align: middle;\n",
       "    }\n",
       "\n",
       "    .dataframe tbody tr th {\n",
       "        vertical-align: top;\n",
       "    }\n",
       "\n",
       "    .dataframe thead th {\n",
       "        text-align: right;\n",
       "    }\n",
       "</style>\n",
       "<table border=\"1\" class=\"dataframe\">\n",
       "  <thead>\n",
       "    <tr style=\"text-align: right;\">\n",
       "      <th></th>\n",
       "      <th>0</th>\n",
       "      <th>1</th>\n",
       "      <th>2</th>\n",
       "    </tr>\n",
       "  </thead>\n",
       "  <tbody>\n",
       "    <tr>\n",
       "      <th>0</th>\n",
       "      <td>http</td>\n",
       "      <td>www.interactivedynamicvideo.com</td>\n",
       "      <td></td>\n",
       "    </tr>\n",
       "    <tr>\n",
       "      <th>1</th>\n",
       "      <td>http</td>\n",
       "      <td>hueniverse.com</td>\n",
       "      <td>2016/01/26/how-to-use-open-source-and-shut-the...</td>\n",
       "    </tr>\n",
       "    <tr>\n",
       "      <th>2</th>\n",
       "      <td>http</td>\n",
       "      <td>www.thewire.com</td>\n",
       "      <td>entertainment/2013/04/florida-djs-april-fools-...</td>\n",
       "    </tr>\n",
       "    <tr>\n",
       "      <th>3</th>\n",
       "      <td>https</td>\n",
       "      <td>www.amazon.com</td>\n",
       "      <td>Technology-Ventures-Enterprise-Thomas-Byers/dp...</td>\n",
       "    </tr>\n",
       "    <tr>\n",
       "      <th>4</th>\n",
       "      <td>http</td>\n",
       "      <td>www.nytimes.com</td>\n",
       "      <td>2007/11/07/movies/07stein.html?_r=0</td>\n",
       "    </tr>\n",
       "    <tr>\n",
       "      <th>5</th>\n",
       "      <td>http</td>\n",
       "      <td>arstechnica.com</td>\n",
       "      <td>business/2015/10/comcast-and-other-isps-boost-...</td>\n",
       "    </tr>\n",
       "    <tr>\n",
       "      <th>6</th>\n",
       "      <td>NaN</td>\n",
       "      <td>NaN</td>\n",
       "      <td>NaN</td>\n",
       "    </tr>\n",
       "    <tr>\n",
       "      <th>7</th>\n",
       "      <td>NaN</td>\n",
       "      <td>NaN</td>\n",
       "      <td>NaN</td>\n",
       "    </tr>\n",
       "    <tr>\n",
       "      <th>8</th>\n",
       "      <td>http</td>\n",
       "      <td>firstround.com</td>\n",
       "      <td>review/shims-jigs-and-other-woodworking-concep...</td>\n",
       "    </tr>\n",
       "    <tr>\n",
       "      <th>9</th>\n",
       "      <td>http</td>\n",
       "      <td>www.southpolestation.com</td>\n",
       "      <td>trivia/igy1/appendix.html</td>\n",
       "    </tr>\n",
       "    <tr>\n",
       "      <th>10</th>\n",
       "      <td>http</td>\n",
       "      <td>techcrunch.com</td>\n",
       "      <td>2016/03/15/crate-raises-4m-seed-round-for-its-...</td>\n",
       "    </tr>\n",
       "    <tr>\n",
       "      <th>11</th>\n",
       "      <td>http</td>\n",
       "      <td>evonomics.com</td>\n",
       "      <td>advertising-cannot-maintain-internet-heres-sol...</td>\n",
       "    </tr>\n",
       "    <tr>\n",
       "      <th>12</th>\n",
       "      <td>https</td>\n",
       "      <td>medium.com</td>\n",
       "      <td>@loorinm/coding-is-over-6d653abe8da8</td>\n",
       "    </tr>\n",
       "    <tr>\n",
       "      <th>13</th>\n",
       "      <td>https</td>\n",
       "      <td>iot.seeed.cc</td>\n",
       "      <td></td>\n",
       "    </tr>\n",
       "    <tr>\n",
       "      <th>14</th>\n",
       "      <td>http</td>\n",
       "      <td>www.bfilipek.com</td>\n",
       "      <td>2016/04/custom-deleters-for-c-smart-pointers.html</td>\n",
       "    </tr>\n",
       "    <tr>\n",
       "      <th>15</th>\n",
       "      <td>NaN</td>\n",
       "      <td>NaN</td>\n",
       "      <td>NaN</td>\n",
       "    </tr>\n",
       "    <tr>\n",
       "      <th>16</th>\n",
       "      <td>http</td>\n",
       "      <td>beta.crowdfireapp.com</td>\n",
       "      <td>?beta=agnipath</td>\n",
       "    </tr>\n",
       "    <tr>\n",
       "      <th>17</th>\n",
       "      <td>NaN</td>\n",
       "      <td>NaN</td>\n",
       "      <td>NaN</td>\n",
       "    </tr>\n",
       "    <tr>\n",
       "      <th>18</th>\n",
       "      <td>https</td>\n",
       "      <td>www.bostonglobe.com</td>\n",
       "      <td>magazine/2015/12/29/years-later-did-big-dig-de...</td>\n",
       "    </tr>\n",
       "    <tr>\n",
       "      <th>19</th>\n",
       "      <td>https</td>\n",
       "      <td>www.valid.ly</td>\n",
       "      <td></td>\n",
       "    </tr>\n",
       "    <tr>\n",
       "      <th>20</th>\n",
       "      <td>http</td>\n",
       "      <td>apod.nasa.gov</td>\n",
       "      <td>apod/astropix.html</td>\n",
       "    </tr>\n",
       "    <tr>\n",
       "      <th>21</th>\n",
       "      <td>http</td>\n",
       "      <td>typeplate.com</td>\n",
       "      <td></td>\n",
       "    </tr>\n",
       "    <tr>\n",
       "      <th>22</th>\n",
       "      <td>NaN</td>\n",
       "      <td>NaN</td>\n",
       "      <td>NaN</td>\n",
       "    </tr>\n",
       "    <tr>\n",
       "      <th>23</th>\n",
       "      <td>http</td>\n",
       "      <td>techcrunch.com</td>\n",
       "      <td>2015/12/10/streamroot-makes-video-streaming-ch...</td>\n",
       "    </tr>\n",
       "    <tr>\n",
       "      <th>24</th>\n",
       "      <td>http</td>\n",
       "      <td>techcrunch.com</td>\n",
       "      <td>2016/01/26/vmware-confirms-layoffs-in-earnings...</td>\n",
       "    </tr>\n",
       "    <tr>\n",
       "      <th>25</th>\n",
       "      <td>http</td>\n",
       "      <td>www.pcworld.com</td>\n",
       "      <td>article/3091104/firmware-exploit-can-defeat-ne...</td>\n",
       "    </tr>\n",
       "    <tr>\n",
       "      <th>26</th>\n",
       "      <td>http</td>\n",
       "      <td>marcusvorwaller.com</td>\n",
       "      <td>blog/2015/12/14/personal-knowledgebases/</td>\n",
       "    </tr>\n",
       "    <tr>\n",
       "      <th>27</th>\n",
       "      <td>http</td>\n",
       "      <td>www.usr.com</td>\n",
       "      <td>en/products/networking-taps/</td>\n",
       "    </tr>\n",
       "    <tr>\n",
       "      <th>28</th>\n",
       "      <td>https</td>\n",
       "      <td>blog.ycombinator.com</td>\n",
       "      <td>fundraising-advice-for-yc-companies</td>\n",
       "    </tr>\n",
       "    <tr>\n",
       "      <th>29</th>\n",
       "      <td>https</td>\n",
       "      <td>communities.intel.com</td>\n",
       "      <td>thread/96038</td>\n",
       "    </tr>\n",
       "    <tr>\n",
       "      <th>...</th>\n",
       "      <td>...</td>\n",
       "      <td>...</td>\n",
       "      <td>...</td>\n",
       "    </tr>\n",
       "    <tr>\n",
       "      <th>20070</th>\n",
       "      <td>https</td>\n",
       "      <td>github.com</td>\n",
       "      <td>herkyl/ingredients-parser</td>\n",
       "    </tr>\n",
       "    <tr>\n",
       "      <th>20071</th>\n",
       "      <td>http</td>\n",
       "      <td>host.madison.com</td>\n",
       "      <td>wsj/news/local/uw-engineering-phd-student-who-...</td>\n",
       "    </tr>\n",
       "    <tr>\n",
       "      <th>20072</th>\n",
       "      <td>https</td>\n",
       "      <td>www.yahoo.com</td>\n",
       "      <td>tech/apple-s-amazing-new-music-134702380626744...</td>\n",
       "    </tr>\n",
       "    <tr>\n",
       "      <th>20073</th>\n",
       "      <td>http</td>\n",
       "      <td>qz.com</td>\n",
       "      <td>657246/airbnb-just-acquired-a-team-of-bitcoin-...</td>\n",
       "    </tr>\n",
       "    <tr>\n",
       "      <th>20074</th>\n",
       "      <td>http</td>\n",
       "      <td>www.roadandtrack.com</td>\n",
       "      <td>car-culture/a26859/bob-lutz-tesla/</td>\n",
       "    </tr>\n",
       "    <tr>\n",
       "      <th>20075</th>\n",
       "      <td>http</td>\n",
       "      <td>darek.dk</td>\n",
       "      <td>2016/05/29/an-experiment-with-github-pages-jek...</td>\n",
       "    </tr>\n",
       "    <tr>\n",
       "      <th>20076</th>\n",
       "      <td>http</td>\n",
       "      <td>www.popphoto.com</td>\n",
       "      <td>tips-pro-microscopic-photography</td>\n",
       "    </tr>\n",
       "    <tr>\n",
       "      <th>20077</th>\n",
       "      <td>http</td>\n",
       "      <td>www.vox.com</td>\n",
       "      <td>business-and-finance/2015/12/15/10161100/brian...</td>\n",
       "    </tr>\n",
       "    <tr>\n",
       "      <th>20078</th>\n",
       "      <td>http</td>\n",
       "      <td>www.eecs.berkeley.edu</td>\n",
       "      <td>Pubs/TechRpts/2016/EECS-2016-130.html</td>\n",
       "    </tr>\n",
       "    <tr>\n",
       "      <th>20079</th>\n",
       "      <td>http</td>\n",
       "      <td>www.wsj.com</td>\n",
       "      <td>articles/u-s-judge-rejects-ubers-proposed-100-...</td>\n",
       "    </tr>\n",
       "    <tr>\n",
       "      <th>20080</th>\n",
       "      <td>http</td>\n",
       "      <td>evanhahn.github.io</td>\n",
       "      <td>English-text-highlighting/</td>\n",
       "    </tr>\n",
       "    <tr>\n",
       "      <th>20081</th>\n",
       "      <td>http</td>\n",
       "      <td>www.fastcompany.com</td>\n",
       "      <td>3060811/most-creative-people/the-geek-behind-g...</td>\n",
       "    </tr>\n",
       "    <tr>\n",
       "      <th>20082</th>\n",
       "      <td>http</td>\n",
       "      <td>www.90percentofeverything.com</td>\n",
       "      <td>2012/08/28/usenet-what-have-you-become/</td>\n",
       "    </tr>\n",
       "    <tr>\n",
       "      <th>20083</th>\n",
       "      <td>http</td>\n",
       "      <td>www.nytimes.com</td>\n",
       "      <td>2006/12/09/us/09cemetery.html</td>\n",
       "    </tr>\n",
       "    <tr>\n",
       "      <th>20084</th>\n",
       "      <td>https</td>\n",
       "      <td>www.washingtonpost.com</td>\n",
       "      <td>world/asia_pacific/in-chinas-tibetan-highlands...</td>\n",
       "    </tr>\n",
       "    <tr>\n",
       "      <th>20085</th>\n",
       "      <td>https</td>\n",
       "      <td>medium.com</td>\n",
       "      <td>@lorenzogotuned/applying-some-good-open-source...</td>\n",
       "    </tr>\n",
       "    <tr>\n",
       "      <th>20086</th>\n",
       "      <td>http</td>\n",
       "      <td>www.huffingtonpost.com</td>\n",
       "      <td>bhagwan-chowdry/i-shall-happily-accept-th_b_84...</td>\n",
       "    </tr>\n",
       "    <tr>\n",
       "      <th>20087</th>\n",
       "      <td>https</td>\n",
       "      <td>bugs.debian.org</td>\n",
       "      <td>cgi-bin/bugreport.cgi?bug=819703#425</td>\n",
       "    </tr>\n",
       "    <tr>\n",
       "      <th>20088</th>\n",
       "      <td>http</td>\n",
       "      <td>professional-troublemaker.com</td>\n",
       "      <td>2015/12/24/corbett-sues-tsa-over-new-policy-to...</td>\n",
       "    </tr>\n",
       "    <tr>\n",
       "      <th>20089</th>\n",
       "      <td>https</td>\n",
       "      <td>medium.com</td>\n",
       "      <td>@sktgthill/i-have-10-000-dollars-in-my-bank-ac...</td>\n",
       "    </tr>\n",
       "    <tr>\n",
       "      <th>20090</th>\n",
       "      <td>https</td>\n",
       "      <td>zakird.com</td>\n",
       "      <td>papers/usb.pdf</td>\n",
       "    </tr>\n",
       "    <tr>\n",
       "      <th>20091</th>\n",
       "      <td>https</td>\n",
       "      <td>www.visualstudio.com</td>\n",
       "      <td>products/how-to-buy-vs</td>\n",
       "    </tr>\n",
       "    <tr>\n",
       "      <th>20092</th>\n",
       "      <td>https</td>\n",
       "      <td>www.youtube.com</td>\n",
       "      <td>watch?v=_ZBKX-6Gz6A</td>\n",
       "    </tr>\n",
       "    <tr>\n",
       "      <th>20093</th>\n",
       "      <td>http</td>\n",
       "      <td>motherboard.vice.com</td>\n",
       "      <td>read/i-built-a-botnet-that-could-destroy-spoti...</td>\n",
       "    </tr>\n",
       "    <tr>\n",
       "      <th>20094</th>\n",
       "      <td>http</td>\n",
       "      <td>phys.org</td>\n",
       "      <td>news/2015-11-big-quantum.html</td>\n",
       "    </tr>\n",
       "    <tr>\n",
       "      <th>20095</th>\n",
       "      <td>https</td>\n",
       "      <td>puri.sm</td>\n",
       "      <td>philosophy/how-purism-avoids-intels-active-man...</td>\n",
       "    </tr>\n",
       "    <tr>\n",
       "      <th>20096</th>\n",
       "      <td>https</td>\n",
       "      <td>medium.com</td>\n",
       "      <td>@zreitano/the-yc-application-broken-down-and-t...</td>\n",
       "    </tr>\n",
       "    <tr>\n",
       "      <th>20097</th>\n",
       "      <td>http</td>\n",
       "      <td>blog.darknedgy.net</td>\n",
       "      <td>technology/2016/01/01/0/</td>\n",
       "    </tr>\n",
       "    <tr>\n",
       "      <th>20098</th>\n",
       "      <td>https</td>\n",
       "      <td>medium.com</td>\n",
       "      <td>@benjiwheeler/how-product-hunt-really-works-d8...</td>\n",
       "    </tr>\n",
       "    <tr>\n",
       "      <th>20099</th>\n",
       "      <td>https</td>\n",
       "      <td>github.com</td>\n",
       "      <td>jmcarp/robobrowser</td>\n",
       "    </tr>\n",
       "  </tbody>\n",
       "</table>\n",
       "<p>20100 rows × 3 columns</p>\n",
       "</div>"
      ],
      "text/plain": [
       "           0                                1  \\\n",
       "0       http  www.interactivedynamicvideo.com   \n",
       "1       http                   hueniverse.com   \n",
       "2       http                  www.thewire.com   \n",
       "3      https                   www.amazon.com   \n",
       "4       http                  www.nytimes.com   \n",
       "5       http                  arstechnica.com   \n",
       "6        NaN                              NaN   \n",
       "7        NaN                              NaN   \n",
       "8       http                   firstround.com   \n",
       "9       http         www.southpolestation.com   \n",
       "10      http                   techcrunch.com   \n",
       "11      http                    evonomics.com   \n",
       "12     https                       medium.com   \n",
       "13     https                     iot.seeed.cc   \n",
       "14      http                 www.bfilipek.com   \n",
       "15       NaN                              NaN   \n",
       "16      http            beta.crowdfireapp.com   \n",
       "17       NaN                              NaN   \n",
       "18     https              www.bostonglobe.com   \n",
       "19     https                     www.valid.ly   \n",
       "20      http                    apod.nasa.gov   \n",
       "21      http                    typeplate.com   \n",
       "22       NaN                              NaN   \n",
       "23      http                   techcrunch.com   \n",
       "24      http                   techcrunch.com   \n",
       "25      http                  www.pcworld.com   \n",
       "26      http              marcusvorwaller.com   \n",
       "27      http                      www.usr.com   \n",
       "28     https             blog.ycombinator.com   \n",
       "29     https            communities.intel.com   \n",
       "...      ...                              ...   \n",
       "20070  https                       github.com   \n",
       "20071   http                 host.madison.com   \n",
       "20072  https                    www.yahoo.com   \n",
       "20073   http                           qz.com   \n",
       "20074   http             www.roadandtrack.com   \n",
       "20075   http                         darek.dk   \n",
       "20076   http                 www.popphoto.com   \n",
       "20077   http                      www.vox.com   \n",
       "20078   http            www.eecs.berkeley.edu   \n",
       "20079   http                      www.wsj.com   \n",
       "20080   http               evanhahn.github.io   \n",
       "20081   http              www.fastcompany.com   \n",
       "20082   http    www.90percentofeverything.com   \n",
       "20083   http                  www.nytimes.com   \n",
       "20084  https           www.washingtonpost.com   \n",
       "20085  https                       medium.com   \n",
       "20086   http           www.huffingtonpost.com   \n",
       "20087  https                  bugs.debian.org   \n",
       "20088   http    professional-troublemaker.com   \n",
       "20089  https                       medium.com   \n",
       "20090  https                       zakird.com   \n",
       "20091  https             www.visualstudio.com   \n",
       "20092  https                  www.youtube.com   \n",
       "20093   http             motherboard.vice.com   \n",
       "20094   http                         phys.org   \n",
       "20095  https                          puri.sm   \n",
       "20096  https                       medium.com   \n",
       "20097   http               blog.darknedgy.net   \n",
       "20098  https                       medium.com   \n",
       "20099  https                       github.com   \n",
       "\n",
       "                                                       2  \n",
       "0                                                         \n",
       "1      2016/01/26/how-to-use-open-source-and-shut-the...  \n",
       "2      entertainment/2013/04/florida-djs-april-fools-...  \n",
       "3      Technology-Ventures-Enterprise-Thomas-Byers/dp...  \n",
       "4                    2007/11/07/movies/07stein.html?_r=0  \n",
       "5      business/2015/10/comcast-and-other-isps-boost-...  \n",
       "6                                                    NaN  \n",
       "7                                                    NaN  \n",
       "8      review/shims-jigs-and-other-woodworking-concep...  \n",
       "9                              trivia/igy1/appendix.html  \n",
       "10     2016/03/15/crate-raises-4m-seed-round-for-its-...  \n",
       "11     advertising-cannot-maintain-internet-heres-sol...  \n",
       "12                  @loorinm/coding-is-over-6d653abe8da8  \n",
       "13                                                        \n",
       "14     2016/04/custom-deleters-for-c-smart-pointers.html  \n",
       "15                                                   NaN  \n",
       "16                                        ?beta=agnipath  \n",
       "17                                                   NaN  \n",
       "18     magazine/2015/12/29/years-later-did-big-dig-de...  \n",
       "19                                                        \n",
       "20                                    apod/astropix.html  \n",
       "21                                                        \n",
       "22                                                   NaN  \n",
       "23     2015/12/10/streamroot-makes-video-streaming-ch...  \n",
       "24     2016/01/26/vmware-confirms-layoffs-in-earnings...  \n",
       "25     article/3091104/firmware-exploit-can-defeat-ne...  \n",
       "26              blog/2015/12/14/personal-knowledgebases/  \n",
       "27                          en/products/networking-taps/  \n",
       "28                   fundraising-advice-for-yc-companies  \n",
       "29                                          thread/96038  \n",
       "...                                                  ...  \n",
       "20070                          herkyl/ingredients-parser  \n",
       "20071  wsj/news/local/uw-engineering-phd-student-who-...  \n",
       "20072  tech/apple-s-amazing-new-music-134702380626744...  \n",
       "20073  657246/airbnb-just-acquired-a-team-of-bitcoin-...  \n",
       "20074                 car-culture/a26859/bob-lutz-tesla/  \n",
       "20075  2016/05/29/an-experiment-with-github-pages-jek...  \n",
       "20076                   tips-pro-microscopic-photography  \n",
       "20077  business-and-finance/2015/12/15/10161100/brian...  \n",
       "20078              Pubs/TechRpts/2016/EECS-2016-130.html  \n",
       "20079  articles/u-s-judge-rejects-ubers-proposed-100-...  \n",
       "20080                         English-text-highlighting/  \n",
       "20081  3060811/most-creative-people/the-geek-behind-g...  \n",
       "20082            2012/08/28/usenet-what-have-you-become/  \n",
       "20083                      2006/12/09/us/09cemetery.html  \n",
       "20084  world/asia_pacific/in-chinas-tibetan-highlands...  \n",
       "20085  @lorenzogotuned/applying-some-good-open-source...  \n",
       "20086  bhagwan-chowdry/i-shall-happily-accept-th_b_84...  \n",
       "20087               cgi-bin/bugreport.cgi?bug=819703#425  \n",
       "20088  2015/12/24/corbett-sues-tsa-over-new-policy-to...  \n",
       "20089  @sktgthill/i-have-10-000-dollars-in-my-bank-ac...  \n",
       "20090                                     papers/usb.pdf  \n",
       "20091                             products/how-to-buy-vs  \n",
       "20092                                watch?v=_ZBKX-6Gz6A  \n",
       "20093  read/i-built-a-botnet-that-could-destroy-spoti...  \n",
       "20094                      news/2015-11-big-quantum.html  \n",
       "20095  philosophy/how-purism-avoids-intels-active-man...  \n",
       "20096  @zreitano/the-yc-application-broken-down-and-t...  \n",
       "20097                           technology/2016/01/01/0/  \n",
       "20098  @benjiwheeler/how-product-hunt-really-works-d8...  \n",
       "20099                                 jmcarp/robobrowser  \n",
       "\n",
       "[20100 rows x 3 columns]"
      ]
     },
     "execution_count": 605,
     "metadata": {},
     "output_type": "execute_result"
    }
   ],
   "source": [
    "do"
   ]
  },
  {
   "cell_type": "markdown",
   "metadata": {},
   "source": [
    "### Using Named Capture Groups To Extract Data"
   ]
  },
  {
   "cell_type": "markdown",
   "metadata": {},
   "source": [
    "(?P<name>.+)\\s(?P<time>.+)"
   ]
  },
  {
   "cell_type": "code",
   "execution_count": 591,
   "metadata": {},
   "outputs": [
    {
     "name": "stdout",
     "output_type": "stream",
     "text": [
      "0     8/4/2016 11:52\n",
      "1    1/26/2016 19:30\n",
      "2    6/23/2016 22:20\n",
      "3     6/17/2016 0:01\n",
      "4     9/30/2015 4:12\n",
      "Name: created_at, dtype: object\n"
     ]
    }
   ],
   "source": [
    "created_at = hn['created_at'].head()\n",
    "print(created_at)"
   ]
  },
  {
   "cell_type": "code",
   "execution_count": 594,
   "metadata": {},
   "outputs": [
    {
     "data": {
      "text/html": [
       "<div>\n",
       "<style scoped>\n",
       "    .dataframe tbody tr th:only-of-type {\n",
       "        vertical-align: middle;\n",
       "    }\n",
       "\n",
       "    .dataframe tbody tr th {\n",
       "        vertical-align: top;\n",
       "    }\n",
       "\n",
       "    .dataframe thead th {\n",
       "        text-align: right;\n",
       "    }\n",
       "</style>\n",
       "<table border=\"1\" class=\"dataframe\">\n",
       "  <thead>\n",
       "    <tr style=\"text-align: right;\">\n",
       "      <th></th>\n",
       "      <th>date</th>\n",
       "      <th>time</th>\n",
       "    </tr>\n",
       "  </thead>\n",
       "  <tbody>\n",
       "    <tr>\n",
       "      <th>0</th>\n",
       "      <td>8/4/2016</td>\n",
       "      <td>11:52</td>\n",
       "    </tr>\n",
       "    <tr>\n",
       "      <th>1</th>\n",
       "      <td>1/26/2016</td>\n",
       "      <td>19:30</td>\n",
       "    </tr>\n",
       "    <tr>\n",
       "      <th>2</th>\n",
       "      <td>6/23/2016</td>\n",
       "      <td>22:20</td>\n",
       "    </tr>\n",
       "    <tr>\n",
       "      <th>3</th>\n",
       "      <td>6/17/2016</td>\n",
       "      <td>0:01</td>\n",
       "    </tr>\n",
       "    <tr>\n",
       "      <th>4</th>\n",
       "      <td>9/30/2015</td>\n",
       "      <td>4:12</td>\n",
       "    </tr>\n",
       "  </tbody>\n",
       "</table>\n",
       "</div>"
      ],
      "text/plain": [
       "        date   time\n",
       "0   8/4/2016  11:52\n",
       "1  1/26/2016  19:30\n",
       "2  6/23/2016  22:20\n",
       "3  6/17/2016   0:01\n",
       "4  9/30/2015   4:12"
      ]
     },
     "execution_count": 594,
     "metadata": {},
     "output_type": "execute_result"
    }
   ],
   "source": [
    "pattern = r'(?P<date>.+)\\s(?P<time>.+)'\n",
    "created_at.str.extract(pattern)"
   ]
  },
  {
   "cell_type": "code",
   "execution_count": 608,
   "metadata": {},
   "outputs": [
    {
     "data": {
      "text/html": [
       "<div>\n",
       "<style scoped>\n",
       "    .dataframe tbody tr th:only-of-type {\n",
       "        vertical-align: middle;\n",
       "    }\n",
       "\n",
       "    .dataframe tbody tr th {\n",
       "        vertical-align: top;\n",
       "    }\n",
       "\n",
       "    .dataframe thead th {\n",
       "        text-align: right;\n",
       "    }\n",
       "</style>\n",
       "<table border=\"1\" class=\"dataframe\">\n",
       "  <thead>\n",
       "    <tr style=\"text-align: right;\">\n",
       "      <th></th>\n",
       "      <th>protocol</th>\n",
       "      <th>domain</th>\n",
       "      <th>path</th>\n",
       "    </tr>\n",
       "  </thead>\n",
       "  <tbody>\n",
       "    <tr>\n",
       "      <th>0</th>\n",
       "      <td>https</td>\n",
       "      <td>www.amazon.com</td>\n",
       "      <td>Technology-Ventures-Enterprise-Thomas-Byers/dp...</td>\n",
       "    </tr>\n",
       "    <tr>\n",
       "      <th>1</th>\n",
       "      <td>http</td>\n",
       "      <td>www.interactivedynamicvideo.com</td>\n",
       "      <td></td>\n",
       "    </tr>\n",
       "    <tr>\n",
       "      <th>2</th>\n",
       "      <td>http</td>\n",
       "      <td>www.nytimes.com</td>\n",
       "      <td>2007/11/07/movies/07stein.html?_r=0</td>\n",
       "    </tr>\n",
       "    <tr>\n",
       "      <th>3</th>\n",
       "      <td>http</td>\n",
       "      <td>evonomics.com</td>\n",
       "      <td>advertising-cannot-maintain-internet-heres-sol...</td>\n",
       "    </tr>\n",
       "    <tr>\n",
       "      <th>4</th>\n",
       "      <td>HTTPS</td>\n",
       "      <td>github.com</td>\n",
       "      <td>keppel/pinn</td>\n",
       "    </tr>\n",
       "    <tr>\n",
       "      <th>5</th>\n",
       "      <td>Http</td>\n",
       "      <td>phys.org</td>\n",
       "      <td>news/2015-09-scale-solar-youve.html</td>\n",
       "    </tr>\n",
       "    <tr>\n",
       "      <th>6</th>\n",
       "      <td>https</td>\n",
       "      <td>iot.seeed.cc</td>\n",
       "      <td></td>\n",
       "    </tr>\n",
       "    <tr>\n",
       "      <th>7</th>\n",
       "      <td>http</td>\n",
       "      <td>www.bfilipek.com</td>\n",
       "      <td>2016/04/custom-deleters-for-c-smart-pointers.html</td>\n",
       "    </tr>\n",
       "    <tr>\n",
       "      <th>8</th>\n",
       "      <td>http</td>\n",
       "      <td>beta.crowdfireapp.com</td>\n",
       "      <td>?beta=agnipath</td>\n",
       "    </tr>\n",
       "    <tr>\n",
       "      <th>9</th>\n",
       "      <td>https</td>\n",
       "      <td>www.valid.ly</td>\n",
       "      <td>?param</td>\n",
       "    </tr>\n",
       "    <tr>\n",
       "      <th>10</th>\n",
       "      <td>http</td>\n",
       "      <td>css-cursor.techstream.org</td>\n",
       "      <td></td>\n",
       "    </tr>\n",
       "  </tbody>\n",
       "</table>\n",
       "</div>"
      ],
      "text/plain": [
       "   protocol                           domain  \\\n",
       "0     https                   www.amazon.com   \n",
       "1      http  www.interactivedynamicvideo.com   \n",
       "2      http                  www.nytimes.com   \n",
       "3      http                    evonomics.com   \n",
       "4     HTTPS                       github.com   \n",
       "5      Http                         phys.org   \n",
       "6     https                     iot.seeed.cc   \n",
       "7      http                 www.bfilipek.com   \n",
       "8      http            beta.crowdfireapp.com   \n",
       "9     https                     www.valid.ly   \n",
       "10     http        css-cursor.techstream.org   \n",
       "\n",
       "                                                 path  \n",
       "0   Technology-Ventures-Enterprise-Thomas-Byers/dp...  \n",
       "1                                                      \n",
       "2                 2007/11/07/movies/07stein.html?_r=0  \n",
       "3   advertising-cannot-maintain-internet-heres-sol...  \n",
       "4                                         keppel/pinn  \n",
       "5                 news/2015-09-scale-solar-youve.html  \n",
       "6                                                      \n",
       "7   2016/04/custom-deleters-for-c-smart-pointers.html  \n",
       "8                                      ?beta=agnipath  \n",
       "9                                              ?param  \n",
       "10                                                     "
      ]
     },
     "execution_count": 608,
     "metadata": {},
     "output_type": "execute_result"
    }
   ],
   "source": [
    "pattern = r'(?P<protocol>https?)://(?P<domain>[\\w\\-\\.]+)/?(?P<path>.*)'\n",
    "test_urls.str.extract(pattern, flags = re.I)"
   ]
  },
  {
   "cell_type": "code",
   "execution_count": 598,
   "metadata": {},
   "outputs": [
    {
     "data": {
      "text/html": [
       "<div>\n",
       "<style scoped>\n",
       "    .dataframe tbody tr th:only-of-type {\n",
       "        vertical-align: middle;\n",
       "    }\n",
       "\n",
       "    .dataframe tbody tr th {\n",
       "        vertical-align: top;\n",
       "    }\n",
       "\n",
       "    .dataframe thead th {\n",
       "        text-align: right;\n",
       "    }\n",
       "</style>\n",
       "<table border=\"1\" class=\"dataframe\">\n",
       "  <thead>\n",
       "    <tr style=\"text-align: right;\">\n",
       "      <th></th>\n",
       "      <th>protocol</th>\n",
       "      <th>domain</th>\n",
       "      <th>path</th>\n",
       "    </tr>\n",
       "  </thead>\n",
       "  <tbody>\n",
       "    <tr>\n",
       "      <th>0</th>\n",
       "      <td>http</td>\n",
       "      <td>www.interactivedynamicvideo.com</td>\n",
       "      <td></td>\n",
       "    </tr>\n",
       "    <tr>\n",
       "      <th>1</th>\n",
       "      <td>http</td>\n",
       "      <td>hueniverse.com</td>\n",
       "      <td>2016/01/26/how-to-use-open-source-and-shut-the...</td>\n",
       "    </tr>\n",
       "    <tr>\n",
       "      <th>2</th>\n",
       "      <td>http</td>\n",
       "      <td>www.thewire.com</td>\n",
       "      <td>entertainment/2013/04/florida-djs-april-fools-...</td>\n",
       "    </tr>\n",
       "    <tr>\n",
       "      <th>3</th>\n",
       "      <td>https</td>\n",
       "      <td>www.amazon.com</td>\n",
       "      <td>Technology-Ventures-Enterprise-Thomas-Byers/dp...</td>\n",
       "    </tr>\n",
       "    <tr>\n",
       "      <th>4</th>\n",
       "      <td>http</td>\n",
       "      <td>www.nytimes.com</td>\n",
       "      <td>2007/11/07/movies/07stein.html?_r=0</td>\n",
       "    </tr>\n",
       "    <tr>\n",
       "      <th>5</th>\n",
       "      <td>http</td>\n",
       "      <td>arstechnica.com</td>\n",
       "      <td>business/2015/10/comcast-and-other-isps-boost-...</td>\n",
       "    </tr>\n",
       "    <tr>\n",
       "      <th>6</th>\n",
       "      <td>NaN</td>\n",
       "      <td>NaN</td>\n",
       "      <td>NaN</td>\n",
       "    </tr>\n",
       "    <tr>\n",
       "      <th>7</th>\n",
       "      <td>NaN</td>\n",
       "      <td>NaN</td>\n",
       "      <td>NaN</td>\n",
       "    </tr>\n",
       "    <tr>\n",
       "      <th>8</th>\n",
       "      <td>http</td>\n",
       "      <td>firstround.com</td>\n",
       "      <td>review/shims-jigs-and-other-woodworking-concep...</td>\n",
       "    </tr>\n",
       "    <tr>\n",
       "      <th>9</th>\n",
       "      <td>http</td>\n",
       "      <td>www.southpolestation.com</td>\n",
       "      <td>trivia/igy1/appendix.html</td>\n",
       "    </tr>\n",
       "    <tr>\n",
       "      <th>10</th>\n",
       "      <td>http</td>\n",
       "      <td>techcrunch.com</td>\n",
       "      <td>2016/03/15/crate-raises-4m-seed-round-for-its-...</td>\n",
       "    </tr>\n",
       "    <tr>\n",
       "      <th>11</th>\n",
       "      <td>http</td>\n",
       "      <td>evonomics.com</td>\n",
       "      <td>advertising-cannot-maintain-internet-heres-sol...</td>\n",
       "    </tr>\n",
       "    <tr>\n",
       "      <th>12</th>\n",
       "      <td>https</td>\n",
       "      <td>medium.com</td>\n",
       "      <td>@loorinm/coding-is-over-6d653abe8da8</td>\n",
       "    </tr>\n",
       "    <tr>\n",
       "      <th>13</th>\n",
       "      <td>https</td>\n",
       "      <td>iot.seeed.cc</td>\n",
       "      <td></td>\n",
       "    </tr>\n",
       "    <tr>\n",
       "      <th>14</th>\n",
       "      <td>http</td>\n",
       "      <td>www.bfilipek.com</td>\n",
       "      <td>2016/04/custom-deleters-for-c-smart-pointers.html</td>\n",
       "    </tr>\n",
       "    <tr>\n",
       "      <th>15</th>\n",
       "      <td>NaN</td>\n",
       "      <td>NaN</td>\n",
       "      <td>NaN</td>\n",
       "    </tr>\n",
       "    <tr>\n",
       "      <th>16</th>\n",
       "      <td>http</td>\n",
       "      <td>beta.crowdfireapp.com</td>\n",
       "      <td>?beta=agnipath</td>\n",
       "    </tr>\n",
       "    <tr>\n",
       "      <th>17</th>\n",
       "      <td>NaN</td>\n",
       "      <td>NaN</td>\n",
       "      <td>NaN</td>\n",
       "    </tr>\n",
       "    <tr>\n",
       "      <th>18</th>\n",
       "      <td>https</td>\n",
       "      <td>www.bostonglobe.com</td>\n",
       "      <td>magazine/2015/12/29/years-later-did-big-dig-de...</td>\n",
       "    </tr>\n",
       "    <tr>\n",
       "      <th>19</th>\n",
       "      <td>https</td>\n",
       "      <td>www.valid.ly</td>\n",
       "      <td></td>\n",
       "    </tr>\n",
       "    <tr>\n",
       "      <th>20</th>\n",
       "      <td>http</td>\n",
       "      <td>apod.nasa.gov</td>\n",
       "      <td>apod/astropix.html</td>\n",
       "    </tr>\n",
       "    <tr>\n",
       "      <th>21</th>\n",
       "      <td>http</td>\n",
       "      <td>typeplate.com</td>\n",
       "      <td></td>\n",
       "    </tr>\n",
       "    <tr>\n",
       "      <th>22</th>\n",
       "      <td>NaN</td>\n",
       "      <td>NaN</td>\n",
       "      <td>NaN</td>\n",
       "    </tr>\n",
       "    <tr>\n",
       "      <th>23</th>\n",
       "      <td>http</td>\n",
       "      <td>techcrunch.com</td>\n",
       "      <td>2015/12/10/streamroot-makes-video-streaming-ch...</td>\n",
       "    </tr>\n",
       "    <tr>\n",
       "      <th>24</th>\n",
       "      <td>http</td>\n",
       "      <td>techcrunch.com</td>\n",
       "      <td>2016/01/26/vmware-confirms-layoffs-in-earnings...</td>\n",
       "    </tr>\n",
       "    <tr>\n",
       "      <th>25</th>\n",
       "      <td>http</td>\n",
       "      <td>www.pcworld.com</td>\n",
       "      <td>article/3091104/firmware-exploit-can-defeat-ne...</td>\n",
       "    </tr>\n",
       "    <tr>\n",
       "      <th>26</th>\n",
       "      <td>http</td>\n",
       "      <td>marcusvorwaller.com</td>\n",
       "      <td>blog/2015/12/14/personal-knowledgebases/</td>\n",
       "    </tr>\n",
       "    <tr>\n",
       "      <th>27</th>\n",
       "      <td>http</td>\n",
       "      <td>www.usr.com</td>\n",
       "      <td>en/products/networking-taps/</td>\n",
       "    </tr>\n",
       "    <tr>\n",
       "      <th>28</th>\n",
       "      <td>https</td>\n",
       "      <td>blog.ycombinator.com</td>\n",
       "      <td>fundraising-advice-for-yc-companies</td>\n",
       "    </tr>\n",
       "    <tr>\n",
       "      <th>29</th>\n",
       "      <td>https</td>\n",
       "      <td>communities.intel.com</td>\n",
       "      <td>thread/96038</td>\n",
       "    </tr>\n",
       "    <tr>\n",
       "      <th>...</th>\n",
       "      <td>...</td>\n",
       "      <td>...</td>\n",
       "      <td>...</td>\n",
       "    </tr>\n",
       "    <tr>\n",
       "      <th>20070</th>\n",
       "      <td>https</td>\n",
       "      <td>github.com</td>\n",
       "      <td>herkyl/ingredients-parser</td>\n",
       "    </tr>\n",
       "    <tr>\n",
       "      <th>20071</th>\n",
       "      <td>http</td>\n",
       "      <td>host.madison.com</td>\n",
       "      <td>wsj/news/local/uw-engineering-phd-student-who-...</td>\n",
       "    </tr>\n",
       "    <tr>\n",
       "      <th>20072</th>\n",
       "      <td>https</td>\n",
       "      <td>www.yahoo.com</td>\n",
       "      <td>tech/apple-s-amazing-new-music-134702380626744...</td>\n",
       "    </tr>\n",
       "    <tr>\n",
       "      <th>20073</th>\n",
       "      <td>http</td>\n",
       "      <td>qz.com</td>\n",
       "      <td>657246/airbnb-just-acquired-a-team-of-bitcoin-...</td>\n",
       "    </tr>\n",
       "    <tr>\n",
       "      <th>20074</th>\n",
       "      <td>http</td>\n",
       "      <td>www.roadandtrack.com</td>\n",
       "      <td>car-culture/a26859/bob-lutz-tesla/</td>\n",
       "    </tr>\n",
       "    <tr>\n",
       "      <th>20075</th>\n",
       "      <td>http</td>\n",
       "      <td>darek.dk</td>\n",
       "      <td>2016/05/29/an-experiment-with-github-pages-jek...</td>\n",
       "    </tr>\n",
       "    <tr>\n",
       "      <th>20076</th>\n",
       "      <td>http</td>\n",
       "      <td>www.popphoto.com</td>\n",
       "      <td>tips-pro-microscopic-photography</td>\n",
       "    </tr>\n",
       "    <tr>\n",
       "      <th>20077</th>\n",
       "      <td>http</td>\n",
       "      <td>www.vox.com</td>\n",
       "      <td>business-and-finance/2015/12/15/10161100/brian...</td>\n",
       "    </tr>\n",
       "    <tr>\n",
       "      <th>20078</th>\n",
       "      <td>http</td>\n",
       "      <td>www.eecs.berkeley.edu</td>\n",
       "      <td>Pubs/TechRpts/2016/EECS-2016-130.html</td>\n",
       "    </tr>\n",
       "    <tr>\n",
       "      <th>20079</th>\n",
       "      <td>http</td>\n",
       "      <td>www.wsj.com</td>\n",
       "      <td>articles/u-s-judge-rejects-ubers-proposed-100-...</td>\n",
       "    </tr>\n",
       "    <tr>\n",
       "      <th>20080</th>\n",
       "      <td>http</td>\n",
       "      <td>evanhahn.github.io</td>\n",
       "      <td>English-text-highlighting/</td>\n",
       "    </tr>\n",
       "    <tr>\n",
       "      <th>20081</th>\n",
       "      <td>http</td>\n",
       "      <td>www.fastcompany.com</td>\n",
       "      <td>3060811/most-creative-people/the-geek-behind-g...</td>\n",
       "    </tr>\n",
       "    <tr>\n",
       "      <th>20082</th>\n",
       "      <td>http</td>\n",
       "      <td>www.90percentofeverything.com</td>\n",
       "      <td>2012/08/28/usenet-what-have-you-become/</td>\n",
       "    </tr>\n",
       "    <tr>\n",
       "      <th>20083</th>\n",
       "      <td>http</td>\n",
       "      <td>www.nytimes.com</td>\n",
       "      <td>2006/12/09/us/09cemetery.html</td>\n",
       "    </tr>\n",
       "    <tr>\n",
       "      <th>20084</th>\n",
       "      <td>https</td>\n",
       "      <td>www.washingtonpost.com</td>\n",
       "      <td>world/asia_pacific/in-chinas-tibetan-highlands...</td>\n",
       "    </tr>\n",
       "    <tr>\n",
       "      <th>20085</th>\n",
       "      <td>https</td>\n",
       "      <td>medium.com</td>\n",
       "      <td>@lorenzogotuned/applying-some-good-open-source...</td>\n",
       "    </tr>\n",
       "    <tr>\n",
       "      <th>20086</th>\n",
       "      <td>http</td>\n",
       "      <td>www.huffingtonpost.com</td>\n",
       "      <td>bhagwan-chowdry/i-shall-happily-accept-th_b_84...</td>\n",
       "    </tr>\n",
       "    <tr>\n",
       "      <th>20087</th>\n",
       "      <td>https</td>\n",
       "      <td>bugs.debian.org</td>\n",
       "      <td>cgi-bin/bugreport.cgi?bug=819703#425</td>\n",
       "    </tr>\n",
       "    <tr>\n",
       "      <th>20088</th>\n",
       "      <td>http</td>\n",
       "      <td>professional-troublemaker.com</td>\n",
       "      <td>2015/12/24/corbett-sues-tsa-over-new-policy-to...</td>\n",
       "    </tr>\n",
       "    <tr>\n",
       "      <th>20089</th>\n",
       "      <td>https</td>\n",
       "      <td>medium.com</td>\n",
       "      <td>@sktgthill/i-have-10-000-dollars-in-my-bank-ac...</td>\n",
       "    </tr>\n",
       "    <tr>\n",
       "      <th>20090</th>\n",
       "      <td>https</td>\n",
       "      <td>zakird.com</td>\n",
       "      <td>papers/usb.pdf</td>\n",
       "    </tr>\n",
       "    <tr>\n",
       "      <th>20091</th>\n",
       "      <td>https</td>\n",
       "      <td>www.visualstudio.com</td>\n",
       "      <td>products/how-to-buy-vs</td>\n",
       "    </tr>\n",
       "    <tr>\n",
       "      <th>20092</th>\n",
       "      <td>https</td>\n",
       "      <td>www.youtube.com</td>\n",
       "      <td>watch?v=_ZBKX-6Gz6A</td>\n",
       "    </tr>\n",
       "    <tr>\n",
       "      <th>20093</th>\n",
       "      <td>http</td>\n",
       "      <td>motherboard.vice.com</td>\n",
       "      <td>read/i-built-a-botnet-that-could-destroy-spoti...</td>\n",
       "    </tr>\n",
       "    <tr>\n",
       "      <th>20094</th>\n",
       "      <td>http</td>\n",
       "      <td>phys.org</td>\n",
       "      <td>news/2015-11-big-quantum.html</td>\n",
       "    </tr>\n",
       "    <tr>\n",
       "      <th>20095</th>\n",
       "      <td>https</td>\n",
       "      <td>puri.sm</td>\n",
       "      <td>philosophy/how-purism-avoids-intels-active-man...</td>\n",
       "    </tr>\n",
       "    <tr>\n",
       "      <th>20096</th>\n",
       "      <td>https</td>\n",
       "      <td>medium.com</td>\n",
       "      <td>@zreitano/the-yc-application-broken-down-and-t...</td>\n",
       "    </tr>\n",
       "    <tr>\n",
       "      <th>20097</th>\n",
       "      <td>http</td>\n",
       "      <td>blog.darknedgy.net</td>\n",
       "      <td>technology/2016/01/01/0/</td>\n",
       "    </tr>\n",
       "    <tr>\n",
       "      <th>20098</th>\n",
       "      <td>https</td>\n",
       "      <td>medium.com</td>\n",
       "      <td>@benjiwheeler/how-product-hunt-really-works-d8...</td>\n",
       "    </tr>\n",
       "    <tr>\n",
       "      <th>20099</th>\n",
       "      <td>https</td>\n",
       "      <td>github.com</td>\n",
       "      <td>jmcarp/robobrowser</td>\n",
       "    </tr>\n",
       "  </tbody>\n",
       "</table>\n",
       "<p>20100 rows × 3 columns</p>\n",
       "</div>"
      ],
      "text/plain": [
       "      protocol                           domain  \\\n",
       "0         http  www.interactivedynamicvideo.com   \n",
       "1         http                   hueniverse.com   \n",
       "2         http                  www.thewire.com   \n",
       "3        https                   www.amazon.com   \n",
       "4         http                  www.nytimes.com   \n",
       "5         http                  arstechnica.com   \n",
       "6          NaN                              NaN   \n",
       "7          NaN                              NaN   \n",
       "8         http                   firstround.com   \n",
       "9         http         www.southpolestation.com   \n",
       "10        http                   techcrunch.com   \n",
       "11        http                    evonomics.com   \n",
       "12       https                       medium.com   \n",
       "13       https                     iot.seeed.cc   \n",
       "14        http                 www.bfilipek.com   \n",
       "15         NaN                              NaN   \n",
       "16        http            beta.crowdfireapp.com   \n",
       "17         NaN                              NaN   \n",
       "18       https              www.bostonglobe.com   \n",
       "19       https                     www.valid.ly   \n",
       "20        http                    apod.nasa.gov   \n",
       "21        http                    typeplate.com   \n",
       "22         NaN                              NaN   \n",
       "23        http                   techcrunch.com   \n",
       "24        http                   techcrunch.com   \n",
       "25        http                  www.pcworld.com   \n",
       "26        http              marcusvorwaller.com   \n",
       "27        http                      www.usr.com   \n",
       "28       https             blog.ycombinator.com   \n",
       "29       https            communities.intel.com   \n",
       "...        ...                              ...   \n",
       "20070    https                       github.com   \n",
       "20071     http                 host.madison.com   \n",
       "20072    https                    www.yahoo.com   \n",
       "20073     http                           qz.com   \n",
       "20074     http             www.roadandtrack.com   \n",
       "20075     http                         darek.dk   \n",
       "20076     http                 www.popphoto.com   \n",
       "20077     http                      www.vox.com   \n",
       "20078     http            www.eecs.berkeley.edu   \n",
       "20079     http                      www.wsj.com   \n",
       "20080     http               evanhahn.github.io   \n",
       "20081     http              www.fastcompany.com   \n",
       "20082     http    www.90percentofeverything.com   \n",
       "20083     http                  www.nytimes.com   \n",
       "20084    https           www.washingtonpost.com   \n",
       "20085    https                       medium.com   \n",
       "20086     http           www.huffingtonpost.com   \n",
       "20087    https                  bugs.debian.org   \n",
       "20088     http    professional-troublemaker.com   \n",
       "20089    https                       medium.com   \n",
       "20090    https                       zakird.com   \n",
       "20091    https             www.visualstudio.com   \n",
       "20092    https                  www.youtube.com   \n",
       "20093     http             motherboard.vice.com   \n",
       "20094     http                         phys.org   \n",
       "20095    https                          puri.sm   \n",
       "20096    https                       medium.com   \n",
       "20097     http               blog.darknedgy.net   \n",
       "20098    https                       medium.com   \n",
       "20099    https                       github.com   \n",
       "\n",
       "                                                    path  \n",
       "0                                                         \n",
       "1      2016/01/26/how-to-use-open-source-and-shut-the...  \n",
       "2      entertainment/2013/04/florida-djs-april-fools-...  \n",
       "3      Technology-Ventures-Enterprise-Thomas-Byers/dp...  \n",
       "4                    2007/11/07/movies/07stein.html?_r=0  \n",
       "5      business/2015/10/comcast-and-other-isps-boost-...  \n",
       "6                                                    NaN  \n",
       "7                                                    NaN  \n",
       "8      review/shims-jigs-and-other-woodworking-concep...  \n",
       "9                              trivia/igy1/appendix.html  \n",
       "10     2016/03/15/crate-raises-4m-seed-round-for-its-...  \n",
       "11     advertising-cannot-maintain-internet-heres-sol...  \n",
       "12                  @loorinm/coding-is-over-6d653abe8da8  \n",
       "13                                                        \n",
       "14     2016/04/custom-deleters-for-c-smart-pointers.html  \n",
       "15                                                   NaN  \n",
       "16                                        ?beta=agnipath  \n",
       "17                                                   NaN  \n",
       "18     magazine/2015/12/29/years-later-did-big-dig-de...  \n",
       "19                                                        \n",
       "20                                    apod/astropix.html  \n",
       "21                                                        \n",
       "22                                                   NaN  \n",
       "23     2015/12/10/streamroot-makes-video-streaming-ch...  \n",
       "24     2016/01/26/vmware-confirms-layoffs-in-earnings...  \n",
       "25     article/3091104/firmware-exploit-can-defeat-ne...  \n",
       "26              blog/2015/12/14/personal-knowledgebases/  \n",
       "27                          en/products/networking-taps/  \n",
       "28                   fundraising-advice-for-yc-companies  \n",
       "29                                          thread/96038  \n",
       "...                                                  ...  \n",
       "20070                          herkyl/ingredients-parser  \n",
       "20071  wsj/news/local/uw-engineering-phd-student-who-...  \n",
       "20072  tech/apple-s-amazing-new-music-134702380626744...  \n",
       "20073  657246/airbnb-just-acquired-a-team-of-bitcoin-...  \n",
       "20074                 car-culture/a26859/bob-lutz-tesla/  \n",
       "20075  2016/05/29/an-experiment-with-github-pages-jek...  \n",
       "20076                   tips-pro-microscopic-photography  \n",
       "20077  business-and-finance/2015/12/15/10161100/brian...  \n",
       "20078              Pubs/TechRpts/2016/EECS-2016-130.html  \n",
       "20079  articles/u-s-judge-rejects-ubers-proposed-100-...  \n",
       "20080                         English-text-highlighting/  \n",
       "20081  3060811/most-creative-people/the-geek-behind-g...  \n",
       "20082            2012/08/28/usenet-what-have-you-become/  \n",
       "20083                      2006/12/09/us/09cemetery.html  \n",
       "20084  world/asia_pacific/in-chinas-tibetan-highlands...  \n",
       "20085  @lorenzogotuned/applying-some-good-open-source...  \n",
       "20086  bhagwan-chowdry/i-shall-happily-accept-th_b_84...  \n",
       "20087               cgi-bin/bugreport.cgi?bug=819703#425  \n",
       "20088  2015/12/24/corbett-sues-tsa-over-new-policy-to...  \n",
       "20089  @sktgthill/i-have-10-000-dollars-in-my-bank-ac...  \n",
       "20090                                     papers/usb.pdf  \n",
       "20091                             products/how-to-buy-vs  \n",
       "20092                                watch?v=_ZBKX-6Gz6A  \n",
       "20093  read/i-built-a-botnet-that-could-destroy-spoti...  \n",
       "20094                      news/2015-11-big-quantum.html  \n",
       "20095  philosophy/how-purism-avoids-intels-active-man...  \n",
       "20096  @zreitano/the-yc-application-broken-down-and-t...  \n",
       "20097                           technology/2016/01/01/0/  \n",
       "20098  @benjiwheeler/how-product-hunt-really-works-d8...  \n",
       "20099                                 jmcarp/robobrowser  \n",
       "\n",
       "[20100 rows x 3 columns]"
      ]
     },
     "execution_count": 598,
     "metadata": {},
     "output_type": "execute_result"
    }
   ],
   "source": [
    "do = hn['url'].str.extract(pattern, expand = False, flags = re.I)\n",
    "do"
   ]
  },
  {
   "cell_type": "code",
   "execution_count": null,
   "metadata": {},
   "outputs": [],
   "source": []
  }
 ],
 "metadata": {
  "kernelspec": {
   "display_name": "Python 3",
   "language": "python",
   "name": "python3"
  },
  "language_info": {
   "codemirror_mode": {
    "name": "ipython",
    "version": 3
   },
   "file_extension": ".py",
   "mimetype": "text/x-python",
   "name": "python",
   "nbconvert_exporter": "python",
   "pygments_lexer": "ipython3",
   "version": "3.6.5"
  }
 },
 "nbformat": 4,
 "nbformat_minor": 2
}
