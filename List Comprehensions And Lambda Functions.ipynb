{
 "cells": [
  {
   "cell_type": "markdown",
   "metadata": {},
   "source": [
    "### The JSON Format"
   ]
  },
  {
   "cell_type": "markdown",
   "metadata": {},
   "source": [
    "The Python json module contains a number of functions to make working with JSON objects easier. We can use the json.loads() method to convert JSON data contained in a string to the equivalent set of Python objects:"
   ]
  },
  {
   "cell_type": "code",
   "execution_count": 7,
   "metadata": {},
   "outputs": [
    {
     "name": "stdout",
     "output_type": "stream",
     "text": [
      "<class 'list'>\n"
     ]
    }
   ],
   "source": [
    "json_string = \"\"\"\n",
    "[\n",
    "  {\n",
    "    \"name\": \"Sabine\",\n",
    "    \"age\": 36,\n",
    "    \"favorite_foods\": [\"Pumpkin\", \"Oatmeal\"]\n",
    "  },\n",
    "  {\n",
    "    \"name\": \"Zoe\",\n",
    "    \"age\": 40,\n",
    "    \"favorite_foods\": [\"Chicken\", \"Pizza\", \"Chocolate\"]\n",
    "  },\n",
    "  {\n",
    "    \"name\": \"Heidi\",\n",
    "    \"age\": 40,\n",
    "    \"favorite_foods\": [\"Caesar Salad\"]\n",
    "  }\n",
    "]\n",
    "\"\"\"\n",
    "import json\n",
    "json_obj = json.loads(json_string)\n",
    "print(type(json_obj))"
   ]
  },
  {
   "cell_type": "markdown",
   "metadata": {},
   "source": [
    "json_obj is turned into a list"
   ]
  },
  {
   "cell_type": "code",
   "execution_count": 8,
   "metadata": {},
   "outputs": [
    {
     "name": "stdout",
     "output_type": "stream",
     "text": [
      "[{'name': 'Sabine', 'age': 36, 'favorite_foods': ['Pumpkin', 'Oatmeal']}, {'name': 'Zoe', 'age': 40, 'favorite_foods': ['Chicken', 'Pizza', 'Chocolate']}, {'name': 'Heidi', 'age': 40, 'favorite_foods': ['Caesar Salad']}]\n"
     ]
    }
   ],
   "source": [
    "print(json_obj)"
   ]
  },
  {
   "cell_type": "markdown",
   "metadata": {},
   "source": [
    "### Instructions\n",
    "\n",
    "We have created a JSON string, world_cup_str, which contains data about games from the 2018 Football World Cup.\n",
    "\n",
    "Import the json module.\n",
    "1. Use json.loads() to convert world_cup_str to a Python object. Assign the result to world_cup_obj.\n"
   ]
  },
  {
   "cell_type": "code",
   "execution_count": 9,
   "metadata": {},
   "outputs": [],
   "source": [
    "world_cup_str = \"\"\"\n",
    "[\n",
    "    {\n",
    "        \"team_1\": \"France\",\n",
    "        \"team_2\": \"Croatia\",\n",
    "        \"game_type\": \"Final\",\n",
    "        \"score\" : [4, 2]\n",
    "    },\n",
    "    {\n",
    "        \"team_1\": \"Belgium\",\n",
    "        \"team_2\": \"England\",\n",
    "        \"game_type\": \"3rd/4th Playoff\",\n",
    "        \"score\" : [2, 0]\n",
    "    }\n",
    "]\n",
    "\"\"\""
   ]
  },
  {
   "cell_type": "code",
   "execution_count": 10,
   "metadata": {},
   "outputs": [
    {
     "name": "stdout",
     "output_type": "stream",
     "text": [
      "<class 'list'>\n"
     ]
    }
   ],
   "source": [
    "world_cup_obj = json.loads(world_cup_str)\n",
    "print(type(world_cup_obj))"
   ]
  },
  {
   "cell_type": "markdown",
   "metadata": {},
   "source": [
    "### Reading JSON File "
   ]
  },
  {
   "cell_type": "markdown",
   "metadata": {},
   "source": [
    "One of the places where the JSON format is commonly used is in the results returned by an Application programming interface (API). APIs are interfaces that can be used to send and transmit data between different computer systems. "
   ]
  },
  {
   "cell_type": "code",
   "execution_count": 11,
   "metadata": {},
   "outputs": [
    {
     "name": "stdout",
     "output_type": "stream",
     "text": [
      "<class 'list'>\n"
     ]
    }
   ],
   "source": [
    "import json\n",
    "file = open('hn_2014.json')\n",
    "hn = json.load(file)\n",
    "print(type(hn))"
   ]
  },
  {
   "cell_type": "code",
   "execution_count": 12,
   "metadata": {},
   "outputs": [
    {
     "name": "stdout",
     "output_type": "stream",
     "text": [
      "35806\n",
      "<class 'dict'>\n"
     ]
    }
   ],
   "source": [
    "print(len(hn))\n",
    "print(type(hn[0]))"
   ]
  },
  {
   "cell_type": "code",
   "execution_count": 13,
   "metadata": {},
   "outputs": [
    {
     "name": "stdout",
     "output_type": "stream",
     "text": [
      "dict_keys(['author', 'numComments', 'points', 'url', 'storyText', 'createdAt', 'tags', 'createdAtI', 'title', 'objectId'])\n"
     ]
    }
   ],
   "source": [
    "print(hn[0].keys())"
   ]
  },
  {
   "cell_type": "markdown",
   "metadata": {},
   "source": [
    "### Deleting Dictionary Keys "
   ]
  },
  {
   "cell_type": "markdown",
   "metadata": {},
   "source": [
    "The function will use the json.dumps() function (\"dump string\") which does the opposite of the json.loads() function — it takes a JSON object and returns a string version of it. The json.dumps() function accepts arguments that can specify formatting for the string, which we'll use to make things easier to read:"
   ]
  },
  {
   "cell_type": "code",
   "execution_count": 14,
   "metadata": {},
   "outputs": [],
   "source": [
    "def jprint(obj):\n",
    "    text = json.dumps(obj, sort_keys = True,indent = 4)\n",
    "    print(text)"
   ]
  },
  {
   "cell_type": "code",
   "execution_count": 15,
   "metadata": {},
   "outputs": [
    {
     "name": "stdout",
     "output_type": "stream",
     "text": [
      "{\n",
      "    \"author\": \"dragongraphics\",\n",
      "    \"createdAt\": \"2014-05-29T08:07:50Z\",\n",
      "    \"createdAtI\": 1401350870,\n",
      "    \"numComments\": 0,\n",
      "    \"objectId\": \"7815238\",\n",
      "    \"points\": 2,\n",
      "    \"storyText\": \"\",\n",
      "    \"tags\": [\n",
      "        \"story\",\n",
      "        \"author_dragongraphics\",\n",
      "        \"story_7815238\"\n",
      "    ],\n",
      "    \"title\": \"Are we getting too Sassy? Weighing up micro-optimisation vs. maintainability\",\n",
      "    \"url\": \"http://ashleynolan.co.uk/blog/are-we-getting-too-sassy\"\n",
      "}\n"
     ]
    }
   ],
   "source": [
    "first_story = hn[0]\n",
    "jprint(first_story)"
   ]
  },
  {
   "cell_type": "code",
   "execution_count": 16,
   "metadata": {},
   "outputs": [
    {
     "name": "stdout",
     "output_type": "stream",
     "text": [
      "{'b': 2, 'c': 3}\n"
     ]
    }
   ],
   "source": [
    "d = {'a': 1, 'b': 2, 'c': 3}\n",
    "del d['a']\n",
    "print(d)"
   ]
  },
  {
   "cell_type": "code",
   "execution_count": 17,
   "metadata": {},
   "outputs": [],
   "source": [
    "def del_key(dict_,key):\n",
    "    modified_dict = dict_.copy()\n",
    "    del modified_dict[key]\n",
    "    return modified_dict"
   ]
  },
  {
   "cell_type": "code",
   "execution_count": 18,
   "metadata": {},
   "outputs": [
    {
     "name": "stdout",
     "output_type": "stream",
     "text": [
      "{\n",
      "    \"author\": \"dragongraphics\",\n",
      "    \"createdAt\": \"2014-05-29T08:07:50Z\",\n",
      "    \"numComments\": 0,\n",
      "    \"objectId\": \"7815238\",\n",
      "    \"points\": 2,\n",
      "    \"storyText\": \"\",\n",
      "    \"tags\": [\n",
      "        \"story\",\n",
      "        \"author_dragongraphics\",\n",
      "        \"story_7815238\"\n",
      "    ],\n",
      "    \"title\": \"Are we getting too Sassy? Weighing up micro-optimisation vs. maintainability\",\n",
      "    \"url\": \"http://ashleynolan.co.uk/blog/are-we-getting-too-sassy\"\n",
      "}\n"
     ]
    }
   ],
   "source": [
    "first_story = del_key(first_story, 'createdAtI')\n",
    "jprint(first_story)"
   ]
  },
  {
   "cell_type": "markdown",
   "metadata": {},
   "source": [
    "### Instructions\n",
    "\n",
    "We have provided the code for the del_key() function.\n",
    "\n",
    "1. Create an empty list, hn_clean to store the cleaned data set.\n",
    "2. Loop over the dictionaries in the hn list. In each iteration:\n",
    "3. Use the del_key() function to delete the createdAtI key from the dictionary.\n",
    "4. Append the cleaned dictionary to hn_clean.\n"
   ]
  },
  {
   "cell_type": "code",
   "execution_count": 19,
   "metadata": {},
   "outputs": [],
   "source": [
    "hn_clean = []\n",
    "for lists in hn:\n",
    "    del_ = del_key(lists,'createdAtI')\n",
    "    hn_clean.append(del_)"
   ]
  },
  {
   "cell_type": "code",
   "execution_count": 20,
   "metadata": {},
   "outputs": [
    {
     "data": {
      "text/plain": [
       "{'author': 'jcr',\n",
       " 'numComments': 0,\n",
       " 'points': 1,\n",
       " 'url': 'http://spectrum.ieee.org/automaton/robotics/home-robots/telemba-telepresence-robot',\n",
       " 'storyText': '',\n",
       " 'createdAt': '2014-05-29T08:05:58Z',\n",
       " 'tags': ['story', 'author_jcr', 'story_7815234'],\n",
       " 'title': 'Telemba Turns Your Old Roomba and Tablet Into a Telepresence Robot',\n",
       " 'objectId': '7815234'}"
      ]
     },
     "execution_count": 20,
     "metadata": {},
     "output_type": "execute_result"
    }
   ],
   "source": [
    "hn_clean[1]"
   ]
  },
  {
   "cell_type": "markdown",
   "metadata": {},
   "source": [
    "### Writing List Comprehension"
   ]
  },
  {
   "cell_type": "markdown",
   "metadata": {},
   "source": [
    "A list comprehension provides a concise way of creating lists in a single line of code."
   ]
  },
  {
   "cell_type": "code",
   "execution_count": 21,
   "metadata": {},
   "outputs": [],
   "source": [
    "ints = [1,2,3,4]\n",
    "plus_one = []\n",
    "for i in ints:\n",
    "    plus_one.append(i+1)"
   ]
  },
  {
   "cell_type": "code",
   "execution_count": 22,
   "metadata": {},
   "outputs": [
    {
     "name": "stdout",
     "output_type": "stream",
     "text": [
      "[2, 3, 4, 5]\n"
     ]
    }
   ],
   "source": [
    "print(plus_one)"
   ]
  },
  {
   "cell_type": "code",
   "execution_count": 23,
   "metadata": {},
   "outputs": [
    {
     "name": "stdout",
     "output_type": "stream",
     "text": [
      "[2, 3, 4, 5]\n"
     ]
    }
   ],
   "source": [
    "plus_one = [i+1 for i in ints]\n",
    "print(plus_one)"
   ]
  },
  {
   "cell_type": "code",
   "execution_count": 24,
   "metadata": {},
   "outputs": [],
   "source": [
    "times_ten = []\n",
    "for i in ints:\n",
    "    times_ten.append(i*10)"
   ]
  },
  {
   "cell_type": "code",
   "execution_count": 25,
   "metadata": {},
   "outputs": [
    {
     "name": "stdout",
     "output_type": "stream",
     "text": [
      "[10, 20, 30, 40]\n"
     ]
    }
   ],
   "source": [
    "print(times_ten)"
   ]
  },
  {
   "cell_type": "code",
   "execution_count": 26,
   "metadata": {},
   "outputs": [
    {
     "name": "stdout",
     "output_type": "stream",
     "text": [
      "[10, 20, 30, 40]\n"
     ]
    }
   ],
   "source": [
    "times_ten = [i*10 for i in ints]\n",
    "print(times_ten)"
   ]
  },
  {
   "cell_type": "code",
   "execution_count": 27,
   "metadata": {},
   "outputs": [
    {
     "name": "stdout",
     "output_type": "stream",
     "text": [
      "[2, 9, 4, 9]\n"
     ]
    }
   ],
   "source": [
    "floats = [2.1,8.7,4.2,8.9]\n",
    "rounded = []\n",
    "for f in floats:\n",
    "    rounded.append(round(f))\n",
    "print(rounded)"
   ]
  },
  {
   "cell_type": "code",
   "execution_count": 28,
   "metadata": {},
   "outputs": [
    {
     "name": "stdout",
     "output_type": "stream",
     "text": [
      "[2, 9, 4, 9]\n"
     ]
    }
   ],
   "source": [
    "rounded = [round(f) for f in floats]\n",
    "print(rounded)"
   ]
  },
  {
   "cell_type": "code",
   "execution_count": 29,
   "metadata": {},
   "outputs": [
    {
     "name": "stdout",
     "output_type": "stream",
     "text": [
      "['A', 'B', 'C', 'D']\n"
     ]
    }
   ],
   "source": [
    "letters = ['a','b','c','d']\n",
    "caps = []\n",
    "for l in letters:\n",
    "    caps.append(l.upper())\n",
    "print(caps)"
   ]
  },
  {
   "cell_type": "code",
   "execution_count": 30,
   "metadata": {},
   "outputs": [
    {
     "name": "stdout",
     "output_type": "stream",
     "text": [
      "['A', 'B', 'C', 'D']\n"
     ]
    }
   ],
   "source": [
    "caps = [l.upper() for l in letters]\n",
    "print(caps)"
   ]
  },
  {
   "cell_type": "code",
   "execution_count": 31,
   "metadata": {},
   "outputs": [],
   "source": [
    "hn_clean = []\n",
    "for d in hn:\n",
    "    new_d = del_key(d,'createdAtI')\n",
    "    hn_clean.append(new_d)"
   ]
  },
  {
   "cell_type": "code",
   "execution_count": 32,
   "metadata": {},
   "outputs": [],
   "source": [
    "hn_clean = [del_key(d,'createdAtI') for d in hn]"
   ]
  },
  {
   "cell_type": "code",
   "execution_count": 33,
   "metadata": {},
   "outputs": [
    {
     "data": {
      "text/plain": [
       "{'author': 'dragongraphics',\n",
       " 'numComments': 0,\n",
       " 'points': 2,\n",
       " 'url': 'http://ashleynolan.co.uk/blog/are-we-getting-too-sassy',\n",
       " 'storyText': '',\n",
       " 'createdAt': '2014-05-29T08:07:50Z',\n",
       " 'tags': ['story', 'author_dragongraphics', 'story_7815238'],\n",
       " 'title': 'Are we getting too Sassy? Weighing up micro-optimisation vs. maintainability',\n",
       " 'objectId': '7815238'}"
      ]
     },
     "execution_count": 33,
     "metadata": {},
     "output_type": "execute_result"
    }
   ],
   "source": [
    "hn_clean[0]"
   ]
  },
  {
   "cell_type": "markdown",
   "metadata": {},
   "source": [
    "### Using List Comprehension to Transform and Create Lists"
   ]
  },
  {
   "cell_type": "markdown",
   "metadata": {},
   "source": [
    "List comprehensions can be used for many different things. Three common applications are:\n",
    "\n",
    "1. Transforming a list\n",
    "2. Creating a new list\n",
    "3. Reducing a list\n"
   ]
  },
  {
   "cell_type": "code",
   "execution_count": 34,
   "metadata": {},
   "outputs": [],
   "source": [
    "squares = [1,4,9,16,25,36]"
   ]
  },
  {
   "cell_type": "code",
   "execution_count": 35,
   "metadata": {},
   "outputs": [
    {
     "name": "stdout",
     "output_type": "stream",
     "text": [
      "[1.0, 2.0, 3.0, 4.0, 5.0, 6.0]\n"
     ]
    }
   ],
   "source": [
    "sqroots = []\n",
    "for sq in squares:\n",
    "    sqroots.append(sq**(0.5))\n",
    "print(sqroots)"
   ]
  },
  {
   "cell_type": "code",
   "execution_count": 36,
   "metadata": {},
   "outputs": [
    {
     "name": "stdout",
     "output_type": "stream",
     "text": [
      "[1.0, 2.0, 3.0, 4.0, 5.0, 6.0]\n"
     ]
    }
   ],
   "source": [
    "sqroots = [sq**0.5 for sq in squares]\n",
    "print(sqroots)"
   ]
  },
  {
   "cell_type": "markdown",
   "metadata": {},
   "source": [
    "As an example, let's create a list of generic columns names that we could use to create a dataframe using the range() function and the str.format() method to combine numbers and text:"
   ]
  },
  {
   "cell_type": "code",
   "execution_count": 37,
   "metadata": {},
   "outputs": [
    {
     "ename": "SyntaxError",
     "evalue": "invalid syntax (<ipython-input-37-793833788b4f>, line 1)",
     "output_type": "error",
     "traceback": [
      "\u001b[1;36m  File \u001b[1;32m\"<ipython-input-37-793833788b4f>\"\u001b[1;36m, line \u001b[1;32m1\u001b[0m\n\u001b[1;33m    cols =\u001b[0m\n\u001b[1;37m           ^\u001b[0m\n\u001b[1;31mSyntaxError\u001b[0m\u001b[1;31m:\u001b[0m invalid syntax\n"
     ]
    }
   ],
   "source": [
    "cols = "
   ]
  },
  {
   "cell_type": "code",
   "execution_count": 38,
   "metadata": {},
   "outputs": [
    {
     "name": "stdout",
     "output_type": "stream",
     "text": [
      "['col()', 'col()', 'col()', 'col()']\n"
     ]
    }
   ],
   "source": [
    "cols = []\n",
    "for i in range(1,5):\n",
    "    cols.append('col()'.format(i))\n",
    "print(cols)"
   ]
  },
  {
   "cell_type": "code",
   "execution_count": 39,
   "metadata": {},
   "outputs": [
    {
     "name": "stdout",
     "output_type": "stream",
     "text": [
      "['col()', 'col()', 'col()', 'col()']\n"
     ]
    }
   ],
   "source": [
    "cols = ['col()'.format(i) for i in range(1,5)]\n",
    "print(cols)"
   ]
  },
  {
   "cell_type": "code",
   "execution_count": 40,
   "metadata": {},
   "outputs": [
    {
     "name": "stdout",
     "output_type": "stream",
     "text": [
      "   col()  col()  col()  col()\n",
      "0    0.0    0.0    0.0    0.0\n",
      "1    0.0    0.0    0.0    0.0\n",
      "2    0.0    0.0    0.0    0.0\n",
      "3    0.0    0.0    0.0    0.0\n"
     ]
    }
   ],
   "source": [
    "import numpy as np\n",
    "import pandas as pd\n",
    "data = np.zeros((4,4))\n",
    "df = pd.DataFrame(data, columns = cols)\n",
    "print(df)"
   ]
  },
  {
   "cell_type": "code",
   "execution_count": 41,
   "metadata": {},
   "outputs": [],
   "source": [
    "urls = [i['url'] for i in hn_clean]"
   ]
  },
  {
   "cell_type": "code",
   "execution_count": 42,
   "metadata": {},
   "outputs": [],
   "source": [
    "urls = []\n",
    "for i in hn_clean:\n",
    "    urls.append(i['url'])"
   ]
  },
  {
   "cell_type": "code",
   "execution_count": 43,
   "metadata": {},
   "outputs": [
    {
     "data": {
      "text/plain": [
       "'http://ashleynolan.co.uk/blog/are-we-getting-too-sassy'"
      ]
     },
     "execution_count": 43,
     "metadata": {},
     "output_type": "execute_result"
    }
   ],
   "source": [
    "hn_clean[0]['url']"
   ]
  },
  {
   "cell_type": "code",
   "execution_count": 44,
   "metadata": {},
   "outputs": [],
   "source": [
    "tb = {}\n",
    "ta = ['o','o','v','v']\n",
    "for i in ta:\n",
    "    if i in tb:\n",
    "        tb[i] +=1\n",
    "    else:\n",
    "        tb[i] = 1"
   ]
  },
  {
   "cell_type": "code",
   "execution_count": 95,
   "metadata": {},
   "outputs": [
    {
     "data": {
      "text/plain": [
       "{'o': 2, 'v': 2}"
      ]
     },
     "execution_count": 95,
     "metadata": {},
     "output_type": "execute_result"
    }
   ],
   "source": [
    "tb"
   ]
  },
  {
   "cell_type": "markdown",
   "metadata": {},
   "source": [
    "### Using List Comprehension to reduce a list"
   ]
  },
  {
   "cell_type": "code",
   "execution_count": 45,
   "metadata": {},
   "outputs": [
    {
     "name": "stdout",
     "output_type": "stream",
     "text": [
      "[84, 77, 56]\n"
     ]
    }
   ],
   "source": [
    "ints = [25,14,13,84,43,6,77,56]\n",
    "big_ints = []\n",
    "for i in ints:\n",
    "    if i >= 50:\n",
    "        big_ints.append(i)\n",
    "print(big_ints)"
   ]
  },
  {
   "cell_type": "code",
   "execution_count": 46,
   "metadata": {},
   "outputs": [
    {
     "name": "stdout",
     "output_type": "stream",
     "text": [
      "[84, 77, 56]\n"
     ]
    }
   ],
   "source": [
    "big_ints = [i for i in ints if i>=50]\n",
    "print(big_ints)"
   ]
  },
  {
   "cell_type": "code",
   "execution_count": 49,
   "metadata": {},
   "outputs": [
    {
     "name": "stdout",
     "output_type": "stream",
     "text": [
      "9279\n"
     ]
    }
   ],
   "source": [
    "has_comments = []\n",
    "for d in hn_clean:\n",
    "    if d['numComments'] > 0:\n",
    "        has_comments.append(d)\n",
    "num_comment = len(has_comments)\n",
    "print(num_comment)"
   ]
  },
  {
   "cell_type": "code",
   "execution_count": 50,
   "metadata": {},
   "outputs": [
    {
     "name": "stdout",
     "output_type": "stream",
     "text": [
      "9279\n"
     ]
    }
   ],
   "source": [
    "has_comments = [d for d in hn_clean if d['numComments']>0]\n",
    "num_comments = len(has_comments)\n",
    "print(num_comments)"
   ]
  },
  {
   "cell_type": "code",
   "execution_count": 54,
   "metadata": {},
   "outputs": [
    {
     "name": "stdout",
     "output_type": "stream",
     "text": [
      "8\n"
     ]
    }
   ],
   "source": [
    "thousand_points = []\n",
    "for p in hn_clean:\n",
    "    if p['points'] > 1000:\n",
    "        thousand_points.append(p)\n",
    "num_thousand_points = len(thousand_points)\n",
    "print(num_thousand_points)"
   ]
  },
  {
   "cell_type": "code",
   "execution_count": 55,
   "metadata": {},
   "outputs": [
    {
     "name": "stdout",
     "output_type": "stream",
     "text": [
      "8\n"
     ]
    }
   ],
   "source": [
    "thousand_points = [p for p in hn_clean if p['points']>1000]\n",
    "num_thousand_points = len(thousand_points)\n",
    "print(num_thousand_points)"
   ]
  },
  {
   "cell_type": "markdown",
   "metadata": {},
   "source": [
    "### Parsing Functions as Arguments"
   ]
  },
  {
   "cell_type": "code",
   "execution_count": 56,
   "metadata": {},
   "outputs": [
    {
     "name": "stdout",
     "output_type": "stream",
     "text": [
      "[\n",
      "    {\n",
      "        \"age\": 36,\n",
      "        \"favorite_foods\": [\n",
      "            \"Pumpkin\",\n",
      "            \"Oatmeal\"\n",
      "        ],\n",
      "        \"name\": \"Sabine\"\n",
      "    },\n",
      "    {\n",
      "        \"age\": 40,\n",
      "        \"favorite_foods\": [\n",
      "            \"Chicken\",\n",
      "            \"Pizza\",\n",
      "            \"Chocolate\"\n",
      "        ],\n",
      "        \"name\": \"Zoe\"\n",
      "    },\n",
      "    {\n",
      "        \"age\": 40,\n",
      "        \"favorite_foods\": [\n",
      "            \"Caesar Salad\"\n",
      "        ],\n",
      "        \"name\": \"Heidi\"\n",
      "    }\n",
      "]\n"
     ]
    }
   ],
   "source": [
    "jprint(json_obj)"
   ]
  },
  {
   "cell_type": "code",
   "execution_count": 57,
   "metadata": {},
   "outputs": [
    {
     "ename": "TypeError",
     "evalue": "'<' not supported between instances of 'dict' and 'dict'",
     "output_type": "error",
     "traceback": [
      "\u001b[1;31m---------------------------------------------------------------------------\u001b[0m",
      "\u001b[1;31mTypeError\u001b[0m                                 Traceback (most recent call last)",
      "\u001b[1;32m<ipython-input-57-60cd4510e136>\u001b[0m in \u001b[0;36m<module>\u001b[1;34m()\u001b[0m\n\u001b[1;32m----> 1\u001b[1;33m \u001b[0mmin\u001b[0m\u001b[1;33m(\u001b[0m\u001b[0mjson_obj\u001b[0m\u001b[1;33m)\u001b[0m\u001b[1;33m\u001b[0m\u001b[0m\n\u001b[0m",
      "\u001b[1;31mTypeError\u001b[0m: '<' not supported between instances of 'dict' and 'dict'"
     ]
    }
   ],
   "source": [
    "min(json_obj)"
   ]
  },
  {
   "cell_type": "markdown",
   "metadata": {},
   "source": [
    "#### How to parse a function as an argument"
   ]
  },
  {
   "cell_type": "code",
   "execution_count": 70,
   "metadata": {},
   "outputs": [
    {
     "data": {
      "text/plain": [
       "'hello'"
      ]
     },
     "execution_count": 70,
     "metadata": {},
     "output_type": "execute_result"
    }
   ],
   "source": [
    "def greet():\n",
    "    return 'hello'\n",
    "greet()"
   ]
  },
  {
   "cell_type": "code",
   "execution_count": 64,
   "metadata": {},
   "outputs": [
    {
     "name": "stdout",
     "output_type": "stream",
     "text": [
      "<class 'str'>\n"
     ]
    }
   ],
   "source": [
    "t = type(greet())\n",
    "print(t)"
   ]
  },
  {
   "cell_type": "code",
   "execution_count": 65,
   "metadata": {},
   "outputs": [
    {
     "name": "stdout",
     "output_type": "stream",
     "text": [
      "<class 'function'>\n"
     ]
    }
   ],
   "source": [
    "t = type(greet)\n",
    "print(t)"
   ]
  },
  {
   "cell_type": "code",
   "execution_count": 66,
   "metadata": {},
   "outputs": [
    {
     "data": {
      "text/plain": [
       "'hello'"
      ]
     },
     "execution_count": 66,
     "metadata": {},
     "output_type": "execute_result"
    }
   ],
   "source": [
    "greet_2 = greet\n",
    "greet_2()"
   ]
  },
  {
   "cell_type": "code",
   "execution_count": 71,
   "metadata": {},
   "outputs": [],
   "source": [
    "def run_func(func):\n",
    "    print('RUNNING FUNCTION: {}'.format(func))\n",
    "    return func"
   ]
  },
  {
   "cell_type": "code",
   "execution_count": 74,
   "metadata": {},
   "outputs": [
    {
     "name": "stdout",
     "output_type": "stream",
     "text": [
      "RUNNING FUNCTION: <function greet at 0x000000AC93EB9BF8>\n"
     ]
    },
    {
     "data": {
      "text/plain": [
       "<function __main__.greet()>"
      ]
     },
     "execution_count": 74,
     "metadata": {},
     "output_type": "execute_result"
    }
   ],
   "source": [
    "run_func(greet)"
   ]
  },
  {
   "cell_type": "code",
   "execution_count": 75,
   "metadata": {},
   "outputs": [],
   "source": [
    "def get_age(json_dict):\n",
    "    return json_dict['age']"
   ]
  },
  {
   "cell_type": "code",
   "execution_count": 77,
   "metadata": {},
   "outputs": [
    {
     "name": "stdout",
     "output_type": "stream",
     "text": [
      "{\n",
      "    \"age\": 36,\n",
      "    \"favorite_foods\": [\n",
      "        \"Pumpkin\",\n",
      "        \"Oatmeal\"\n",
      "    ],\n",
      "    \"name\": \"Sabine\"\n",
      "}\n"
     ]
    }
   ],
   "source": [
    "def get_age(json_dict):\n",
    "    return json_dict['age']\n",
    "youngest = min(json_obj, key = get_age)\n",
    "jprint(youngest)"
   ]
  },
  {
   "cell_type": "code",
   "execution_count": 93,
   "metadata": {},
   "outputs": [],
   "source": [
    "def num(num_comments):\n",
    "    return num_comments['numComments']\n",
    "most_comments = max(hn_clean, key = num)"
   ]
  },
  {
   "cell_type": "code",
   "execution_count": 94,
   "metadata": {},
   "outputs": [
    {
     "name": "stdout",
     "output_type": "stream",
     "text": [
      "{'author': 'platz', 'numComments': 1208, 'points': 889, 'url': 'https://blog.mozilla.org/blog/2014/04/03/brendan-eich-steps-down-as-mozilla-ceo/', 'storyText': None, 'createdAt': '2014-04-03T19:02:53Z', 'tags': ['story', 'author_platz', 'story_7525198'], 'title': 'Brendan Eich Steps Down as Mozilla CEO', 'objectId': '7525198'}\n"
     ]
    }
   ],
   "source": [
    "print(most_comments)"
   ]
  },
  {
   "cell_type": "code",
   "execution_count": 88,
   "metadata": {},
   "outputs": [
    {
     "data": {
      "text/plain": [
       "0"
      ]
     },
     "execution_count": 88,
     "metadata": {},
     "output_type": "execute_result"
    }
   ],
   "source": [
    "hn_clean[9]['numComments']"
   ]
  },
  {
   "cell_type": "markdown",
   "metadata": {},
   "source": [
    "### Lambda Functions"
   ]
  },
  {
   "cell_type": "markdown",
   "metadata": {},
   "source": [
    "These functions are called lambda functions. Lambda functions can be defined in a single line, which allows you to define a function you want to pass as an argument at the time you need it."
   ]
  },
  {
   "cell_type": "code",
   "execution_count": 100,
   "metadata": {},
   "outputs": [],
   "source": [
    "def unchanged(x):\n",
    "    return x"
   ]
  },
  {
   "cell_type": "markdown",
   "metadata": {},
   "source": [
    "unchanged - Function Name  \n",
    "                        (x)- parameter\n",
    "                                                            x - Transformation\n",
    "\n",
    "To create a lambda function equivalent of this function, we:\n",
    "\n",
    "1. Use the lambda keyword, followed by\n",
    "2. The parameter and a colon, and then\n",
    "3. The transformation we wish to perform on our argument\n",
    "4. We can then assign that to the function name:\n"
   ]
  },
  {
   "cell_type": "code",
   "execution_count": 101,
   "metadata": {},
   "outputs": [],
   "source": [
    "unchanged = lambda x:x"
   ]
  },
  {
   "cell_type": "code",
   "execution_count": 102,
   "metadata": {},
   "outputs": [],
   "source": [
    "def plus_one(x):\n",
    "    return x+1"
   ]
  },
  {
   "cell_type": "code",
   "execution_count": 103,
   "metadata": {},
   "outputs": [],
   "source": [
    "plus_one = lambda x:x+1"
   ]
  },
  {
   "cell_type": "code",
   "execution_count": 104,
   "metadata": {},
   "outputs": [],
   "source": [
    "def add(x,y):\n",
    "    return x+y"
   ]
  },
  {
   "cell_type": "code",
   "execution_count": 105,
   "metadata": {},
   "outputs": [],
   "source": [
    "add = lambda x,y:x+y"
   ]
  },
  {
   "cell_type": "markdown",
   "metadata": {},
   "source": [
    "If a function is particularly complex, it may be a better choice to define a regular function rather than create a lambda, even if it will only be used once. For instance, this function below, which extracts digits from a string and then adds one to the resultant integer:\n",
    "\n",
    "\n"
   ]
  },
  {
   "cell_type": "code",
   "execution_count": 106,
   "metadata": {},
   "outputs": [],
   "source": [
    "def extract_and_increment(string):\n",
    "    digits = re.search(r\"\\d+\", string).group()\n",
    "    incremented = int(digits) + 1\n",
    "    return incremented"
   ]
  },
  {
   "cell_type": "code",
   "execution_count": 107,
   "metadata": {},
   "outputs": [],
   "source": [
    "extract_and_increment = lambda string:int((re.search(r'\\d+',string).group()))+1"
   ]
  },
  {
   "cell_type": "code",
   "execution_count": 108,
   "metadata": {},
   "outputs": [],
   "source": [
    "def multiply(a,b):\n",
    "    return a*b"
   ]
  },
  {
   "cell_type": "code",
   "execution_count": 109,
   "metadata": {},
   "outputs": [],
   "source": [
    "multiply = lambda a,b:a*b"
   ]
  },
  {
   "cell_type": "markdown",
   "metadata": {},
   "source": [
    "### Using Lambda Functions to analyze json data"
   ]
  },
  {
   "cell_type": "code",
   "execution_count": 110,
   "metadata": {},
   "outputs": [
    {
     "name": "stdout",
     "output_type": "stream",
     "text": [
      "[\n",
      "    {\n",
      "        \"age\": 36,\n",
      "        \"favorite_foods\": [\n",
      "            \"Pumpkin\",\n",
      "            \"Oatmeal\"\n",
      "        ],\n",
      "        \"name\": \"Sabine\"\n",
      "    },\n",
      "    {\n",
      "        \"age\": 40,\n",
      "        \"favorite_foods\": [\n",
      "            \"Chicken\",\n",
      "            \"Pizza\",\n",
      "            \"Chocolate\"\n",
      "        ],\n",
      "        \"name\": \"Zoe\"\n",
      "    },\n",
      "    {\n",
      "        \"age\": 40,\n",
      "        \"favorite_foods\": [\n",
      "            \"Caesar Salad\"\n",
      "        ],\n",
      "        \"name\": \"Heidi\"\n",
      "    }\n",
      "]\n"
     ]
    }
   ],
   "source": [
    "jprint(json_obj)"
   ]
  },
  {
   "cell_type": "code",
   "execution_count": 111,
   "metadata": {},
   "outputs": [
    {
     "data": {
      "text/plain": [
       "[{'name': 'Heidi', 'age': 40, 'favorite_foods': ['Caesar Salad']},\n",
       " {'name': 'Sabine', 'age': 36, 'favorite_foods': ['Pumpkin', 'Oatmeal']},\n",
       " {'name': 'Zoe',\n",
       "  'age': 40,\n",
       "  'favorite_foods': ['Chicken', 'Pizza', 'Chocolate']}]"
      ]
     },
     "execution_count": 111,
     "metadata": {},
     "output_type": "execute_result"
    }
   ],
   "source": [
    "sorted(json_obj, key = lambda d:d['name'])"
   ]
  },
  {
   "cell_type": "code",
   "execution_count": 113,
   "metadata": {},
   "outputs": [
    {
     "name": "stdout",
     "output_type": "stream",
     "text": [
      "{\n",
      "    \"age\": 36,\n",
      "    \"favorite_foods\": [\n",
      "        \"Pumpkin\",\n",
      "        \"Oatmeal\"\n",
      "    ],\n",
      "    \"name\": \"Sabine\"\n",
      "}\n"
     ]
    }
   ],
   "source": [
    "def get_age(json_dict):\n",
    "    return json_dict['age']\n",
    "youngest = min(json_obj, key = get_age)\n",
    "jprint(youngest)"
   ]
  },
  {
   "cell_type": "code",
   "execution_count": 112,
   "metadata": {},
   "outputs": [
    {
     "data": {
      "text/plain": [
       "{'name': 'Sabine', 'age': 36, 'favorite_foods': ['Pumpkin', 'Oatmeal']}"
      ]
     },
     "execution_count": 112,
     "metadata": {},
     "output_type": "execute_result"
    }
   ],
   "source": [
    "min(json_obj, key = lambda json_dict:json_dict['age'])"
   ]
  },
  {
   "cell_type": "code",
   "execution_count": 114,
   "metadata": {},
   "outputs": [
    {
     "data": {
      "text/plain": [
       "{'name': 'Sabine', 'age': 36, 'favorite_foods': ['Pumpkin', 'Oatmeal']}"
      ]
     },
     "execution_count": 114,
     "metadata": {},
     "output_type": "execute_result"
    }
   ],
   "source": [
    "min(json_obj, key = lambda d:d['age'])"
   ]
  },
  {
   "cell_type": "code",
   "execution_count": 116,
   "metadata": {},
   "outputs": [
    {
     "name": "stdout",
     "output_type": "stream",
     "text": [
      "{\n",
      "    \"age\": 40,\n",
      "    \"favorite_foods\": [\n",
      "        \"Chicken\",\n",
      "        \"Pizza\",\n",
      "        \"Chocolate\"\n",
      "    ],\n",
      "    \"name\": \"Zoe\"\n",
      "}\n"
     ]
    }
   ],
   "source": [
    "def get_age(json_dict):\n",
    "    return len(json_dict['favorite_foods'])\n",
    "maximum = max(json_obj, key = get_age)\n",
    "jprint(maximum)"
   ]
  },
  {
   "cell_type": "code",
   "execution_count": 119,
   "metadata": {},
   "outputs": [
    {
     "data": {
      "text/plain": [
       "{'name': 'Zoe', 'age': 40, 'favorite_foods': ['Chicken', 'Pizza', 'Chocolate']}"
      ]
     },
     "execution_count": 119,
     "metadata": {},
     "output_type": "execute_result"
    }
   ],
   "source": [
    "max(json_obj, key = lambda d:len(d['favorite_foods']))"
   ]
  },
  {
   "cell_type": "markdown",
   "metadata": {},
   "source": [
    "### Instructions\n",
    "\n",
    "1. Using sorted() and a lambda function, sort the hn_clean JSON list by the number of points (dictionary key points) from highest to lowest:\n",
    "2. Check the documentation for sorted() to see how to reverse the order to highest to lowest.\n",
    "3. Assign the result to hn_sorted_points.\n",
    "4. Use a list comprehension to return a list of the five post titles (dictionary key title) that have the most points in our data set:\n",
    "5. Assign the result to top_5_titles.\n"
   ]
  },
  {
   "cell_type": "code",
   "execution_count": 120,
   "metadata": {},
   "outputs": [],
   "source": [
    "hn_sorted_points = sorted(hn_clean, key = lambda d:d['points'], reverse = True)"
   ]
  },
  {
   "cell_type": "code",
   "execution_count": 127,
   "metadata": {},
   "outputs": [],
   "source": [
    "top_5_titles = [i['title'] for i in hn_sorted_points ]"
   ]
  },
  {
   "cell_type": "code",
   "execution_count": 130,
   "metadata": {},
   "outputs": [
    {
     "data": {
      "text/plain": [
       "['2048',\n",
       " 'Today is The Day We Fight Back',\n",
       " 'Wozniak: “Actually, the movie was largely a lie about me”',\n",
       " 'Microsoft Open Sources C# Compiler',\n",
       " 'Elon Musk: To the People of New Jersey']"
      ]
     },
     "execution_count": 130,
     "metadata": {},
     "output_type": "execute_result"
    }
   ],
   "source": [
    "top_5_titles[0:5]"
   ]
  },
  {
   "cell_type": "markdown",
   "metadata": {},
   "source": [
    "### Reading JSON files into pandas"
   ]
  },
  {
   "cell_type": "code",
   "execution_count": 131,
   "metadata": {},
   "outputs": [
    {
     "name": "stdout",
     "output_type": "stream",
     "text": [
      "[\n",
      "    {\n",
      "        \"age\": 36,\n",
      "        \"favorite_foods\": [\n",
      "            \"Pumpkin\",\n",
      "            \"Oatmeal\"\n",
      "        ],\n",
      "        \"name\": \"Sabine\"\n",
      "    },\n",
      "    {\n",
      "        \"age\": 40,\n",
      "        \"favorite_foods\": [\n",
      "            \"Chicken\",\n",
      "            \"Pizza\",\n",
      "            \"Chocolate\"\n",
      "        ],\n",
      "        \"name\": \"Zoe\"\n",
      "    },\n",
      "    {\n",
      "        \"age\": 40,\n",
      "        \"favorite_foods\": [\n",
      "            \"Caesar Salad\"\n",
      "        ],\n",
      "        \"name\": \"Heidi\"\n",
      "    }\n",
      "]\n"
     ]
    }
   ],
   "source": [
    "jprint(json_obj)"
   ]
  },
  {
   "cell_type": "code",
   "execution_count": 132,
   "metadata": {},
   "outputs": [
    {
     "name": "stdout",
     "output_type": "stream",
     "text": [
      "   age               favorite_foods    name\n",
      "0   36           [Pumpkin, Oatmeal]  Sabine\n",
      "1   40  [Chicken, Pizza, Chocolate]     Zoe\n",
      "2   40               [Caesar Salad]   Heidi\n"
     ]
    }
   ],
   "source": [
    "json_df = pd.DataFrame(json_obj)\n",
    "print(json_df)"
   ]
  },
  {
   "cell_type": "code",
   "execution_count": 135,
   "metadata": {},
   "outputs": [
    {
     "name": "stdout",
     "output_type": "stream",
     "text": [
      "           author             createdAt  numComments objectId  points  \\\n",
      "0  dragongraphics  2014-05-29T08:07:50Z            0  7815238       2   \n",
      "1             jcr  2014-05-29T08:05:58Z            0  7815234       1   \n",
      "\n",
      "  storyText                                           tags  \\\n",
      "0            [story, author_dragongraphics, story_7815238]   \n",
      "1                       [story, author_jcr, story_7815234]   \n",
      "\n",
      "                                               title  \\\n",
      "0  Are we getting too Sassy? Weighing up micro-op...   \n",
      "1  Telemba Turns Your Old Roomba and Tablet Into ...   \n",
      "\n",
      "                                                 url  \n",
      "0  http://ashleynolan.co.uk/blog/are-we-getting-t...  \n",
      "1  http://spectrum.ieee.org/automaton/robotics/ho...  \n"
     ]
    }
   ],
   "source": [
    "hn_df = pd.DataFrame(hn_clean)\n",
    "print(hn_df.head(2))"
   ]
  },
  {
   "cell_type": "markdown",
   "metadata": {},
   "source": [
    "### Exploring Tags Using the Apply Function"
   ]
  },
  {
   "cell_type": "code",
   "execution_count": 136,
   "metadata": {},
   "outputs": [
    {
     "data": {
      "text/html": [
       "<div>\n",
       "<style scoped>\n",
       "    .dataframe tbody tr th:only-of-type {\n",
       "        vertical-align: middle;\n",
       "    }\n",
       "\n",
       "    .dataframe tbody tr th {\n",
       "        vertical-align: top;\n",
       "    }\n",
       "\n",
       "    .dataframe thead th {\n",
       "        text-align: right;\n",
       "    }\n",
       "</style>\n",
       "<table border=\"1\" class=\"dataframe\">\n",
       "  <thead>\n",
       "    <tr style=\"text-align: right;\">\n",
       "      <th></th>\n",
       "      <th>author</th>\n",
       "      <th>createdAt</th>\n",
       "      <th>numComments</th>\n",
       "      <th>objectId</th>\n",
       "      <th>points</th>\n",
       "      <th>storyText</th>\n",
       "      <th>tags</th>\n",
       "      <th>title</th>\n",
       "      <th>url</th>\n",
       "    </tr>\n",
       "  </thead>\n",
       "  <tbody>\n",
       "    <tr>\n",
       "      <th>0</th>\n",
       "      <td>dragongraphics</td>\n",
       "      <td>2014-05-29T08:07:50Z</td>\n",
       "      <td>0</td>\n",
       "      <td>7815238</td>\n",
       "      <td>2</td>\n",
       "      <td></td>\n",
       "      <td>[story, author_dragongraphics, story_7815238]</td>\n",
       "      <td>Are we getting too Sassy? Weighing up micro-op...</td>\n",
       "      <td>http://ashleynolan.co.uk/blog/are-we-getting-t...</td>\n",
       "    </tr>\n",
       "    <tr>\n",
       "      <th>1</th>\n",
       "      <td>jcr</td>\n",
       "      <td>2014-05-29T08:05:58Z</td>\n",
       "      <td>0</td>\n",
       "      <td>7815234</td>\n",
       "      <td>1</td>\n",
       "      <td></td>\n",
       "      <td>[story, author_jcr, story_7815234]</td>\n",
       "      <td>Telemba Turns Your Old Roomba and Tablet Into ...</td>\n",
       "      <td>http://spectrum.ieee.org/automaton/robotics/ho...</td>\n",
       "    </tr>\n",
       "    <tr>\n",
       "      <th>2</th>\n",
       "      <td>callum85</td>\n",
       "      <td>2014-05-29T08:05:06Z</td>\n",
       "      <td>0</td>\n",
       "      <td>7815230</td>\n",
       "      <td>1</td>\n",
       "      <td></td>\n",
       "      <td>[story, author_callum85, story_7815230]</td>\n",
       "      <td>Apple Agrees to Buy Beats for $3 Billion</td>\n",
       "      <td>http://online.wsj.com/articles/apple-to-buy-be...</td>\n",
       "    </tr>\n",
       "    <tr>\n",
       "      <th>3</th>\n",
       "      <td>d3v3r0</td>\n",
       "      <td>2014-05-29T08:00:08Z</td>\n",
       "      <td>0</td>\n",
       "      <td>7815222</td>\n",
       "      <td>1</td>\n",
       "      <td></td>\n",
       "      <td>[story, author_d3v3r0, story_7815222]</td>\n",
       "      <td>Don’t wait for inspiration</td>\n",
       "      <td>http://alexsblog.org/2014/05/29/dont-wait-for-...</td>\n",
       "    </tr>\n",
       "    <tr>\n",
       "      <th>4</th>\n",
       "      <td>timmipetit</td>\n",
       "      <td>2014-05-29T07:46:19Z</td>\n",
       "      <td>0</td>\n",
       "      <td>7815191</td>\n",
       "      <td>1</td>\n",
       "      <td></td>\n",
       "      <td>[story, author_timmipetit, story_7815191]</td>\n",
       "      <td>HackerOne Get $9M In Series A Funding To Build...</td>\n",
       "      <td>http://techcrunch.com/2014/05/28/hackerone-get...</td>\n",
       "    </tr>\n",
       "  </tbody>\n",
       "</table>\n",
       "</div>"
      ],
      "text/plain": [
       "           author             createdAt  numComments objectId  points  \\\n",
       "0  dragongraphics  2014-05-29T08:07:50Z            0  7815238       2   \n",
       "1             jcr  2014-05-29T08:05:58Z            0  7815234       1   \n",
       "2        callum85  2014-05-29T08:05:06Z            0  7815230       1   \n",
       "3          d3v3r0  2014-05-29T08:00:08Z            0  7815222       1   \n",
       "4      timmipetit  2014-05-29T07:46:19Z            0  7815191       1   \n",
       "\n",
       "  storyText                                           tags  \\\n",
       "0            [story, author_dragongraphics, story_7815238]   \n",
       "1                       [story, author_jcr, story_7815234]   \n",
       "2                  [story, author_callum85, story_7815230]   \n",
       "3                    [story, author_d3v3r0, story_7815222]   \n",
       "4                [story, author_timmipetit, story_7815191]   \n",
       "\n",
       "                                               title  \\\n",
       "0  Are we getting too Sassy? Weighing up micro-op...   \n",
       "1  Telemba Turns Your Old Roomba and Tablet Into ...   \n",
       "2           Apple Agrees to Buy Beats for $3 Billion   \n",
       "3                         Don’t wait for inspiration   \n",
       "4  HackerOne Get $9M In Series A Funding To Build...   \n",
       "\n",
       "                                                 url  \n",
       "0  http://ashleynolan.co.uk/blog/are-we-getting-t...  \n",
       "1  http://spectrum.ieee.org/automaton/robotics/ho...  \n",
       "2  http://online.wsj.com/articles/apple-to-buy-be...  \n",
       "3  http://alexsblog.org/2014/05/29/dont-wait-for-...  \n",
       "4  http://techcrunch.com/2014/05/28/hackerone-get...  "
      ]
     },
     "execution_count": 136,
     "metadata": {},
     "output_type": "execute_result"
    }
   ],
   "source": [
    "hn_df.head()"
   ]
  },
  {
   "cell_type": "code",
   "execution_count": 137,
   "metadata": {},
   "outputs": [
    {
     "name": "stdout",
     "output_type": "stream",
     "text": [
      "object\n"
     ]
    }
   ],
   "source": [
    "tags = hn_df['tags']\n",
    "print(tags.dtype)"
   ]
  },
  {
   "cell_type": "markdown",
   "metadata": {},
   "source": [
    "The tags column is stored as an object type. Whenever pandas uses the object type, each item in the series uses a Python object to store the data. Most commonly we see this type used for string data.\n",
    "\n",
    "We previously learned that we could use the Series.apply() method to apply a function to every item in a series. Let's look at what we get when we pass the type() function as an argument to the column:\n"
   ]
  },
  {
   "cell_type": "code",
   "execution_count": 138,
   "metadata": {},
   "outputs": [
    {
     "name": "stdout",
     "output_type": "stream",
     "text": [
      "<class 'list'>    35806\n",
      "Name: tags, dtype: int64\n"
     ]
    }
   ],
   "source": [
    "tags_types = tags.apply(type)\n",
    "type_counts = tags_types.value_counts(dropna = False)\n",
    "print(type_counts)"
   ]
  },
  {
   "cell_type": "code",
   "execution_count": 139,
   "metadata": {},
   "outputs": [
    {
     "name": "stdout",
     "output_type": "stream",
     "text": [
      "3    33459\n",
      "4     2347\n",
      "Name: tags, dtype: int64\n"
     ]
    }
   ],
   "source": [
    "tags_types = tags.apply(len)\n",
    "type_counts = tags_types.value_counts(dropna = False)\n",
    "print(type_counts)"
   ]
  },
  {
   "cell_type": "code",
   "execution_count": 150,
   "metadata": {},
   "outputs": [],
   "source": [
    "tags_types = tags.apply(len)\n",
    "four_tags = tags[(tags_types == 4)]"
   ]
  },
  {
   "cell_type": "code",
   "execution_count": 148,
   "metadata": {},
   "outputs": [],
   "source": [
    "four_tags = [(tags.apply(len) == 4)"
   ]
  },
  {
   "cell_type": "code",
   "execution_count": 152,
   "metadata": {},
   "outputs": [
    {
     "data": {
      "text/plain": [
       "43     [story, author_alamgir_mand, story_7813869, sh...\n",
       "86       [story, author_cweagans, story_7812404, ask_hn]\n",
       "104    [story, author_nightstrike789, story_7812099, ...\n",
       "107    [story, author_ISeemToBeAVerb, story_7812048, ...\n",
       "109       [story, author_Swizec, story_7812018, show_hn]\n",
       "Name: tags, dtype: object"
      ]
     },
     "execution_count": 152,
     "metadata": {},
     "output_type": "execute_result"
    }
   ],
   "source": [
    "four_tags.head()"
   ]
  },
  {
   "cell_type": "markdown",
   "metadata": {},
   "source": [
    "### Extracting Tags Using Apply with a Lambda Function"
   ]
  },
  {
   "cell_type": "code",
   "execution_count": 153,
   "metadata": {},
   "outputs": [],
   "source": [
    "def extract_tag(l):\n",
    "    if l == 4:\n",
    "        return l[-1]\n",
    "    else:\n",
    "        return None"
   ]
  },
  {
   "cell_type": "code",
   "execution_count": 154,
   "metadata": {},
   "outputs": [],
   "source": [
    "tags_type = tags.apply(extract_tag)"
   ]
  },
  {
   "cell_type": "code",
   "execution_count": 155,
   "metadata": {},
   "outputs": [
    {
     "data": {
      "text/plain": [
       "0    None\n",
       "1    None\n",
       "2    None\n",
       "3    None\n",
       "4    None\n",
       "Name: tags, dtype: object"
      ]
     },
     "execution_count": 155,
     "metadata": {},
     "output_type": "execute_result"
    }
   ],
   "source": [
    "tags_type.head()"
   ]
  },
  {
   "cell_type": "markdown",
   "metadata": {},
   "source": [
    "let's look at how we can complete this operation in a single line.\n",
    "\n",
    "To achieve this, we'll have to use a special version of an if statement known as a ternary operator. You can use the ternary operator whenever you need to return one of two values depending on a boolean expression. The syntax is as follows:\n"
   ]
  },
  {
   "cell_type": "markdown",
   "metadata": {},
   "source": [
    "[on_true] if [expression] else [on_false]"
   ]
  },
  {
   "cell_type": "code",
   "execution_count": 160,
   "metadata": {},
   "outputs": [],
   "source": [
    "l[-1] if len(l)==4 else None"
   ]
  },
  {
   "cell_type": "code",
   "execution_count": 168,
   "metadata": {},
   "outputs": [],
   "source": [
    "def extract_tag(l):\n",
    "    return l[-1] if len(l) == 4 else None"
   ]
  },
  {
   "cell_type": "code",
   "execution_count": 171,
   "metadata": {},
   "outputs": [],
   "source": [
    "cleaned_tags = tags.apply(extract_tag)"
   ]
  },
  {
   "cell_type": "code",
   "execution_count": 173,
   "metadata": {},
   "outputs": [],
   "source": [
    "hn_df['tags'] = cleaned_tags"
   ]
  },
  {
   "cell_type": "code",
   "execution_count": null,
   "metadata": {},
   "outputs": [],
   "source": []
  }
 ],
 "metadata": {
  "kernelspec": {
   "display_name": "Python 3",
   "language": "python",
   "name": "python3"
  },
  "language_info": {
   "codemirror_mode": {
    "name": "ipython",
    "version": 3
   },
   "file_extension": ".py",
   "mimetype": "text/x-python",
   "name": "python",
   "nbconvert_exporter": "python",
   "pygments_lexer": "ipython3",
   "version": "3.6.5"
  }
 },
 "nbformat": 4,
 "nbformat_minor": 2
}
